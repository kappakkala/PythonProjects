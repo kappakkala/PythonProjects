{
 "cells": [
  {
   "cell_type": "code",
   "execution_count": 1,
   "metadata": {},
   "outputs": [],
   "source": [
    "from pypdf import PdfWriter"
   ]
  },
  {
   "cell_type": "markdown",
   "metadata": {},
   "source": [
    "# Extract and Save PDF into a new file"
   ]
  },
  {
   "cell_type": "code",
   "execution_count": 10,
   "metadata": {},
   "outputs": [],
   "source": [
    "# create a PdfWriter instance\n",
    "writer = PdfWriter()\n",
    "\n",
    "# extracting the first, second and the fourth page of 'source.pdf' to the writer\n",
    "pages_to_extract = [1, 2, 4]\n",
    "writer.append(\"data/source.pdf\", [i-1 for i in pages_to_extract])\n",
    "\n",
    "# write the output to a file\n",
    "output_file = \"data/extracted_output.pdf\"\n",
    "with open(output_file, \"wb\") as output:\n",
    "    writer.write(output)\n",
    "\n",
    "# Close file descriptors\n",
    "writer.close()"
   ]
  },
  {
   "cell_type": "markdown",
   "metadata": {},
   "source": [
    "# Merging PDF's into a new file"
   ]
  },
  {
   "cell_type": "code",
   "execution_count": 11,
   "metadata": {},
   "outputs": [],
   "source": [
    "merger = PdfWriter()\n",
    "\n",
    "files_to_merge = [\"data/source.pdf\", \"data/extracted_output.pdf\"]\n",
    "for file in files_to_merge:\n",
    "    merger.append(file)\n",
    "\n",
    "output_file = \"data/merged_output.pdf\"\n",
    "merger.write(output_file)\n",
    "\n",
    "# closing file descriptor\n",
    "merger.close()"
   ]
  },
  {
   "cell_type": "markdown",
   "metadata": {},
   "source": [
    "# Merging selected pages from multiple PDF's into a new file"
   ]
  },
  {
   "cell_type": "code",
   "execution_count": 13,
   "metadata": {},
   "outputs": [],
   "source": [
    "merger = PdfWriter()\n",
    "\n",
    "input1 = open(\"data/source.pdf\", \"rb\")\n",
    "input2 = open(\"data/extracted_output.pdf\", \"rb\")\n",
    "input3 = open(\"data/merged_output.pdf\", \"rb\")\n",
    "\n",
    "# Add the first page of input1 document to output\n",
    "merger.append(fileobj=input1, pages=(0,1))\n",
    "\n",
    "# Insert the first two pages of input2\n",
    "merger.merge(position=2, fileobj=input2, pages=(0, 2))\n",
    "\n",
    "# Append entire input3 document to the end of the output document\n",
    "merger.append(input3)\n",
    "\n",
    "# Write to an output PDF document\n",
    "output_file = \"data/extracted_output2.pdf\"\n",
    "output = open(output_file, \"wb\")\n",
    "merger.write(output)\n",
    "\n",
    "# Close file descriptors\n",
    "merger.close()\n",
    "output.close()"
   ]
  }
 ],
 "metadata": {
  "kernelspec": {
   "display_name": "venv",
   "language": "python",
   "name": "python3"
  },
  "language_info": {
   "codemirror_mode": {
    "name": "ipython",
    "version": 3
   },
   "file_extension": ".py",
   "mimetype": "text/x-python",
   "name": "python",
   "nbconvert_exporter": "python",
   "pygments_lexer": "ipython3",
   "version": "3.13.1"
  }
 },
 "nbformat": 4,
 "nbformat_minor": 2
}
