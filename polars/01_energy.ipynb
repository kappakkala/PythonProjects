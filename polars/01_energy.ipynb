{
 "cells": [
  {
   "cell_type": "code",
   "execution_count": 1,
   "metadata": {},
   "outputs": [],
   "source": [
    "import time\n",
    "start = time.time()"
   ]
  },
  {
   "cell_type": "code",
   "execution_count": 2,
   "metadata": {},
   "outputs": [
    {
     "data": {
      "application/javascript": "(function(root) {\n  function now() {\n    return new Date();\n  }\n\n  var force = true;\n  var py_version = '3.4.3'.replace('rc', '-rc.').replace('.dev', '-dev.');\n  var reloading = false;\n  var Bokeh = root.Bokeh;\n\n  if (typeof (root._bokeh_timeout) === \"undefined\" || force) {\n    root._bokeh_timeout = Date.now() + 5000;\n    root._bokeh_failed_load = false;\n  }\n\n  function run_callbacks() {\n    try {\n      root._bokeh_onload_callbacks.forEach(function(callback) {\n        if (callback != null)\n          callback();\n      });\n    } finally {\n      delete root._bokeh_onload_callbacks;\n    }\n    console.debug(\"Bokeh: all callbacks have finished\");\n  }\n\n  function load_libs(css_urls, js_urls, js_modules, js_exports, callback) {\n    if (css_urls == null) css_urls = [];\n    if (js_urls == null) js_urls = [];\n    if (js_modules == null) js_modules = [];\n    if (js_exports == null) js_exports = {};\n\n    root._bokeh_onload_callbacks.push(callback);\n\n    if (root._bokeh_is_loading > 0) {\n      console.debug(\"Bokeh: BokehJS is being loaded, scheduling callback at\", now());\n      return null;\n    }\n    if (js_urls.length === 0 && js_modules.length === 0 && Object.keys(js_exports).length === 0) {\n      run_callbacks();\n      return null;\n    }\n    if (!reloading) {\n      console.debug(\"Bokeh: BokehJS not loaded, scheduling load and callback at\", now());\n    }\n\n    function on_load() {\n      root._bokeh_is_loading--;\n      if (root._bokeh_is_loading === 0) {\n        console.debug(\"Bokeh: all BokehJS libraries/stylesheets loaded\");\n        run_callbacks()\n      }\n    }\n    window._bokeh_on_load = on_load\n\n    function on_error() {\n      console.error(\"failed to load \" + url);\n    }\n\n    var skip = [];\n    if (window.requirejs) {\n      window.requirejs.config({'packages': {}, 'paths': {}, 'shim': {}});\n      root._bokeh_is_loading = css_urls.length + 0;\n    } else {\n      root._bokeh_is_loading = css_urls.length + js_urls.length + js_modules.length + Object.keys(js_exports).length;\n    }\n\n    var existing_stylesheets = []\n    var links = document.getElementsByTagName('link')\n    for (var i = 0; i < links.length; i++) {\n      var link = links[i]\n      if (link.href != null) {\n\texisting_stylesheets.push(link.href)\n      }\n    }\n    for (var i = 0; i < css_urls.length; i++) {\n      var url = css_urls[i];\n      if (existing_stylesheets.indexOf(url) !== -1) {\n\ton_load()\n\tcontinue;\n      }\n      const element = document.createElement(\"link\");\n      element.onload = on_load;\n      element.onerror = on_error;\n      element.rel = \"stylesheet\";\n      element.type = \"text/css\";\n      element.href = url;\n      console.debug(\"Bokeh: injecting link tag for BokehJS stylesheet: \", url);\n      document.body.appendChild(element);\n    }    var existing_scripts = []\n    var scripts = document.getElementsByTagName('script')\n    for (var i = 0; i < scripts.length; i++) {\n      var script = scripts[i]\n      if (script.src != null) {\n\texisting_scripts.push(script.src)\n      }\n    }\n    for (var i = 0; i < js_urls.length; i++) {\n      var url = js_urls[i];\n      if (skip.indexOf(url) !== -1 || existing_scripts.indexOf(url) !== -1) {\n\tif (!window.requirejs) {\n\t  on_load();\n\t}\n\tcontinue;\n      }\n      var element = document.createElement('script');\n      element.onload = on_load;\n      element.onerror = on_error;\n      element.async = false;\n      element.src = url;\n      console.debug(\"Bokeh: injecting script tag for BokehJS library: \", url);\n      document.head.appendChild(element);\n    }\n    for (var i = 0; i < js_modules.length; i++) {\n      var url = js_modules[i];\n      if (skip.indexOf(url) !== -1 || existing_scripts.indexOf(url) !== -1) {\n\tif (!window.requirejs) {\n\t  on_load();\n\t}\n\tcontinue;\n      }\n      var element = document.createElement('script');\n      element.onload = on_load;\n      element.onerror = on_error;\n      element.async = false;\n      element.src = url;\n      element.type = \"module\";\n      console.debug(\"Bokeh: injecting script tag for BokehJS library: \", url);\n      document.head.appendChild(element);\n    }\n    for (const name in js_exports) {\n      var url = js_exports[name];\n      if (skip.indexOf(url) >= 0 || root[name] != null) {\n\tif (!window.requirejs) {\n\t  on_load();\n\t}\n\tcontinue;\n      }\n      var element = document.createElement('script');\n      element.onerror = on_error;\n      element.async = false;\n      element.type = \"module\";\n      console.debug(\"Bokeh: injecting script tag for BokehJS library: \", url);\n      element.textContent = `\n      import ${name} from \"${url}\"\n      window.${name} = ${name}\n      window._bokeh_on_load()\n      `\n      document.head.appendChild(element);\n    }\n    if (!js_urls.length && !js_modules.length) {\n      on_load()\n    }\n  };\n\n  function inject_raw_css(css) {\n    const element = document.createElement(\"style\");\n    element.appendChild(document.createTextNode(css));\n    document.body.appendChild(element);\n  }\n\n  var js_urls = [\"https://cdn.bokeh.org/bokeh/release/bokeh-3.4.3.min.js\", \"https://cdn.bokeh.org/bokeh/release/bokeh-gl-3.4.3.min.js\", \"https://cdn.bokeh.org/bokeh/release/bokeh-widgets-3.4.3.min.js\", \"https://cdn.bokeh.org/bokeh/release/bokeh-tables-3.4.3.min.js\", \"https://cdn.holoviz.org/panel/1.4.5/dist/panel.min.js\"];\n  var js_modules = [];\n  var js_exports = {};\n  var css_urls = [];\n  var inline_js = [    function(Bokeh) {\n      Bokeh.set_log_level(\"info\");\n    },\nfunction(Bokeh) {} // ensure no trailing comma for IE\n  ];\n\n  function run_inline_js() {\n    if ((root.Bokeh !== undefined) || (force === true)) {\n      for (var i = 0; i < inline_js.length; i++) {\n\ttry {\n          inline_js[i].call(root, root.Bokeh);\n\t} catch(e) {\n\t  if (!reloading) {\n\t    throw e;\n\t  }\n\t}\n      }\n      // Cache old bokeh versions\n      if (Bokeh != undefined && !reloading) {\n\tvar NewBokeh = root.Bokeh;\n\tif (Bokeh.versions === undefined) {\n\t  Bokeh.versions = new Map();\n\t}\n\tif (NewBokeh.version !== Bokeh.version) {\n\t  Bokeh.versions.set(NewBokeh.version, NewBokeh)\n\t}\n\troot.Bokeh = Bokeh;\n      }} else if (Date.now() < root._bokeh_timeout) {\n      setTimeout(run_inline_js, 100);\n    } else if (!root._bokeh_failed_load) {\n      console.log(\"Bokeh: BokehJS failed to load within specified timeout.\");\n      root._bokeh_failed_load = true;\n    }\n    root._bokeh_is_initializing = false\n  }\n\n  function load_or_wait() {\n    // Implement a backoff loop that tries to ensure we do not load multiple\n    // versions of Bokeh and its dependencies at the same time.\n    // In recent versions we use the root._bokeh_is_initializing flag\n    // to determine whether there is an ongoing attempt to initialize\n    // bokeh, however for backward compatibility we also try to ensure\n    // that we do not start loading a newer (Panel>=1.0 and Bokeh>3) version\n    // before older versions are fully initialized.\n    if (root._bokeh_is_initializing && Date.now() > root._bokeh_timeout) {\n      root._bokeh_is_initializing = false;\n      root._bokeh_onload_callbacks = undefined;\n      console.log(\"Bokeh: BokehJS was loaded multiple times but one version failed to initialize.\");\n      load_or_wait();\n    } else if (root._bokeh_is_initializing || (typeof root._bokeh_is_initializing === \"undefined\" && root._bokeh_onload_callbacks !== undefined)) {\n      setTimeout(load_or_wait, 100);\n    } else {\n      root._bokeh_is_initializing = true\n      root._bokeh_onload_callbacks = []\n      var bokeh_loaded = Bokeh != null && (Bokeh.version === py_version || (Bokeh.versions !== undefined && Bokeh.versions.has(py_version)));\n      if (!reloading && !bokeh_loaded) {\n\troot.Bokeh = undefined;\n      }\n      load_libs(css_urls, js_urls, js_modules, js_exports, function() {\n\tconsole.debug(\"Bokeh: BokehJS plotting callback run at\", now());\n\trun_inline_js();\n      });\n    }\n  }\n  // Give older versions of the autoload script a head-start to ensure\n  // they initialize before we start loading newer version.\n  setTimeout(load_or_wait, 100)\n}(window));",
      "application/vnd.holoviews_load.v0+json": ""
     },
     "metadata": {},
     "output_type": "display_data"
    },
    {
     "data": {
      "application/javascript": "\nif ((window.PyViz === undefined) || (window.PyViz instanceof HTMLElement)) {\n  window.PyViz = {comms: {}, comm_status:{}, kernels:{}, receivers: {}, plot_index: []}\n}\n\n\n    function JupyterCommManager() {\n    }\n\n    JupyterCommManager.prototype.register_target = function(plot_id, comm_id, msg_handler) {\n      if (window.comm_manager || ((window.Jupyter !== undefined) && (Jupyter.notebook.kernel != null))) {\n        var comm_manager = window.comm_manager || Jupyter.notebook.kernel.comm_manager;\n        comm_manager.register_target(comm_id, function(comm) {\n          comm.on_msg(msg_handler);\n        });\n      } else if ((plot_id in window.PyViz.kernels) && (window.PyViz.kernels[plot_id])) {\n        window.PyViz.kernels[plot_id].registerCommTarget(comm_id, function(comm) {\n          comm.onMsg = msg_handler;\n        });\n      } else if (typeof google != 'undefined' && google.colab.kernel != null) {\n        google.colab.kernel.comms.registerTarget(comm_id, (comm) => {\n          var messages = comm.messages[Symbol.asyncIterator]();\n          function processIteratorResult(result) {\n            var message = result.value;\n            console.log(message)\n            var content = {data: message.data, comm_id};\n            var buffers = []\n            for (var buffer of message.buffers || []) {\n              buffers.push(new DataView(buffer))\n            }\n            var metadata = message.metadata || {};\n            var msg = {content, buffers, metadata}\n            msg_handler(msg);\n            return messages.next().then(processIteratorResult);\n          }\n          return messages.next().then(processIteratorResult);\n        })\n      }\n    }\n\n    JupyterCommManager.prototype.get_client_comm = function(plot_id, comm_id, msg_handler) {\n      if (comm_id in window.PyViz.comms) {\n        return window.PyViz.comms[comm_id];\n      } else if (window.comm_manager || ((window.Jupyter !== undefined) && (Jupyter.notebook.kernel != null))) {\n        var comm_manager = window.comm_manager || Jupyter.notebook.kernel.comm_manager;\n        var comm = comm_manager.new_comm(comm_id, {}, {}, {}, comm_id);\n        if (msg_handler) {\n          comm.on_msg(msg_handler);\n        }\n      } else if ((plot_id in window.PyViz.kernels) && (window.PyViz.kernels[plot_id])) {\n        var comm = window.PyViz.kernels[plot_id].connectToComm(comm_id);\n        comm.open();\n        if (msg_handler) {\n          comm.onMsg = msg_handler;\n        }\n      } else if (typeof google != 'undefined' && google.colab.kernel != null) {\n        var comm_promise = google.colab.kernel.comms.open(comm_id)\n        comm_promise.then((comm) => {\n          window.PyViz.comms[comm_id] = comm;\n          if (msg_handler) {\n            var messages = comm.messages[Symbol.asyncIterator]();\n            function processIteratorResult(result) {\n              var message = result.value;\n              var content = {data: message.data};\n              var metadata = message.metadata || {comm_id};\n              var msg = {content, metadata}\n              msg_handler(msg);\n              return messages.next().then(processIteratorResult);\n            }\n            return messages.next().then(processIteratorResult);\n          }\n        }) \n        var sendClosure = (data, metadata, buffers, disposeOnDone) => {\n          return comm_promise.then((comm) => {\n            comm.send(data, metadata, buffers, disposeOnDone);\n          });\n        };\n        var comm = {\n          send: sendClosure\n        };\n      }\n      window.PyViz.comms[comm_id] = comm;\n      return comm;\n    }\n    window.PyViz.comm_manager = new JupyterCommManager();\n    \n\n\nvar JS_MIME_TYPE = 'application/javascript';\nvar HTML_MIME_TYPE = 'text/html';\nvar EXEC_MIME_TYPE = 'application/vnd.holoviews_exec.v0+json';\nvar CLASS_NAME = 'output';\n\n/**\n * Render data to the DOM node\n */\nfunction render(props, node) {\n  var div = document.createElement(\"div\");\n  var script = document.createElement(\"script\");\n  node.appendChild(div);\n  node.appendChild(script);\n}\n\n/**\n * Handle when a new output is added\n */\nfunction handle_add_output(event, handle) {\n  var output_area = handle.output_area;\n  var output = handle.output;\n  if ((output.data == undefined) || (!output.data.hasOwnProperty(EXEC_MIME_TYPE))) {\n    return\n  }\n  var id = output.metadata[EXEC_MIME_TYPE][\"id\"];\n  var toinsert = output_area.element.find(\".\" + CLASS_NAME.split(' ')[0]);\n  if (id !== undefined) {\n    var nchildren = toinsert.length;\n    var html_node = toinsert[nchildren-1].children[0];\n    html_node.innerHTML = output.data[HTML_MIME_TYPE];\n    var scripts = [];\n    var nodelist = html_node.querySelectorAll(\"script\");\n    for (var i in nodelist) {\n      if (nodelist.hasOwnProperty(i)) {\n        scripts.push(nodelist[i])\n      }\n    }\n\n    scripts.forEach( function (oldScript) {\n      var newScript = document.createElement(\"script\");\n      var attrs = [];\n      var nodemap = oldScript.attributes;\n      for (var j in nodemap) {\n        if (nodemap.hasOwnProperty(j)) {\n          attrs.push(nodemap[j])\n        }\n      }\n      attrs.forEach(function(attr) { newScript.setAttribute(attr.name, attr.value) });\n      newScript.appendChild(document.createTextNode(oldScript.innerHTML));\n      oldScript.parentNode.replaceChild(newScript, oldScript);\n    });\n    if (JS_MIME_TYPE in output.data) {\n      toinsert[nchildren-1].children[1].textContent = output.data[JS_MIME_TYPE];\n    }\n    output_area._hv_plot_id = id;\n    if ((window.Bokeh !== undefined) && (id in Bokeh.index)) {\n      window.PyViz.plot_index[id] = Bokeh.index[id];\n    } else {\n      window.PyViz.plot_index[id] = null;\n    }\n  } else if (output.metadata[EXEC_MIME_TYPE][\"server_id\"] !== undefined) {\n    var bk_div = document.createElement(\"div\");\n    bk_div.innerHTML = output.data[HTML_MIME_TYPE];\n    var script_attrs = bk_div.children[0].attributes;\n    for (var i = 0; i < script_attrs.length; i++) {\n      toinsert[toinsert.length - 1].childNodes[1].setAttribute(script_attrs[i].name, script_attrs[i].value);\n    }\n    // store reference to server id on output_area\n    output_area._bokeh_server_id = output.metadata[EXEC_MIME_TYPE][\"server_id\"];\n  }\n}\n\n/**\n * Handle when an output is cleared or removed\n */\nfunction handle_clear_output(event, handle) {\n  var id = handle.cell.output_area._hv_plot_id;\n  var server_id = handle.cell.output_area._bokeh_server_id;\n  if (((id === undefined) || !(id in PyViz.plot_index)) && (server_id !== undefined)) { return; }\n  var comm = window.PyViz.comm_manager.get_client_comm(\"hv-extension-comm\", \"hv-extension-comm\", function () {});\n  if (server_id !== null) {\n    comm.send({event_type: 'server_delete', 'id': server_id});\n    return;\n  } else if (comm !== null) {\n    comm.send({event_type: 'delete', 'id': id});\n  }\n  delete PyViz.plot_index[id];\n  if ((window.Bokeh !== undefined) & (id in window.Bokeh.index)) {\n    var doc = window.Bokeh.index[id].model.document\n    doc.clear();\n    const i = window.Bokeh.documents.indexOf(doc);\n    if (i > -1) {\n      window.Bokeh.documents.splice(i, 1);\n    }\n  }\n}\n\n/**\n * Handle kernel restart event\n */\nfunction handle_kernel_cleanup(event, handle) {\n  delete PyViz.comms[\"hv-extension-comm\"];\n  window.PyViz.plot_index = {}\n}\n\n/**\n * Handle update_display_data messages\n */\nfunction handle_update_output(event, handle) {\n  handle_clear_output(event, {cell: {output_area: handle.output_area}})\n  handle_add_output(event, handle)\n}\n\nfunction register_renderer(events, OutputArea) {\n  function append_mime(data, metadata, element) {\n    // create a DOM node to render to\n    var toinsert = this.create_output_subarea(\n    metadata,\n    CLASS_NAME,\n    EXEC_MIME_TYPE\n    );\n    this.keyboard_manager.register_events(toinsert);\n    // Render to node\n    var props = {data: data, metadata: metadata[EXEC_MIME_TYPE]};\n    render(props, toinsert[0]);\n    element.append(toinsert);\n    return toinsert\n  }\n\n  events.on('output_added.OutputArea', handle_add_output);\n  events.on('output_updated.OutputArea', handle_update_output);\n  events.on('clear_output.CodeCell', handle_clear_output);\n  events.on('delete.Cell', handle_clear_output);\n  events.on('kernel_ready.Kernel', handle_kernel_cleanup);\n\n  OutputArea.prototype.register_mime_type(EXEC_MIME_TYPE, append_mime, {\n    safe: true,\n    index: 0\n  });\n}\n\nif (window.Jupyter !== undefined) {\n  try {\n    var events = require('base/js/events');\n    var OutputArea = require('notebook/js/outputarea').OutputArea;\n    if (OutputArea.prototype.mime_types().indexOf(EXEC_MIME_TYPE) == -1) {\n      register_renderer(events, OutputArea);\n    }\n  } catch(err) {\n  }\n}\n",
      "application/vnd.holoviews_load.v0+json": ""
     },
     "metadata": {},
     "output_type": "display_data"
    },
    {
     "data": {
      "text/html": [
       "<style>*[data-root-id],\n",
       "*[data-root-id] > * {\n",
       "  box-sizing: border-box;\n",
       "  font-family: var(--jp-ui-font-family);\n",
       "  font-size: var(--jp-ui-font-size1);\n",
       "  color: var(--vscode-editor-foreground, var(--jp-ui-font-color1));\n",
       "}\n",
       "\n",
       "/* Override VSCode background color */\n",
       ".cell-output-ipywidget-background:has(\n",
       "    > .cell-output-ipywidget-background > .lm-Widget > *[data-root-id]\n",
       "  ),\n",
       ".cell-output-ipywidget-background:has(> .lm-Widget > *[data-root-id]) {\n",
       "  background-color: transparent !important;\n",
       "}\n",
       "</style>"
      ]
     },
     "metadata": {},
     "output_type": "display_data"
    },
    {
     "data": {
      "application/vnd.holoviews_exec.v0+json": "",
      "text/html": [
       "<div id='p1002'>\n",
       "  <div id=\"a330cb94-075c-4e53-a844-eb59f40209fc\" data-root-id=\"p1002\" style=\"display: contents;\"></div>\n",
       "</div>\n",
       "<script type=\"application/javascript\">(function(root) {\n",
       "  var docs_json = {\"a834db58-56f3-48eb-8232-49f45e05c83b\":{\"version\":\"3.4.3\",\"title\":\"Bokeh Application\",\"roots\":[{\"type\":\"object\",\"name\":\"panel.models.browser.BrowserInfo\",\"id\":\"p1002\"},{\"type\":\"object\",\"name\":\"panel.models.comm_manager.CommManager\",\"id\":\"p1003\",\"attributes\":{\"plot_id\":\"p1002\",\"comm_id\":\"ef8c655d67e34c19ba6f2d9f66c794db\",\"client_comm_id\":\"f90aab18304042a8a44380a88757b068\"}}],\"defs\":[{\"type\":\"model\",\"name\":\"ReactiveHTML1\"},{\"type\":\"model\",\"name\":\"FlexBox1\",\"properties\":[{\"name\":\"align_content\",\"kind\":\"Any\",\"default\":\"flex-start\"},{\"name\":\"align_items\",\"kind\":\"Any\",\"default\":\"flex-start\"},{\"name\":\"flex_direction\",\"kind\":\"Any\",\"default\":\"row\"},{\"name\":\"flex_wrap\",\"kind\":\"Any\",\"default\":\"wrap\"},{\"name\":\"gap\",\"kind\":\"Any\",\"default\":\"\"},{\"name\":\"justify_content\",\"kind\":\"Any\",\"default\":\"flex-start\"}]},{\"type\":\"model\",\"name\":\"FloatPanel1\",\"properties\":[{\"name\":\"config\",\"kind\":\"Any\",\"default\":{\"type\":\"map\"}},{\"name\":\"contained\",\"kind\":\"Any\",\"default\":true},{\"name\":\"position\",\"kind\":\"Any\",\"default\":\"right-top\"},{\"name\":\"offsetx\",\"kind\":\"Any\",\"default\":null},{\"name\":\"offsety\",\"kind\":\"Any\",\"default\":null},{\"name\":\"theme\",\"kind\":\"Any\",\"default\":\"primary\"},{\"name\":\"status\",\"kind\":\"Any\",\"default\":\"normalized\"}]},{\"type\":\"model\",\"name\":\"GridStack1\",\"properties\":[{\"name\":\"mode\",\"kind\":\"Any\",\"default\":\"warn\"},{\"name\":\"ncols\",\"kind\":\"Any\",\"default\":null},{\"name\":\"nrows\",\"kind\":\"Any\",\"default\":null},{\"name\":\"allow_resize\",\"kind\":\"Any\",\"default\":true},{\"name\":\"allow_drag\",\"kind\":\"Any\",\"default\":true},{\"name\":\"state\",\"kind\":\"Any\",\"default\":[]}]},{\"type\":\"model\",\"name\":\"drag1\",\"properties\":[{\"name\":\"slider_width\",\"kind\":\"Any\",\"default\":5},{\"name\":\"slider_color\",\"kind\":\"Any\",\"default\":\"black\"},{\"name\":\"value\",\"kind\":\"Any\",\"default\":50}]},{\"type\":\"model\",\"name\":\"click1\",\"properties\":[{\"name\":\"terminal_output\",\"kind\":\"Any\",\"default\":\"\"},{\"name\":\"debug_name\",\"kind\":\"Any\",\"default\":\"\"},{\"name\":\"clears\",\"kind\":\"Any\",\"default\":0}]},{\"type\":\"model\",\"name\":\"FastWrapper1\",\"properties\":[{\"name\":\"object\",\"kind\":\"Any\",\"default\":null},{\"name\":\"style\",\"kind\":\"Any\",\"default\":null}]},{\"type\":\"model\",\"name\":\"NotificationAreaBase1\",\"properties\":[{\"name\":\"js_events\",\"kind\":\"Any\",\"default\":{\"type\":\"map\"}},{\"name\":\"position\",\"kind\":\"Any\",\"default\":\"bottom-right\"},{\"name\":\"_clear\",\"kind\":\"Any\",\"default\":0}]},{\"type\":\"model\",\"name\":\"NotificationArea1\",\"properties\":[{\"name\":\"js_events\",\"kind\":\"Any\",\"default\":{\"type\":\"map\"}},{\"name\":\"notifications\",\"kind\":\"Any\",\"default\":[]},{\"name\":\"position\",\"kind\":\"Any\",\"default\":\"bottom-right\"},{\"name\":\"_clear\",\"kind\":\"Any\",\"default\":0},{\"name\":\"types\",\"kind\":\"Any\",\"default\":[{\"type\":\"map\",\"entries\":[[\"type\",\"warning\"],[\"background\",\"#ffc107\"],[\"icon\",{\"type\":\"map\",\"entries\":[[\"className\",\"fas fa-exclamation-triangle\"],[\"tagName\",\"i\"],[\"color\",\"white\"]]}]]},{\"type\":\"map\",\"entries\":[[\"type\",\"info\"],[\"background\",\"#007bff\"],[\"icon\",{\"type\":\"map\",\"entries\":[[\"className\",\"fas fa-info-circle\"],[\"tagName\",\"i\"],[\"color\",\"white\"]]}]]}]}]},{\"type\":\"model\",\"name\":\"Notification\",\"properties\":[{\"name\":\"background\",\"kind\":\"Any\",\"default\":null},{\"name\":\"duration\",\"kind\":\"Any\",\"default\":3000},{\"name\":\"icon\",\"kind\":\"Any\",\"default\":null},{\"name\":\"message\",\"kind\":\"Any\",\"default\":\"\"},{\"name\":\"notification_type\",\"kind\":\"Any\",\"default\":null},{\"name\":\"_destroyed\",\"kind\":\"Any\",\"default\":false}]},{\"type\":\"model\",\"name\":\"TemplateActions1\",\"properties\":[{\"name\":\"open_modal\",\"kind\":\"Any\",\"default\":0},{\"name\":\"close_modal\",\"kind\":\"Any\",\"default\":0}]},{\"type\":\"model\",\"name\":\"BootstrapTemplateActions1\",\"properties\":[{\"name\":\"open_modal\",\"kind\":\"Any\",\"default\":0},{\"name\":\"close_modal\",\"kind\":\"Any\",\"default\":0}]},{\"type\":\"model\",\"name\":\"TemplateEditor1\",\"properties\":[{\"name\":\"layout\",\"kind\":\"Any\",\"default\":[]}]},{\"type\":\"model\",\"name\":\"MaterialTemplateActions1\",\"properties\":[{\"name\":\"open_modal\",\"kind\":\"Any\",\"default\":0},{\"name\":\"close_modal\",\"kind\":\"Any\",\"default\":0}]},{\"type\":\"model\",\"name\":\"copy_to_clipboard1\",\"properties\":[{\"name\":\"fill\",\"kind\":\"Any\",\"default\":\"none\"},{\"name\":\"value\",\"kind\":\"Any\",\"default\":null}]}]}};\n",
       "  var render_items = [{\"docid\":\"a834db58-56f3-48eb-8232-49f45e05c83b\",\"roots\":{\"p1002\":\"a330cb94-075c-4e53-a844-eb59f40209fc\"},\"root_ids\":[\"p1002\"]}];\n",
       "  var docs = Object.values(docs_json)\n",
       "  if (!docs) {\n",
       "    return\n",
       "  }\n",
       "  const py_version = docs[0].version.replace('rc', '-rc.').replace('.dev', '-dev.')\n",
       "  async function embed_document(root) {\n",
       "    var Bokeh = get_bokeh(root)\n",
       "    await Bokeh.embed.embed_items_notebook(docs_json, render_items);\n",
       "    for (const render_item of render_items) {\n",
       "      for (const root_id of render_item.root_ids) {\n",
       "\tconst id_el = document.getElementById(root_id)\n",
       "\tif (id_el.children.length && id_el.children[0].hasAttribute('data-root-id')) {\n",
       "\t  const root_el = id_el.children[0]\n",
       "\t  root_el.id = root_el.id + '-rendered'\n",
       "\t  for (const child of root_el.children) {\n",
       "            // Ensure JupyterLab does not capture keyboard shortcuts\n",
       "            // see: https://jupyterlab.readthedocs.io/en/4.1.x/extension/notebook.html#keyboard-interaction-model\n",
       "\t    child.setAttribute('data-lm-suppress-shortcuts', 'true')\n",
       "\t  }\n",
       "\t}\n",
       "      }\n",
       "    }\n",
       "  }\n",
       "  function get_bokeh(root) {\n",
       "    if (root.Bokeh === undefined) {\n",
       "      return null\n",
       "    } else if (root.Bokeh.version !== py_version) {\n",
       "      if (root.Bokeh.versions === undefined || !root.Bokeh.versions.has(py_version)) {\n",
       "\treturn null\n",
       "      }\n",
       "      return root.Bokeh.versions.get(py_version);\n",
       "    } else if (root.Bokeh.version === py_version) {\n",
       "      return root.Bokeh\n",
       "    }\n",
       "    return null\n",
       "  }\n",
       "  function is_loaded(root) {\n",
       "    var Bokeh = get_bokeh(root)\n",
       "    return (Bokeh != null && Bokeh.Panel !== undefined)\n",
       "  }\n",
       "  if (is_loaded(root)) {\n",
       "    embed_document(root);\n",
       "  } else {\n",
       "    var attempts = 0;\n",
       "    var timer = setInterval(function(root) {\n",
       "      if (is_loaded(root)) {\n",
       "        clearInterval(timer);\n",
       "        embed_document(root);\n",
       "      } else if (document.readyState == \"complete\") {\n",
       "        attempts++;\n",
       "        if (attempts > 200) {\n",
       "          clearInterval(timer);\n",
       "\t  var Bokeh = get_bokeh(root)\n",
       "\t  if (Bokeh == null || Bokeh.Panel == null) {\n",
       "            console.warn(\"Panel: ERROR: Unable to run Panel code because Bokeh or Panel library is missing\");\n",
       "\t  } else {\n",
       "\t    console.warn(\"Panel: WARNING: Attempting to render but not all required libraries could be resolved.\")\n",
       "\t    embed_document(root)\n",
       "\t  }\n",
       "        }\n",
       "      }\n",
       "    }, 25, root)\n",
       "  }\n",
       "})(window);</script>"
      ]
     },
     "metadata": {
      "application/vnd.holoviews_exec.v0+json": {
       "id": "p1002"
      }
     },
     "output_type": "display_data"
    }
   ],
   "source": [
    "import polars as pl\n",
    "import hvplot.polars\n",
    "import numpy as np\n",
    "from datetime import datetime\n",
    "import matplotlib.pyplot as plt"
   ]
  },
  {
   "cell_type": "code",
   "execution_count": 3,
   "metadata": {},
   "outputs": [
    {
     "name": "stdout",
     "output_type": "stream",
     "text": [
      "CPU times: total: 14.5 s\n",
      "Wall time: 3.93 s\n"
     ]
    },
    {
     "data": {
      "text/html": [
       "<div><style>\n",
       ".dataframe > thead > tr,\n",
       ".dataframe > tbody > tr {\n",
       "  text-align: right;\n",
       "  white-space: pre-wrap;\n",
       "}\n",
       "</style>\n",
       "<small>shape: (12_885_204, 3)</small><table border=\"1\" class=\"dataframe\"><thead><tr><th>time</th><th>Channel</th><th>Wert</th></tr><tr><td>str</td><td>str</td><td>f64</td></tr></thead><tbody><tr><td>&quot;2023-01-01 00:00:58.617&quot;</td><td>&quot;getTempA&quot;</td><td>12.5</td></tr><tr><td>&quot;2023-01-01 00:00:58.618&quot;</td><td>&quot;getTempAged&quot;</td><td>12.8</td></tr><tr><td>&quot;2023-01-01 00:00:58.618&quot;</td><td>&quot;getTempAtp&quot;</td><td>12.5</td></tr><tr><td>&quot;2023-01-01 00:00:58.619&quot;</td><td>&quot;getTempWWist&quot;</td><td>22.700001</td></tr><tr><td>&quot;2023-01-01 00:00:58.62&quot;</td><td>&quot;getTempAbgas&quot;</td><td>19.0</td></tr><tr><td>&hellip;</td><td>&hellip;</td><td>&hellip;</td></tr><tr><td>&quot;2023-12-31 23:59:55.886&quot;</td><td>&quot;getPumpeDrehzahlIntern&quot;</td><td>0.0</td></tr><tr><td>&quot;2023-12-31 23:59:55.886&quot;</td><td>&quot;getStatusStoerung&quot;</td><td>0.0</td></tr><tr><td>&quot;2023-12-31 23:59:55.887&quot;</td><td>&quot;getNeigungM1&quot;</td><td>0.6</td></tr><tr><td>&quot;2023-12-31 23:59:55.887&quot;</td><td>&quot;getNiveauM1&quot;</td><td>0.0</td></tr><tr><td>&quot;2023-12-31 23:59:55.888&quot;</td><td>&quot;getTempVLsollM1&quot;</td><td>0.0</td></tr></tbody></table></div>"
      ],
      "text/plain": [
       "shape: (12_885_204, 3)\n",
       "┌─────────────────────────┬────────────────────────┬───────────┐\n",
       "│ time                    ┆ Channel                ┆ Wert      │\n",
       "│ ---                     ┆ ---                    ┆ ---       │\n",
       "│ str                     ┆ str                    ┆ f64       │\n",
       "╞═════════════════════════╪════════════════════════╪═══════════╡\n",
       "│ 2023-01-01 00:00:58.617 ┆ getTempA               ┆ 12.5      │\n",
       "│ 2023-01-01 00:00:58.618 ┆ getTempAged            ┆ 12.8      │\n",
       "│ 2023-01-01 00:00:58.618 ┆ getTempAtp             ┆ 12.5      │\n",
       "│ 2023-01-01 00:00:58.619 ┆ getTempWWist           ┆ 22.700001 │\n",
       "│ 2023-01-01 00:00:58.62  ┆ getTempAbgas           ┆ 19.0      │\n",
       "│ …                       ┆ …                      ┆ …         │\n",
       "│ 2023-12-31 23:59:55.886 ┆ getPumpeDrehzahlIntern ┆ 0.0       │\n",
       "│ 2023-12-31 23:59:55.886 ┆ getStatusStoerung      ┆ 0.0       │\n",
       "│ 2023-12-31 23:59:55.887 ┆ getNeigungM1           ┆ 0.6       │\n",
       "│ 2023-12-31 23:59:55.887 ┆ getNiveauM1            ┆ 0.0       │\n",
       "│ 2023-12-31 23:59:55.888 ┆ getTempVLsollM1        ┆ 0.0       │\n",
       "└─────────────────────────┴────────────────────────┴───────────┘"
      ]
     },
     "execution_count": 3,
     "metadata": {},
     "output_type": "execute_result"
    }
   ],
   "source": [
    "%%time\n",
    "df0 = pl.read_csv('data/src/heizung*.csv',columns=['time','Channel','Wert'],try_parse_dates=True).sort(by='time')\n",
    "df0"
   ]
  },
  {
   "cell_type": "code",
   "execution_count": 9,
   "metadata": {},
   "outputs": [],
   "source": [
    "#df0.write_parquet(file='data/src/test.parquet',compression='gzip')\n",
    "#pl.read_parquet('data/src/test.parquet')\n"
   ]
  },
  {
   "cell_type": "code",
   "execution_count": 4,
   "metadata": {},
   "outputs": [],
   "source": [
    "#%%time\n",
    "# create a new column with the correct time format of length 23 (YYYY-MM-DD HH:MM:SS.XXX)\n",
    "#df0 = df0.with_columns(pl.when(pl.col('time').str.len_chars()==19)\n",
    "#                 .then(pl.col('time').str.join('.').str.pad_end(23,'0'))\n",
    "#                 .otherwise(pl.col('time').str.pad_end(23,'0'))\n",
    "#                 .alias('time2')\n",
    "#                 )\n",
    "#df0"
   ]
  },
  {
   "cell_type": "code",
   "execution_count": 5,
   "metadata": {},
   "outputs": [
    {
     "name": "stdout",
     "output_type": "stream",
     "text": [
      "CPU times: total: 4.75 s\n",
      "Wall time: 5.03 s\n"
     ]
    },
    {
     "data": {
      "text/html": [
       "<div><style>\n",
       ".dataframe > thead > tr,\n",
       ".dataframe > tbody > tr {\n",
       "  text-align: right;\n",
       "  white-space: pre-wrap;\n",
       "}\n",
       "</style>\n",
       "<small>shape: (12_885_204, 3)</small><table border=\"1\" class=\"dataframe\"><thead><tr><th>time</th><th>Channel</th><th>Wert</th></tr><tr><td>datetime[ms]</td><td>str</td><td>f64</td></tr></thead><tbody><tr><td>2023-01-01 00:00:58.617</td><td>&quot;getTempA&quot;</td><td>12.5</td></tr><tr><td>2023-01-01 00:00:58.618</td><td>&quot;getTempAged&quot;</td><td>12.8</td></tr><tr><td>2023-01-01 00:00:58.618</td><td>&quot;getTempAtp&quot;</td><td>12.5</td></tr><tr><td>2023-01-01 00:00:58.619</td><td>&quot;getTempWWist&quot;</td><td>22.700001</td></tr><tr><td>2023-01-01 00:00:58.620</td><td>&quot;getTempAbgas&quot;</td><td>19.0</td></tr><tr><td>&hellip;</td><td>&hellip;</td><td>&hellip;</td></tr><tr><td>2023-12-31 23:59:55.886</td><td>&quot;getPumpeDrehzahlIntern&quot;</td><td>0.0</td></tr><tr><td>2023-12-31 23:59:55.886</td><td>&quot;getStatusStoerung&quot;</td><td>0.0</td></tr><tr><td>2023-12-31 23:59:55.887</td><td>&quot;getNeigungM1&quot;</td><td>0.6</td></tr><tr><td>2023-12-31 23:59:55.887</td><td>&quot;getNiveauM1&quot;</td><td>0.0</td></tr><tr><td>2023-12-31 23:59:55.888</td><td>&quot;getTempVLsollM1&quot;</td><td>0.0</td></tr></tbody></table></div>"
      ],
      "text/plain": [
       "shape: (12_885_204, 3)\n",
       "┌─────────────────────────┬────────────────────────┬───────────┐\n",
       "│ time                    ┆ Channel                ┆ Wert      │\n",
       "│ ---                     ┆ ---                    ┆ ---       │\n",
       "│ datetime[ms]            ┆ str                    ┆ f64       │\n",
       "╞═════════════════════════╪════════════════════════╪═══════════╡\n",
       "│ 2023-01-01 00:00:58.617 ┆ getTempA               ┆ 12.5      │\n",
       "│ 2023-01-01 00:00:58.618 ┆ getTempAged            ┆ 12.8      │\n",
       "│ 2023-01-01 00:00:58.618 ┆ getTempAtp             ┆ 12.5      │\n",
       "│ 2023-01-01 00:00:58.619 ┆ getTempWWist           ┆ 22.700001 │\n",
       "│ 2023-01-01 00:00:58.620 ┆ getTempAbgas           ┆ 19.0      │\n",
       "│ …                       ┆ …                      ┆ …         │\n",
       "│ 2023-12-31 23:59:55.886 ┆ getPumpeDrehzahlIntern ┆ 0.0       │\n",
       "│ 2023-12-31 23:59:55.886 ┆ getStatusStoerung      ┆ 0.0       │\n",
       "│ 2023-12-31 23:59:55.887 ┆ getNeigungM1           ┆ 0.6       │\n",
       "│ 2023-12-31 23:59:55.887 ┆ getNiveauM1            ┆ 0.0       │\n",
       "│ 2023-12-31 23:59:55.888 ┆ getTempVLsollM1        ┆ 0.0       │\n",
       "└─────────────────────────┴────────────────────────┴───────────┘"
      ]
     },
     "execution_count": 5,
     "metadata": {},
     "output_type": "execute_result"
    }
   ],
   "source": [
    "%%time\n",
    "# convert string to type datetime\n",
    "df0 = df0.with_columns(pl.col(\"time\").str.to_datetime('%Y-%m-%d %H:%M:%S%.3f'))\n",
    "df0"
   ]
  },
  {
   "cell_type": "code",
   "execution_count": 6,
   "metadata": {},
   "outputs": [
    {
     "data": {
      "text/html": [
       "<div><style>\n",
       ".dataframe > thead > tr,\n",
       ".dataframe > tbody > tr {\n",
       "  text-align: right;\n",
       "  white-space: pre-wrap;\n",
       "}\n",
       "</style>\n",
       "<small>shape: (12_885_204, 3)</small><table border=\"1\" class=\"dataframe\"><thead><tr><th>time</th><th>Channel</th><th>Wert</th></tr><tr><td>datetime[ms]</td><td>str</td><td>f64</td></tr></thead><tbody><tr><td>2023-01-01 00:01:00</td><td>&quot;getTempA&quot;</td><td>12.5</td></tr><tr><td>2023-01-01 00:01:00</td><td>&quot;getTempAged&quot;</td><td>12.8</td></tr><tr><td>2023-01-01 00:01:00</td><td>&quot;getTempAtp&quot;</td><td>12.5</td></tr><tr><td>2023-01-01 00:01:00</td><td>&quot;getTempWWist&quot;</td><td>22.700001</td></tr><tr><td>2023-01-01 00:01:00</td><td>&quot;getTempAbgas&quot;</td><td>19.0</td></tr><tr><td>&hellip;</td><td>&hellip;</td><td>&hellip;</td></tr><tr><td>2024-01-01 00:00:00</td><td>&quot;getPumpeDrehzahlIntern&quot;</td><td>0.0</td></tr><tr><td>2024-01-01 00:00:00</td><td>&quot;getStatusStoerung&quot;</td><td>0.0</td></tr><tr><td>2024-01-01 00:00:00</td><td>&quot;getNeigungM1&quot;</td><td>0.6</td></tr><tr><td>2024-01-01 00:00:00</td><td>&quot;getNiveauM1&quot;</td><td>0.0</td></tr><tr><td>2024-01-01 00:00:00</td><td>&quot;getTempVLsollM1&quot;</td><td>0.0</td></tr></tbody></table></div>"
      ],
      "text/plain": [
       "shape: (12_885_204, 3)\n",
       "┌─────────────────────┬────────────────────────┬───────────┐\n",
       "│ time                ┆ Channel                ┆ Wert      │\n",
       "│ ---                 ┆ ---                    ┆ ---       │\n",
       "│ datetime[ms]        ┆ str                    ┆ f64       │\n",
       "╞═════════════════════╪════════════════════════╪═══════════╡\n",
       "│ 2023-01-01 00:01:00 ┆ getTempA               ┆ 12.5      │\n",
       "│ 2023-01-01 00:01:00 ┆ getTempAged            ┆ 12.8      │\n",
       "│ 2023-01-01 00:01:00 ┆ getTempAtp             ┆ 12.5      │\n",
       "│ 2023-01-01 00:01:00 ┆ getTempWWist           ┆ 22.700001 │\n",
       "│ 2023-01-01 00:01:00 ┆ getTempAbgas           ┆ 19.0      │\n",
       "│ …                   ┆ …                      ┆ …         │\n",
       "│ 2024-01-01 00:00:00 ┆ getPumpeDrehzahlIntern ┆ 0.0       │\n",
       "│ 2024-01-01 00:00:00 ┆ getStatusStoerung      ┆ 0.0       │\n",
       "│ 2024-01-01 00:00:00 ┆ getNeigungM1           ┆ 0.6       │\n",
       "│ 2024-01-01 00:00:00 ┆ getNiveauM1            ┆ 0.0       │\n",
       "│ 2024-01-01 00:00:00 ┆ getTempVLsollM1        ┆ 0.0       │\n",
       "└─────────────────────┴────────────────────────┴───────────┘"
      ]
     },
     "execution_count": 6,
     "metadata": {},
     "output_type": "execute_result"
    }
   ],
   "source": [
    "# rounding values to 1 minute\n",
    "df0 = df0.with_columns(pl.col('time').dt.round('1m'))\n",
    "df0"
   ]
  },
  {
   "cell_type": "code",
   "execution_count": 7,
   "metadata": {},
   "outputs": [
    {
     "name": "stdout",
     "output_type": "stream",
     "text": [
      "CPU times: total: 16.6 s\n",
      "Wall time: 6.61 s\n"
     ]
    },
    {
     "data": {
      "text/html": [
       "<div><style>\n",
       ".dataframe > thead > tr,\n",
       ".dataframe > tbody > tr {\n",
       "  text-align: right;\n",
       "  white-space: pre-wrap;\n",
       "}\n",
       "</style>\n",
       "<small>shape: (517_677, 26)</small><table border=\"1\" class=\"dataframe\"><thead><tr><th>time</th><th>getTempA</th><th>getTempAged</th><th>getTempAtp</th><th>getTempWWist</th><th>getTempAbgas</th><th>getTempWWsoll</th><th>getTempKist</th><th>getTempKsoll</th><th>getTempKOffset</th><th>getTempKtp</th><th>getTempVListM1</th><th>getTempRL17A</th><th>getStatusFrostM1</th><th>getTempRaumNorSollM1</th><th>getTempRaumRedSollM1</th><th>getBrennerStarts</th><th>getBrennerStunden1</th><th>getLeistungIst</th><th>getVolStrom</th><th>getPumpeDrehzahlIntern</th><th>getPumpeStatusIntern</th><th>getStatusStoerung</th><th>getNeigungM1</th><th>getNiveauM1</th><th>getTempVLsollM1</th></tr><tr><td>datetime[ms]</td><td>f64</td><td>f64</td><td>f64</td><td>f64</td><td>f64</td><td>f64</td><td>f64</td><td>f64</td><td>f64</td><td>f64</td><td>f64</td><td>f64</td><td>f64</td><td>f64</td><td>f64</td><td>f64</td><td>f64</td><td>f64</td><td>f64</td><td>f64</td><td>f64</td><td>f64</td><td>f64</td><td>f64</td><td>f64</td></tr></thead><tbody><tr><td>2023-01-01 00:01:00</td><td>12.5</td><td>12.8</td><td>12.5</td><td>22.700001</td><td>19.0</td><td>50.0</td><td>19.0</td><td>5.0</td><td>20.0</td><td>19.0</td><td>19.0</td><td>19.0</td><td>2.0</td><td>17.0</td><td>3.0</td><td>9318.0</td><td>20008.796875</td><td>0.0</td><td>0.0</td><td>0.0</td><td>0.0</td><td>0.0</td><td>null</td><td>null</td><td>null</td></tr><tr><td>2023-01-01 00:02:00</td><td>12.5</td><td>12.8</td><td>12.5</td><td>22.700001</td><td>19.0</td><td>50.0</td><td>19.0</td><td>5.0</td><td>20.0</td><td>19.0</td><td>19.0</td><td>19.0</td><td>2.0</td><td>17.0</td><td>3.0</td><td>9318.0</td><td>20008.796875</td><td>0.0</td><td>1.0</td><td>0.0</td><td>0.0</td><td>0.0</td><td>null</td><td>null</td><td>null</td></tr><tr><td>2023-01-01 00:03:00</td><td>12.6</td><td>12.8</td><td>12.5</td><td>22.799999</td><td>19.0</td><td>50.0</td><td>19.0</td><td>5.0</td><td>20.0</td><td>19.0</td><td>19.0</td><td>19.0</td><td>2.0</td><td>17.0</td><td>3.0</td><td>9318.0</td><td>20008.796875</td><td>0.0</td><td>0.0</td><td>0.0</td><td>0.0</td><td>0.0</td><td>null</td><td>null</td><td>null</td></tr><tr><td>2023-01-01 00:04:00</td><td>12.6</td><td>12.8</td><td>12.5</td><td>22.700001</td><td>19.0</td><td>50.0</td><td>19.0</td><td>5.0</td><td>20.0</td><td>19.0</td><td>19.0</td><td>19.0</td><td>2.0</td><td>17.0</td><td>3.0</td><td>9318.0</td><td>20008.796875</td><td>0.0</td><td>0.0</td><td>0.0</td><td>0.0</td><td>0.0</td><td>null</td><td>null</td><td>null</td></tr><tr><td>2023-01-01 00:05:00</td><td>12.6</td><td>12.8</td><td>12.5</td><td>22.700001</td><td>19.0</td><td>50.0</td><td>19.0</td><td>5.0</td><td>20.0</td><td>19.0</td><td>19.0</td><td>19.0</td><td>2.0</td><td>17.0</td><td>3.0</td><td>9318.0</td><td>20008.796875</td><td>0.0</td><td>0.0</td><td>0.0</td><td>0.0</td><td>0.0</td><td>null</td><td>null</td><td>null</td></tr><tr><td>&hellip;</td><td>&hellip;</td><td>&hellip;</td><td>&hellip;</td><td>&hellip;</td><td>&hellip;</td><td>&hellip;</td><td>&hellip;</td><td>&hellip;</td><td>&hellip;</td><td>&hellip;</td><td>&hellip;</td><td>&hellip;</td><td>&hellip;</td><td>&hellip;</td><td>&hellip;</td><td>&hellip;</td><td>&hellip;</td><td>&hellip;</td><td>&hellip;</td><td>&hellip;</td><td>&hellip;</td><td>&hellip;</td><td>&hellip;</td><td>&hellip;</td><td>&hellip;</td></tr><tr><td>2023-12-31 23:55:00</td><td>6.7</td><td>7.7</td><td>6.7</td><td>24.200001</td><td>21.5</td><td>50.0</td><td>21.0</td><td>5.0</td><td>20.0</td><td>21.0</td><td>21.0</td><td>21.5</td><td>2.0</td><td>18.0</td><td>3.0</td><td>10259.0</td><td>21548.449219</td><td>0.0</td><td>0.0</td><td>0.0</td><td>0.0</td><td>0.0</td><td>0.6</td><td>0.0</td><td>0.0</td></tr><tr><td>2023-12-31 23:56:00</td><td>6.7</td><td>7.7</td><td>6.7</td><td>24.200001</td><td>21.5</td><td>50.0</td><td>21.0</td><td>5.0</td><td>20.0</td><td>21.0</td><td>21.0</td><td>21.5</td><td>2.0</td><td>18.0</td><td>3.0</td><td>10259.0</td><td>21548.449219</td><td>0.0</td><td>0.0</td><td>0.0</td><td>0.0</td><td>0.0</td><td>0.6</td><td>0.0</td><td>0.0</td></tr><tr><td>2023-12-31 23:57:00</td><td>6.7</td><td>7.7</td><td>6.7</td><td>24.200001</td><td>21.5</td><td>50.0</td><td>21.0</td><td>5.0</td><td>20.0</td><td>21.0</td><td>21.0</td><td>21.5</td><td>2.0</td><td>18.0</td><td>3.0</td><td>10259.0</td><td>21548.449219</td><td>0.0</td><td>0.0</td><td>0.0</td><td>0.0</td><td>0.0</td><td>0.6</td><td>0.0</td><td>0.0</td></tr><tr><td>2023-12-31 23:58:00</td><td>6.7</td><td>7.7</td><td>6.7</td><td>24.200001</td><td>21.5</td><td>50.0</td><td>21.0</td><td>5.0</td><td>20.0</td><td>21.0</td><td>21.0</td><td>21.5</td><td>2.0</td><td>18.0</td><td>3.0</td><td>10259.0</td><td>21548.449219</td><td>0.0</td><td>0.0</td><td>0.0</td><td>0.0</td><td>0.0</td><td>0.6</td><td>0.0</td><td>0.0</td></tr><tr><td>2023-12-31 23:59:00</td><td>6.7</td><td>7.7</td><td>6.7</td><td>24.200001</td><td>21.5</td><td>50.0</td><td>21.0</td><td>5.0</td><td>20.0</td><td>21.0</td><td>21.0</td><td>21.5</td><td>2.0</td><td>18.0</td><td>3.0</td><td>10259.0</td><td>21548.449219</td><td>0.0</td><td>0.0</td><td>0.0</td><td>0.0</td><td>0.0</td><td>0.6</td><td>0.0</td><td>0.0</td></tr></tbody></table></div>"
      ],
      "text/plain": [
       "shape: (517_677, 26)\n",
       "┌───────────┬──────────┬───────────┬───────────┬───┬───────────┬───────────┬───────────┬───────────┐\n",
       "│ time      ┆ getTempA ┆ getTempAg ┆ getTempAt ┆ … ┆ getStatus ┆ getNeigun ┆ getNiveau ┆ getTempVL │\n",
       "│ ---       ┆ ---      ┆ ed        ┆ p         ┆   ┆ Stoerung  ┆ gM1       ┆ M1        ┆ sollM1    │\n",
       "│ datetime[ ┆ f64      ┆ ---       ┆ ---       ┆   ┆ ---       ┆ ---       ┆ ---       ┆ ---       │\n",
       "│ ms]       ┆          ┆ f64       ┆ f64       ┆   ┆ f64       ┆ f64       ┆ f64       ┆ f64       │\n",
       "╞═══════════╪══════════╪═══════════╪═══════════╪═══╪═══════════╪═══════════╪═══════════╪═══════════╡\n",
       "│ 2023-01-0 ┆ 12.5     ┆ 12.8      ┆ 12.5      ┆ … ┆ 0.0       ┆ null      ┆ null      ┆ null      │\n",
       "│ 1         ┆          ┆           ┆           ┆   ┆           ┆           ┆           ┆           │\n",
       "│ 00:01:00  ┆          ┆           ┆           ┆   ┆           ┆           ┆           ┆           │\n",
       "│ 2023-01-0 ┆ 12.5     ┆ 12.8      ┆ 12.5      ┆ … ┆ 0.0       ┆ null      ┆ null      ┆ null      │\n",
       "│ 1         ┆          ┆           ┆           ┆   ┆           ┆           ┆           ┆           │\n",
       "│ 00:02:00  ┆          ┆           ┆           ┆   ┆           ┆           ┆           ┆           │\n",
       "│ 2023-01-0 ┆ 12.6     ┆ 12.8      ┆ 12.5      ┆ … ┆ 0.0       ┆ null      ┆ null      ┆ null      │\n",
       "│ 1         ┆          ┆           ┆           ┆   ┆           ┆           ┆           ┆           │\n",
       "│ 00:03:00  ┆          ┆           ┆           ┆   ┆           ┆           ┆           ┆           │\n",
       "│ 2023-01-0 ┆ 12.6     ┆ 12.8      ┆ 12.5      ┆ … ┆ 0.0       ┆ null      ┆ null      ┆ null      │\n",
       "│ 1         ┆          ┆           ┆           ┆   ┆           ┆           ┆           ┆           │\n",
       "│ 00:04:00  ┆          ┆           ┆           ┆   ┆           ┆           ┆           ┆           │\n",
       "│ 2023-01-0 ┆ 12.6     ┆ 12.8      ┆ 12.5      ┆ … ┆ 0.0       ┆ null      ┆ null      ┆ null      │\n",
       "│ 1         ┆          ┆           ┆           ┆   ┆           ┆           ┆           ┆           │\n",
       "│ 00:05:00  ┆          ┆           ┆           ┆   ┆           ┆           ┆           ┆           │\n",
       "│ …         ┆ …        ┆ …         ┆ …         ┆ … ┆ …         ┆ …         ┆ …         ┆ …         │\n",
       "│ 2023-12-3 ┆ 6.7      ┆ 7.7       ┆ 6.7       ┆ … ┆ 0.0       ┆ 0.6       ┆ 0.0       ┆ 0.0       │\n",
       "│ 1         ┆          ┆           ┆           ┆   ┆           ┆           ┆           ┆           │\n",
       "│ 23:55:00  ┆          ┆           ┆           ┆   ┆           ┆           ┆           ┆           │\n",
       "│ 2023-12-3 ┆ 6.7      ┆ 7.7       ┆ 6.7       ┆ … ┆ 0.0       ┆ 0.6       ┆ 0.0       ┆ 0.0       │\n",
       "│ 1         ┆          ┆           ┆           ┆   ┆           ┆           ┆           ┆           │\n",
       "│ 23:56:00  ┆          ┆           ┆           ┆   ┆           ┆           ┆           ┆           │\n",
       "│ 2023-12-3 ┆ 6.7      ┆ 7.7       ┆ 6.7       ┆ … ┆ 0.0       ┆ 0.6       ┆ 0.0       ┆ 0.0       │\n",
       "│ 1         ┆          ┆           ┆           ┆   ┆           ┆           ┆           ┆           │\n",
       "│ 23:57:00  ┆          ┆           ┆           ┆   ┆           ┆           ┆           ┆           │\n",
       "│ 2023-12-3 ┆ 6.7      ┆ 7.7       ┆ 6.7       ┆ … ┆ 0.0       ┆ 0.6       ┆ 0.0       ┆ 0.0       │\n",
       "│ 1         ┆          ┆           ┆           ┆   ┆           ┆           ┆           ┆           │\n",
       "│ 23:58:00  ┆          ┆           ┆           ┆   ┆           ┆           ┆           ┆           │\n",
       "│ 2023-12-3 ┆ 6.7      ┆ 7.7       ┆ 6.7       ┆ … ┆ 0.0       ┆ 0.6       ┆ 0.0       ┆ 0.0       │\n",
       "│ 1         ┆          ┆           ┆           ┆   ┆           ┆           ┆           ┆           │\n",
       "│ 23:59:00  ┆          ┆           ┆           ┆   ┆           ┆           ┆           ┆           │\n",
       "└───────────┴──────────┴───────────┴───────────┴───┴───────────┴───────────┴───────────┴───────────┘"
      ]
     },
     "execution_count": 7,
     "metadata": {},
     "output_type": "execute_result"
    }
   ],
   "source": [
    "%%time\n",
    "# change channel values to columns\n",
    "df1 = df0.pivot(index='time', on='Channel', values='Wert',aggregate_function='mean')\n",
    "# fiilter year\n",
    "df1 = df1.filter(pl.col(\"time\").dt.year() < 2024)\n",
    "df1"
   ]
  },
  {
   "cell_type": "code",
   "execution_count": 8,
   "metadata": {},
   "outputs": [
    {
     "data": {
      "text/html": [
       "<div><style>\n",
       ".dataframe > thead > tr,\n",
       ".dataframe > tbody > tr {\n",
       "  text-align: right;\n",
       "  white-space: pre-wrap;\n",
       "}\n",
       "</style>\n",
       "<small>shape: (1, 26)</small><table border=\"1\" class=\"dataframe\"><thead><tr><th>time</th><th>getTempA</th><th>getTempAged</th><th>getTempAtp</th><th>getTempWWist</th><th>getTempAbgas</th><th>getTempWWsoll</th><th>getTempKist</th><th>getTempKsoll</th><th>getTempKOffset</th><th>getTempKtp</th><th>getTempVListM1</th><th>getTempRL17A</th><th>getStatusFrostM1</th><th>getTempRaumNorSollM1</th><th>getTempRaumRedSollM1</th><th>getBrennerStarts</th><th>getBrennerStunden1</th><th>getLeistungIst</th><th>getVolStrom</th><th>getPumpeDrehzahlIntern</th><th>getPumpeStatusIntern</th><th>getStatusStoerung</th><th>getNeigungM1</th><th>getNiveauM1</th><th>getTempVLsollM1</th></tr><tr><td>u32</td><td>u32</td><td>u32</td><td>u32</td><td>u32</td><td>u32</td><td>u32</td><td>u32</td><td>u32</td><td>u32</td><td>u32</td><td>u32</td><td>u32</td><td>u32</td><td>u32</td><td>u32</td><td>u32</td><td>u32</td><td>u32</td><td>u32</td><td>u32</td><td>u32</td><td>u32</td><td>u32</td><td>u32</td><td>u32</td></tr></thead><tbody><tr><td>0</td><td>90</td><td>91</td><td>91</td><td>91</td><td>95</td><td>92</td><td>97</td><td>97</td><td>97</td><td>96</td><td>96</td><td>94</td><td>95</td><td>94</td><td>94</td><td>95</td><td>96</td><td>97</td><td>97</td><td>99</td><td>97</td><td>100</td><td>37920</td><td>37920</td><td>37920</td></tr></tbody></table></div>"
      ],
      "text/plain": [
       "shape: (1, 26)\n",
       "┌──────┬──────────┬────────────┬────────────┬───┬────────────┬────────────┬────────────┬───────────┐\n",
       "│ time ┆ getTempA ┆ getTempAge ┆ getTempAtp ┆ … ┆ getStatusS ┆ getNeigung ┆ getNiveauM ┆ getTempVL │\n",
       "│ ---  ┆ ---      ┆ d          ┆ ---        ┆   ┆ toerung    ┆ M1         ┆ 1          ┆ sollM1    │\n",
       "│ u32  ┆ u32      ┆ ---        ┆ u32        ┆   ┆ ---        ┆ ---        ┆ ---        ┆ ---       │\n",
       "│      ┆          ┆ u32        ┆            ┆   ┆ u32        ┆ u32        ┆ u32        ┆ u32       │\n",
       "╞══════╪══════════╪════════════╪════════════╪═══╪════════════╪════════════╪════════════╪═══════════╡\n",
       "│ 0    ┆ 90       ┆ 91         ┆ 91         ┆ … ┆ 100        ┆ 37920      ┆ 37920      ┆ 37920     │\n",
       "└──────┴──────────┴────────────┴────────────┴───┴────────────┴────────────┴────────────┴───────────┘"
      ]
     },
     "execution_count": 8,
     "metadata": {},
     "output_type": "execute_result"
    }
   ],
   "source": [
    "df1.null_count()"
   ]
  },
  {
   "cell_type": "code",
   "execution_count": 9,
   "metadata": {},
   "outputs": [
    {
     "data": {
      "text/html": [
       "<div><style>\n",
       ".dataframe > thead > tr,\n",
       ".dataframe > tbody > tr {\n",
       "  text-align: right;\n",
       "  white-space: pre-wrap;\n",
       "}\n",
       "</style>\n",
       "<small>shape: (525_599, 26)</small><table border=\"1\" class=\"dataframe\"><thead><tr><th>time</th><th>getTempA</th><th>getTempAged</th><th>getTempAtp</th><th>getTempWWist</th><th>getTempAbgas</th><th>getTempWWsoll</th><th>getTempKist</th><th>getTempKsoll</th><th>getTempKOffset</th><th>getTempKtp</th><th>getTempVListM1</th><th>getTempRL17A</th><th>getStatusFrostM1</th><th>getTempRaumNorSollM1</th><th>getTempRaumRedSollM1</th><th>getBrennerStarts</th><th>getBrennerStunden1</th><th>getLeistungIst</th><th>getVolStrom</th><th>getPumpeDrehzahlIntern</th><th>getPumpeStatusIntern</th><th>getStatusStoerung</th><th>getNeigungM1</th><th>getNiveauM1</th><th>getTempVLsollM1</th></tr><tr><td>datetime[ms]</td><td>f64</td><td>f64</td><td>f64</td><td>f64</td><td>f64</td><td>f64</td><td>f64</td><td>f64</td><td>f64</td><td>f64</td><td>f64</td><td>f64</td><td>f64</td><td>f64</td><td>f64</td><td>f64</td><td>f64</td><td>f64</td><td>f64</td><td>f64</td><td>f64</td><td>f64</td><td>f64</td><td>f64</td><td>f64</td></tr></thead><tbody><tr><td>2023-01-01 00:01:00</td><td>12.5</td><td>12.8</td><td>12.5</td><td>22.700001</td><td>19.0</td><td>50.0</td><td>19.0</td><td>5.0</td><td>20.0</td><td>19.0</td><td>19.0</td><td>19.0</td><td>2.0</td><td>17.0</td><td>3.0</td><td>9318.0</td><td>20008.796875</td><td>0.0</td><td>0.0</td><td>0.0</td><td>0.0</td><td>0.0</td><td>null</td><td>null</td><td>null</td></tr><tr><td>2023-01-01 00:02:00</td><td>12.5</td><td>12.8</td><td>12.5</td><td>22.700001</td><td>19.0</td><td>50.0</td><td>19.0</td><td>5.0</td><td>20.0</td><td>19.0</td><td>19.0</td><td>19.0</td><td>2.0</td><td>17.0</td><td>3.0</td><td>9318.0</td><td>20008.796875</td><td>0.0</td><td>1.0</td><td>0.0</td><td>0.0</td><td>0.0</td><td>null</td><td>null</td><td>null</td></tr><tr><td>2023-01-01 00:03:00</td><td>12.6</td><td>12.8</td><td>12.5</td><td>22.799999</td><td>19.0</td><td>50.0</td><td>19.0</td><td>5.0</td><td>20.0</td><td>19.0</td><td>19.0</td><td>19.0</td><td>2.0</td><td>17.0</td><td>3.0</td><td>9318.0</td><td>20008.796875</td><td>0.0</td><td>0.0</td><td>0.0</td><td>0.0</td><td>0.0</td><td>null</td><td>null</td><td>null</td></tr><tr><td>2023-01-01 00:04:00</td><td>12.6</td><td>12.8</td><td>12.5</td><td>22.700001</td><td>19.0</td><td>50.0</td><td>19.0</td><td>5.0</td><td>20.0</td><td>19.0</td><td>19.0</td><td>19.0</td><td>2.0</td><td>17.0</td><td>3.0</td><td>9318.0</td><td>20008.796875</td><td>0.0</td><td>0.0</td><td>0.0</td><td>0.0</td><td>0.0</td><td>null</td><td>null</td><td>null</td></tr><tr><td>2023-01-01 00:05:00</td><td>12.6</td><td>12.8</td><td>12.5</td><td>22.700001</td><td>19.0</td><td>50.0</td><td>19.0</td><td>5.0</td><td>20.0</td><td>19.0</td><td>19.0</td><td>19.0</td><td>2.0</td><td>17.0</td><td>3.0</td><td>9318.0</td><td>20008.796875</td><td>0.0</td><td>0.0</td><td>0.0</td><td>0.0</td><td>0.0</td><td>null</td><td>null</td><td>null</td></tr><tr><td>&hellip;</td><td>&hellip;</td><td>&hellip;</td><td>&hellip;</td><td>&hellip;</td><td>&hellip;</td><td>&hellip;</td><td>&hellip;</td><td>&hellip;</td><td>&hellip;</td><td>&hellip;</td><td>&hellip;</td><td>&hellip;</td><td>&hellip;</td><td>&hellip;</td><td>&hellip;</td><td>&hellip;</td><td>&hellip;</td><td>&hellip;</td><td>&hellip;</td><td>&hellip;</td><td>&hellip;</td><td>&hellip;</td><td>&hellip;</td><td>&hellip;</td><td>&hellip;</td></tr><tr><td>2023-12-31 23:55:00</td><td>6.7</td><td>7.7</td><td>6.7</td><td>24.200001</td><td>21.5</td><td>50.0</td><td>21.0</td><td>5.0</td><td>20.0</td><td>21.0</td><td>21.0</td><td>21.5</td><td>2.0</td><td>18.0</td><td>3.0</td><td>10259.0</td><td>21548.449219</td><td>0.0</td><td>0.0</td><td>0.0</td><td>0.0</td><td>0.0</td><td>0.6</td><td>0.0</td><td>0.0</td></tr><tr><td>2023-12-31 23:56:00</td><td>6.7</td><td>7.7</td><td>6.7</td><td>24.200001</td><td>21.5</td><td>50.0</td><td>21.0</td><td>5.0</td><td>20.0</td><td>21.0</td><td>21.0</td><td>21.5</td><td>2.0</td><td>18.0</td><td>3.0</td><td>10259.0</td><td>21548.449219</td><td>0.0</td><td>0.0</td><td>0.0</td><td>0.0</td><td>0.0</td><td>0.6</td><td>0.0</td><td>0.0</td></tr><tr><td>2023-12-31 23:57:00</td><td>6.7</td><td>7.7</td><td>6.7</td><td>24.200001</td><td>21.5</td><td>50.0</td><td>21.0</td><td>5.0</td><td>20.0</td><td>21.0</td><td>21.0</td><td>21.5</td><td>2.0</td><td>18.0</td><td>3.0</td><td>10259.0</td><td>21548.449219</td><td>0.0</td><td>0.0</td><td>0.0</td><td>0.0</td><td>0.0</td><td>0.6</td><td>0.0</td><td>0.0</td></tr><tr><td>2023-12-31 23:58:00</td><td>6.7</td><td>7.7</td><td>6.7</td><td>24.200001</td><td>21.5</td><td>50.0</td><td>21.0</td><td>5.0</td><td>20.0</td><td>21.0</td><td>21.0</td><td>21.5</td><td>2.0</td><td>18.0</td><td>3.0</td><td>10259.0</td><td>21548.449219</td><td>0.0</td><td>0.0</td><td>0.0</td><td>0.0</td><td>0.0</td><td>0.6</td><td>0.0</td><td>0.0</td></tr><tr><td>2023-12-31 23:59:00</td><td>6.7</td><td>7.7</td><td>6.7</td><td>24.200001</td><td>21.5</td><td>50.0</td><td>21.0</td><td>5.0</td><td>20.0</td><td>21.0</td><td>21.0</td><td>21.5</td><td>2.0</td><td>18.0</td><td>3.0</td><td>10259.0</td><td>21548.449219</td><td>0.0</td><td>0.0</td><td>0.0</td><td>0.0</td><td>0.0</td><td>0.6</td><td>0.0</td><td>0.0</td></tr></tbody></table></div>"
      ],
      "text/plain": [
       "shape: (525_599, 26)\n",
       "┌───────────┬──────────┬───────────┬───────────┬───┬───────────┬───────────┬───────────┬───────────┐\n",
       "│ time      ┆ getTempA ┆ getTempAg ┆ getTempAt ┆ … ┆ getStatus ┆ getNeigun ┆ getNiveau ┆ getTempVL │\n",
       "│ ---       ┆ ---      ┆ ed        ┆ p         ┆   ┆ Stoerung  ┆ gM1       ┆ M1        ┆ sollM1    │\n",
       "│ datetime[ ┆ f64      ┆ ---       ┆ ---       ┆   ┆ ---       ┆ ---       ┆ ---       ┆ ---       │\n",
       "│ ms]       ┆          ┆ f64       ┆ f64       ┆   ┆ f64       ┆ f64       ┆ f64       ┆ f64       │\n",
       "╞═══════════╪══════════╪═══════════╪═══════════╪═══╪═══════════╪═══════════╪═══════════╪═══════════╡\n",
       "│ 2023-01-0 ┆ 12.5     ┆ 12.8      ┆ 12.5      ┆ … ┆ 0.0       ┆ null      ┆ null      ┆ null      │\n",
       "│ 1         ┆          ┆           ┆           ┆   ┆           ┆           ┆           ┆           │\n",
       "│ 00:01:00  ┆          ┆           ┆           ┆   ┆           ┆           ┆           ┆           │\n",
       "│ 2023-01-0 ┆ 12.5     ┆ 12.8      ┆ 12.5      ┆ … ┆ 0.0       ┆ null      ┆ null      ┆ null      │\n",
       "│ 1         ┆          ┆           ┆           ┆   ┆           ┆           ┆           ┆           │\n",
       "│ 00:02:00  ┆          ┆           ┆           ┆   ┆           ┆           ┆           ┆           │\n",
       "│ 2023-01-0 ┆ 12.6     ┆ 12.8      ┆ 12.5      ┆ … ┆ 0.0       ┆ null      ┆ null      ┆ null      │\n",
       "│ 1         ┆          ┆           ┆           ┆   ┆           ┆           ┆           ┆           │\n",
       "│ 00:03:00  ┆          ┆           ┆           ┆   ┆           ┆           ┆           ┆           │\n",
       "│ 2023-01-0 ┆ 12.6     ┆ 12.8      ┆ 12.5      ┆ … ┆ 0.0       ┆ null      ┆ null      ┆ null      │\n",
       "│ 1         ┆          ┆           ┆           ┆   ┆           ┆           ┆           ┆           │\n",
       "│ 00:04:00  ┆          ┆           ┆           ┆   ┆           ┆           ┆           ┆           │\n",
       "│ 2023-01-0 ┆ 12.6     ┆ 12.8      ┆ 12.5      ┆ … ┆ 0.0       ┆ null      ┆ null      ┆ null      │\n",
       "│ 1         ┆          ┆           ┆           ┆   ┆           ┆           ┆           ┆           │\n",
       "│ 00:05:00  ┆          ┆           ┆           ┆   ┆           ┆           ┆           ┆           │\n",
       "│ …         ┆ …        ┆ …         ┆ …         ┆ … ┆ …         ┆ …         ┆ …         ┆ …         │\n",
       "│ 2023-12-3 ┆ 6.7      ┆ 7.7       ┆ 6.7       ┆ … ┆ 0.0       ┆ 0.6       ┆ 0.0       ┆ 0.0       │\n",
       "│ 1         ┆          ┆           ┆           ┆   ┆           ┆           ┆           ┆           │\n",
       "│ 23:55:00  ┆          ┆           ┆           ┆   ┆           ┆           ┆           ┆           │\n",
       "│ 2023-12-3 ┆ 6.7      ┆ 7.7       ┆ 6.7       ┆ … ┆ 0.0       ┆ 0.6       ┆ 0.0       ┆ 0.0       │\n",
       "│ 1         ┆          ┆           ┆           ┆   ┆           ┆           ┆           ┆           │\n",
       "│ 23:56:00  ┆          ┆           ┆           ┆   ┆           ┆           ┆           ┆           │\n",
       "│ 2023-12-3 ┆ 6.7      ┆ 7.7       ┆ 6.7       ┆ … ┆ 0.0       ┆ 0.6       ┆ 0.0       ┆ 0.0       │\n",
       "│ 1         ┆          ┆           ┆           ┆   ┆           ┆           ┆           ┆           │\n",
       "│ 23:57:00  ┆          ┆           ┆           ┆   ┆           ┆           ┆           ┆           │\n",
       "│ 2023-12-3 ┆ 6.7      ┆ 7.7       ┆ 6.7       ┆ … ┆ 0.0       ┆ 0.6       ┆ 0.0       ┆ 0.0       │\n",
       "│ 1         ┆          ┆           ┆           ┆   ┆           ┆           ┆           ┆           │\n",
       "│ 23:58:00  ┆          ┆           ┆           ┆   ┆           ┆           ┆           ┆           │\n",
       "│ 2023-12-3 ┆ 6.7      ┆ 7.7       ┆ 6.7       ┆ … ┆ 0.0       ┆ 0.6       ┆ 0.0       ┆ 0.0       │\n",
       "│ 1         ┆          ┆           ┆           ┆   ┆           ┆           ┆           ┆           │\n",
       "│ 23:59:00  ┆          ┆           ┆           ┆   ┆           ┆           ┆           ┆           │\n",
       "└───────────┴──────────┴───────────┴───────────┴───┴───────────┴───────────┴───────────┴───────────┘"
      ]
     },
     "execution_count": 9,
     "metadata": {},
     "output_type": "execute_result"
    }
   ],
   "source": [
    "# Upsample to fill missing dates with null values\n",
    "df2 = df1.upsample(time_column=\"time\", every=\"1m\")\n",
    "df2"
   ]
  },
  {
   "cell_type": "code",
   "execution_count": 10,
   "metadata": {},
   "outputs": [
    {
     "data": {
      "text/html": [
       "<div><style>\n",
       ".dataframe > thead > tr,\n",
       ".dataframe > tbody > tr {\n",
       "  text-align: right;\n",
       "  white-space: pre-wrap;\n",
       "}\n",
       "</style>\n",
       "<small>shape: (1, 26)</small><table border=\"1\" class=\"dataframe\"><thead><tr><th>time</th><th>getTempA</th><th>getTempAged</th><th>getTempAtp</th><th>getTempWWist</th><th>getTempAbgas</th><th>getTempWWsoll</th><th>getTempKist</th><th>getTempKsoll</th><th>getTempKOffset</th><th>getTempKtp</th><th>getTempVListM1</th><th>getTempRL17A</th><th>getStatusFrostM1</th><th>getTempRaumNorSollM1</th><th>getTempRaumRedSollM1</th><th>getBrennerStarts</th><th>getBrennerStunden1</th><th>getLeistungIst</th><th>getVolStrom</th><th>getPumpeDrehzahlIntern</th><th>getPumpeStatusIntern</th><th>getStatusStoerung</th><th>getNeigungM1</th><th>getNiveauM1</th><th>getTempVLsollM1</th></tr><tr><td>u32</td><td>u32</td><td>u32</td><td>u32</td><td>u32</td><td>u32</td><td>u32</td><td>u32</td><td>u32</td><td>u32</td><td>u32</td><td>u32</td><td>u32</td><td>u32</td><td>u32</td><td>u32</td><td>u32</td><td>u32</td><td>u32</td><td>u32</td><td>u32</td><td>u32</td><td>u32</td><td>u32</td><td>u32</td><td>u32</td></tr></thead><tbody><tr><td>0</td><td>8012</td><td>8013</td><td>8013</td><td>8013</td><td>8017</td><td>8014</td><td>8019</td><td>8019</td><td>8019</td><td>8018</td><td>8018</td><td>8016</td><td>8017</td><td>8016</td><td>8016</td><td>8017</td><td>8018</td><td>8019</td><td>8019</td><td>8021</td><td>8019</td><td>8022</td><td>45842</td><td>45842</td><td>45842</td></tr></tbody></table></div>"
      ],
      "text/plain": [
       "shape: (1, 26)\n",
       "┌──────┬──────────┬────────────┬────────────┬───┬────────────┬────────────┬────────────┬───────────┐\n",
       "│ time ┆ getTempA ┆ getTempAge ┆ getTempAtp ┆ … ┆ getStatusS ┆ getNeigung ┆ getNiveauM ┆ getTempVL │\n",
       "│ ---  ┆ ---      ┆ d          ┆ ---        ┆   ┆ toerung    ┆ M1         ┆ 1          ┆ sollM1    │\n",
       "│ u32  ┆ u32      ┆ ---        ┆ u32        ┆   ┆ ---        ┆ ---        ┆ ---        ┆ ---       │\n",
       "│      ┆          ┆ u32        ┆            ┆   ┆ u32        ┆ u32        ┆ u32        ┆ u32       │\n",
       "╞══════╪══════════╪════════════╪════════════╪═══╪════════════╪════════════╪════════════╪═══════════╡\n",
       "│ 0    ┆ 8012     ┆ 8013       ┆ 8013       ┆ … ┆ 8022       ┆ 45842      ┆ 45842      ┆ 45842     │\n",
       "└──────┴──────────┴────────────┴────────────┴───┴────────────┴────────────┴────────────┴───────────┘"
      ]
     },
     "execution_count": 10,
     "metadata": {},
     "output_type": "execute_result"
    }
   ],
   "source": [
    "df2.null_count()"
   ]
  },
  {
   "cell_type": "code",
   "execution_count": 11,
   "metadata": {},
   "outputs": [
    {
     "name": "stdout",
     "output_type": "stream",
     "text": [
      "CPU times: total: 766 ms\n",
      "Wall time: 913 ms\n"
     ]
    },
    {
     "data": {
      "image/png": "[encoded data removed]",
      "text/plain": [
       "<Figure size 1000x500 with 4 Axes>"
      ]
     },
     "metadata": {},
     "output_type": "display_data"
    }
   ],
   "source": [
    "%%time\n",
    "x = df2['time']\n",
    "fig, axs = plt.subplots(2,2,figsize=(10, 5))\n",
    "y = ['getTempAged','getVolStrom','getLeistungIst','getPumpeDrehzahlIntern']\n",
    "color = ['blue','orange','green','red']\n",
    "for i in range(2):\n",
    "    for j in range(2):\n",
    "        # convert ij from binary to integer\n",
    "        index = int(str(i)+str(j), 2)\n",
    "        axs[i,j].plot(x, df2[y[index]],'tab:'+color[index])\n",
    "        axs[i,j].set_title(y[index])\n",
    "\n",
    "\n",
    "for ax in axs.flat:\n",
    "    ax.set(xlabel='x-label', ylabel='y-label')\n",
    "\n",
    "plt.suptitle('Heizungsdaten 2023 (1min)')\n",
    "plt.tight_layout()"
   ]
  },
  {
   "cell_type": "code",
   "execution_count": 12,
   "metadata": {},
   "outputs": [
    {
     "data": {
      "text/html": [
       "<div><style>\n",
       ".dataframe > thead > tr,\n",
       ".dataframe > tbody > tr {\n",
       "  text-align: right;\n",
       "  white-space: pre-wrap;\n",
       "}\n",
       "</style>\n",
       "<small>shape: (9, 5)</small><table border=\"1\" class=\"dataframe\"><thead><tr><th>statistic</th><th>getTempAged</th><th>getVolStrom</th><th>getLeistungIst</th><th>getPumpeDrehzahlIntern</th></tr><tr><td>str</td><td>f64</td><td>f64</td><td>f64</td><td>f64</td></tr></thead><tbody><tr><td>&quot;count&quot;</td><td>517586.0</td><td>517580.0</td><td>517580.0</td><td>517578.0</td></tr><tr><td>&quot;null_count&quot;</td><td>8013.0</td><td>8019.0</td><td>8019.0</td><td>8021.0</td></tr><tr><td>&quot;mean&quot;</td><td>13.495859</td><td>267.758877</td><td>2.936611</td><td>12.68369</td></tr><tr><td>&quot;std&quot;</td><td>7.749232</td><td>393.242725</td><td>8.807788</td><td>20.872483</td></tr><tr><td>&quot;min&quot;</td><td>-4.5</td><td>0.0</td><td>0.0</td><td>0.0</td></tr><tr><td>&quot;25%&quot;</td><td>7.7</td><td>0.0</td><td>0.0</td><td>0.0</td></tr><tr><td>&quot;50%&quot;</td><td>12.5</td><td>0.0</td><td>0.0</td><td>0.0</td></tr><tr><td>&quot;75%&quot;</td><td>19.799999</td><td>767.0</td><td>0.0</td><td>31.0</td></tr><tr><td>&quot;max&quot;</td><td>36.599998</td><td>1256.0</td><td>91.5</td><td>100.0</td></tr></tbody></table></div>"
      ],
      "text/plain": [
       "shape: (9, 5)\n",
       "┌────────────┬─────────────┬─────────────┬────────────────┬────────────────────────┐\n",
       "│ statistic  ┆ getTempAged ┆ getVolStrom ┆ getLeistungIst ┆ getPumpeDrehzahlIntern │\n",
       "│ ---        ┆ ---         ┆ ---         ┆ ---            ┆ ---                    │\n",
       "│ str        ┆ f64         ┆ f64         ┆ f64            ┆ f64                    │\n",
       "╞════════════╪═════════════╪═════════════╪════════════════╪════════════════════════╡\n",
       "│ count      ┆ 517586.0    ┆ 517580.0    ┆ 517580.0       ┆ 517578.0               │\n",
       "│ null_count ┆ 8013.0      ┆ 8019.0      ┆ 8019.0         ┆ 8021.0                 │\n",
       "│ mean       ┆ 13.495859   ┆ 267.758877  ┆ 2.936611       ┆ 12.68369               │\n",
       "│ std        ┆ 7.749232    ┆ 393.242725  ┆ 8.807788       ┆ 20.872483              │\n",
       "│ min        ┆ -4.5        ┆ 0.0         ┆ 0.0            ┆ 0.0                    │\n",
       "│ 25%        ┆ 7.7         ┆ 0.0         ┆ 0.0            ┆ 0.0                    │\n",
       "│ 50%        ┆ 12.5        ┆ 0.0         ┆ 0.0            ┆ 0.0                    │\n",
       "│ 75%        ┆ 19.799999   ┆ 767.0       ┆ 0.0            ┆ 31.0                   │\n",
       "│ max        ┆ 36.599998   ┆ 1256.0      ┆ 91.5           ┆ 100.0                  │\n",
       "└────────────┴─────────────┴─────────────┴────────────────┴────────────────────────┘"
      ]
     },
     "execution_count": 12,
     "metadata": {},
     "output_type": "execute_result"
    }
   ],
   "source": [
    "df2[y].describe()"
   ]
  },
  {
   "cell_type": "code",
   "execution_count": 13,
   "metadata": {},
   "outputs": [],
   "source": [
    "#list_filter = [i for i in df2.columns if (\"sol\" not in i.lower())&(\"1\" not in i)&(\"Brenner\" not in i)]\n",
    "#print(\"Ignoring \",[i for i in df2.columns if i not in list_filter])\n",
    "#df3 = df2.select(pl.col(i) for i in list_filter)\n",
    "#df3"
   ]
  },
  {
   "cell_type": "code",
   "execution_count": 14,
   "metadata": {},
   "outputs": [
    {
     "name": "stdout",
     "output_type": "stream",
     "text": [
      "29.625112295150757\n"
     ]
    }
   ],
   "source": [
    "end = time.time()\n",
    "print(end - start)"
   ]
  },
  {
   "cell_type": "code",
   "execution_count": 15,
   "metadata": {},
   "outputs": [
    {
     "name": "stdout",
     "output_type": "stream",
     "text": [
      "(12.8,) shape: (5, 4)\n",
      "┌─────────────┬─────────────┬────────────────┬────────────────────────┐\n",
      "│ getTempAged ┆ getVolStrom ┆ getLeistungIst ┆ getPumpeDrehzahlIntern │\n",
      "│ ---         ┆ ---         ┆ ---            ┆ ---                    │\n",
      "│ f64         ┆ f64         ┆ f64            ┆ f64                    │\n",
      "╞═════════════╪═════════════╪════════════════╪════════════════════════╡\n",
      "│ 12.8        ┆ 0.0         ┆ 0.0            ┆ 0.0                    │\n",
      "│ 12.8        ┆ 1.0         ┆ 0.0            ┆ 0.0                    │\n",
      "│ 12.8        ┆ 0.0         ┆ 0.0            ┆ 0.0                    │\n",
      "│ 12.8        ┆ 0.0         ┆ 0.0            ┆ 0.0                    │\n",
      "│ 12.8        ┆ 0.0         ┆ 0.0            ┆ 0.0                    │\n",
      "└─────────────┴─────────────┴────────────────┴────────────────────────┘\n"
     ]
    }
   ],
   "source": [
    "for i, j in df2[y].head(5).group_by(\"getTempAged\"):\n",
    "    print(i,j)"
   ]
  },
  {
   "cell_type": "code",
   "execution_count": 16,
   "metadata": {},
   "outputs": [
    {
     "data": {
      "text/html": [
       "<div><style>\n",
       ".dataframe > thead > tr,\n",
       ".dataframe > tbody > tr {\n",
       "  text-align: right;\n",
       "  white-space: pre-wrap;\n",
       "}\n",
       "</style>\n",
       "<small>shape: (3, 2)</small><table border=\"1\" class=\"dataframe\"><thead><tr><th>a1</th><th>b2</th></tr><tr><td>str</td><td>list[i64]</td></tr></thead><tbody><tr><td>&quot;a&quot;</td><td>[1, 1]</td></tr><tr><td>&quot;c&quot;</td><td>[3]</td></tr><tr><td>&quot;b&quot;</td><td>[2, 3]</td></tr></tbody></table></div>"
      ],
      "text/plain": [
       "shape: (3, 2)\n",
       "┌─────┬───────────┐\n",
       "│ a1  ┆ b2        │\n",
       "│ --- ┆ ---       │\n",
       "│ str ┆ list[i64] │\n",
       "╞═════╪═══════════╡\n",
       "│ a   ┆ [1, 1]    │\n",
       "│ c   ┆ [3]       │\n",
       "│ b   ┆ [2, 3]    │\n",
       "└─────┴───────────┘"
      ]
     },
     "execution_count": 16,
     "metadata": {},
     "output_type": "execute_result"
    }
   ],
   "source": [
    "pl.DataFrame({\"a1\": [\"a\", \"b\", \"a\", \"b\", \"c\"],\n",
    "              \"b2\": [1, 2, 1, 3, 3],\n",
    "              \"c3\": [5, 4, 3, 2, 1],}).group_by('a1').agg(pl.col(\"b2\"))"
   ]
  },
  {
   "cell_type": "code",
   "execution_count": 17,
   "metadata": {},
   "outputs": [
    {
     "data": {
      "text/html": [
       "<div><style>\n",
       ".dataframe > thead > tr,\n",
       ".dataframe > tbody > tr {\n",
       "  text-align: right;\n",
       "  white-space: pre-wrap;\n",
       "}\n",
       "</style>\n",
       "<small>shape: (5,)</small><table border=\"1\" class=\"dataframe\"><thead><tr><th>c3</th></tr><tr><td>i64</td></tr></thead><tbody><tr><td>5</td></tr><tr><td>4</td></tr><tr><td>3</td></tr><tr><td>2</td></tr><tr><td>1</td></tr></tbody></table></div>"
      ],
      "text/plain": [
       "shape: (5,)\n",
       "Series: 'c3' [i64]\n",
       "[\n",
       "\t5\n",
       "\t4\n",
       "\t3\n",
       "\t2\n",
       "\t1\n",
       "]"
      ]
     },
     "execution_count": 17,
     "metadata": {},
     "output_type": "execute_result"
    }
   ],
   "source": [
    "pl.DataFrame({\"a1\": [\"a\", \"b\", \"a\", \"b\", \"c\"],\n",
    "              \"b2\": [1, 2, 1, 3, 3],\n",
    "              \"c3\": [5, 4, 3, 2, 1],}).drop_in_place('c3')"
   ]
  },
  {
   "cell_type": "code",
   "execution_count": 18,
   "metadata": {},
   "outputs": [
    {
     "data": {
      "text/html": [
       "<div><style>\n",
       ".dataframe > thead > tr,\n",
       ".dataframe > tbody > tr {\n",
       "  text-align: right;\n",
       "  white-space: pre-wrap;\n",
       "}\n",
       "</style>\n",
       "<small>shape: (517_678, 2)</small><table border=\"1\" class=\"dataframe\"><thead><tr><th>time</th><th>Channel</th></tr><tr><td>datetime[ms]</td><td>list[str]</td></tr></thead><tbody><tr><td>2023-10-08 20:18:00</td><td>[&quot;getTempA&quot;, &quot;getTempAged&quot;, … &quot;getTempVLsollM1&quot;]</td></tr><tr><td>2023-02-14 16:20:00</td><td>[&quot;getTempA&quot;, &quot;getTempAtp&quot;, … &quot;getTempVLsollM1&quot;]</td></tr><tr><td>2023-10-30 05:50:00</td><td>[&quot;getTempA&quot;, &quot;getTempAtp&quot;, … &quot;getTempVLsollM1&quot;]</td></tr><tr><td>2023-02-16 14:44:00</td><td>[&quot;getTempA&quot;, &quot;getTempAged&quot;, … &quot;getTempVLsollM1&quot;]</td></tr><tr><td>2023-06-04 10:20:00</td><td>[&quot;getTempA&quot;, &quot;getTempAtp&quot;, … &quot;getTempVLsollM1&quot;]</td></tr><tr><td>&hellip;</td><td>&hellip;</td></tr><tr><td>2023-06-11 04:15:00</td><td>[&quot;getTempA&quot;, &quot;getTempAtp&quot;, … &quot;getTempVLsollM1&quot;]</td></tr><tr><td>2023-03-20 13:57:00</td><td>[&quot;getTempA&quot;, &quot;getTempAtp&quot;, … &quot;getTempVLsollM1&quot;]</td></tr><tr><td>2023-08-25 01:44:00</td><td>[&quot;getTempA&quot;, &quot;getTempAged&quot;, … &quot;getTempVLsollM1&quot;]</td></tr><tr><td>2023-03-16 17:40:00</td><td>[&quot;getTempA&quot;, &quot;getTempAged&quot;, … &quot;getTempVLsollM1&quot;]</td></tr><tr><td>2023-02-11 18:24:00</td><td>[&quot;getTempA&quot;, &quot;getTempAtp&quot;, … &quot;getTempVLsollM1&quot;]</td></tr></tbody></table></div>"
      ],
      "text/plain": [
       "shape: (517_678, 2)\n",
       "┌─────────────────────┬─────────────────────────────────┐\n",
       "│ time                ┆ Channel                         │\n",
       "│ ---                 ┆ ---                             │\n",
       "│ datetime[ms]        ┆ list[str]                       │\n",
       "╞═════════════════════╪═════════════════════════════════╡\n",
       "│ 2023-10-08 20:18:00 ┆ [\"getTempA\", \"getTempAged\", … … │\n",
       "│ 2023-02-14 16:20:00 ┆ [\"getTempA\", \"getTempAtp\", … \"… │\n",
       "│ 2023-10-30 05:50:00 ┆ [\"getTempA\", \"getTempAtp\", … \"… │\n",
       "│ 2023-02-16 14:44:00 ┆ [\"getTempA\", \"getTempAged\", … … │\n",
       "│ 2023-06-04 10:20:00 ┆ [\"getTempA\", \"getTempAtp\", … \"… │\n",
       "│ …                   ┆ …                               │\n",
       "│ 2023-06-11 04:15:00 ┆ [\"getTempA\", \"getTempAtp\", … \"… │\n",
       "│ 2023-03-20 13:57:00 ┆ [\"getTempA\", \"getTempAtp\", … \"… │\n",
       "│ 2023-08-25 01:44:00 ┆ [\"getTempA\", \"getTempAged\", … … │\n",
       "│ 2023-03-16 17:40:00 ┆ [\"getTempA\", \"getTempAged\", … … │\n",
       "│ 2023-02-11 18:24:00 ┆ [\"getTempA\", \"getTempAtp\", … \"… │\n",
       "└─────────────────────┴─────────────────────────────────┘"
      ]
     },
     "execution_count": 18,
     "metadata": {},
     "output_type": "execute_result"
    }
   ],
   "source": [
    "df0.group_by('time').agg(pl.col('Channel'))"
   ]
  },
  {
   "cell_type": "code",
   "execution_count": 19,
   "metadata": {},
   "outputs": [
    {
     "data": {
      "text/plain": [
       "369.2893133163452"
      ]
     },
     "execution_count": 19,
     "metadata": {},
     "output_type": "execute_result"
    }
   ],
   "source": [
    "df0.estimated_size(unit='mb')"
   ]
  },
  {
   "cell_type": "code",
   "execution_count": 20,
   "metadata": {},
   "outputs": [
    {
     "data": {
      "text/html": [
       "<div><style>\n",
       ".dataframe > thead > tr,\n",
       ".dataframe > tbody > tr {\n",
       "  text-align: right;\n",
       "  white-space: pre-wrap;\n",
       "}\n",
       "</style>\n",
       "<small>shape: (12_885_204, 3)</small><table border=\"1\" class=\"dataframe\"><thead><tr><th>time</th><th>Channel</th><th>Wert</th></tr><tr><td>datetime[ms]</td><td>str</td><td>f64</td></tr></thead><tbody><tr><td>2023-01-01 00:01:00</td><td>&quot;getTempA&quot;</td><td>12.5</td></tr><tr><td>2023-01-01 00:01:00</td><td>&quot;getTempAged&quot;</td><td>12.8</td></tr><tr><td>2023-01-01 00:01:00</td><td>&quot;getTempAtp&quot;</td><td>12.5</td></tr><tr><td>2023-01-01 00:01:00</td><td>&quot;getTempWWist&quot;</td><td>22.700001</td></tr><tr><td>2023-01-01 00:01:00</td><td>&quot;getTempAbgas&quot;</td><td>19.0</td></tr><tr><td>&hellip;</td><td>&hellip;</td><td>&hellip;</td></tr><tr><td>2024-01-01 00:00:00</td><td>&quot;getPumpeDrehzahlIntern&quot;</td><td>0.0</td></tr><tr><td>2024-01-01 00:00:00</td><td>&quot;getStatusStoerung&quot;</td><td>0.0</td></tr><tr><td>2024-01-01 00:00:00</td><td>&quot;getNeigungM1&quot;</td><td>0.6</td></tr><tr><td>2024-01-01 00:00:00</td><td>&quot;getNiveauM1&quot;</td><td>0.0</td></tr><tr><td>2024-01-01 00:00:00</td><td>&quot;getTempVLsollM1&quot;</td><td>0.0</td></tr></tbody></table></div>"
      ],
      "text/plain": [
       "shape: (12_885_204, 3)\n",
       "┌─────────────────────┬────────────────────────┬───────────┐\n",
       "│ time                ┆ Channel                ┆ Wert      │\n",
       "│ ---                 ┆ ---                    ┆ ---       │\n",
       "│ datetime[ms]        ┆ str                    ┆ f64       │\n",
       "╞═════════════════════╪════════════════════════╪═══════════╡\n",
       "│ 2023-01-01 00:01:00 ┆ getTempA               ┆ 12.5      │\n",
       "│ 2023-01-01 00:01:00 ┆ getTempAged            ┆ 12.8      │\n",
       "│ 2023-01-01 00:01:00 ┆ getTempAtp             ┆ 12.5      │\n",
       "│ 2023-01-01 00:01:00 ┆ getTempWWist           ┆ 22.700001 │\n",
       "│ 2023-01-01 00:01:00 ┆ getTempAbgas           ┆ 19.0      │\n",
       "│ …                   ┆ …                      ┆ …         │\n",
       "│ 2024-01-01 00:00:00 ┆ getPumpeDrehzahlIntern ┆ 0.0       │\n",
       "│ 2024-01-01 00:00:00 ┆ getStatusStoerung      ┆ 0.0       │\n",
       "│ 2024-01-01 00:00:00 ┆ getNeigungM1           ┆ 0.6       │\n",
       "│ 2024-01-01 00:00:00 ┆ getNiveauM1            ┆ 0.0       │\n",
       "│ 2024-01-01 00:00:00 ┆ getTempVLsollM1        ┆ 0.0       │\n",
       "└─────────────────────┴────────────────────────┴───────────┘"
      ]
     },
     "execution_count": 20,
     "metadata": {},
     "output_type": "execute_result"
    }
   ],
   "source": [
    "df0.clone().drop('test',strict=False)"
   ]
  },
  {
   "cell_type": "code",
   "execution_count": 25,
   "metadata": {},
   "outputs": [
    {
     "data": {
      "text/html": [
       "<div><style>\n",
       ".dataframe > thead > tr,\n",
       ".dataframe > tbody > tr {\n",
       "  text-align: right;\n",
       "  white-space: pre-wrap;\n",
       "}\n",
       "</style>\n",
       "<small>shape: (525_599, 3)</small><table border=\"1\" class=\"dataframe\"><thead><tr><th>time</th><th>getTempA</th><th>getTempAged</th></tr><tr><td>datetime[ms]</td><td>f64</td><td>f64</td></tr></thead><tbody><tr><td>2023-01-01 00:01:00</td><td>12.5</td><td>12.8</td></tr><tr><td>2023-01-01 00:02:00</td><td>12.5</td><td>12.8</td></tr><tr><td>2023-01-01 00:03:00</td><td>12.6</td><td>12.8</td></tr><tr><td>2023-01-01 00:04:00</td><td>12.6</td><td>12.8</td></tr><tr><td>2023-01-01 00:05:00</td><td>12.6</td><td>12.8</td></tr><tr><td>&hellip;</td><td>&hellip;</td><td>&hellip;</td></tr><tr><td>2023-12-31 23:55:00</td><td>6.7</td><td>7.7</td></tr><tr><td>2023-12-31 23:56:00</td><td>6.7</td><td>7.7</td></tr><tr><td>2023-12-31 23:57:00</td><td>6.7</td><td>7.7</td></tr><tr><td>2023-12-31 23:58:00</td><td>6.7</td><td>7.7</td></tr><tr><td>2023-12-31 23:59:00</td><td>6.7</td><td>7.7</td></tr></tbody></table></div>"
      ],
      "text/plain": [
       "shape: (525_599, 3)\n",
       "┌─────────────────────┬──────────┬─────────────┐\n",
       "│ time                ┆ getTempA ┆ getTempAged │\n",
       "│ ---                 ┆ ---      ┆ ---         │\n",
       "│ datetime[ms]        ┆ f64      ┆ f64         │\n",
       "╞═════════════════════╪══════════╪═════════════╡\n",
       "│ 2023-01-01 00:01:00 ┆ 12.5     ┆ 12.8        │\n",
       "│ 2023-01-01 00:02:00 ┆ 12.5     ┆ 12.8        │\n",
       "│ 2023-01-01 00:03:00 ┆ 12.6     ┆ 12.8        │\n",
       "│ 2023-01-01 00:04:00 ┆ 12.6     ┆ 12.8        │\n",
       "│ 2023-01-01 00:05:00 ┆ 12.6     ┆ 12.8        │\n",
       "│ …                   ┆ …        ┆ …           │\n",
       "│ 2023-12-31 23:55:00 ┆ 6.7      ┆ 7.7         │\n",
       "│ 2023-12-31 23:56:00 ┆ 6.7      ┆ 7.7         │\n",
       "│ 2023-12-31 23:57:00 ┆ 6.7      ┆ 7.7         │\n",
       "│ 2023-12-31 23:58:00 ┆ 6.7      ┆ 7.7         │\n",
       "│ 2023-12-31 23:59:00 ┆ 6.7      ┆ 7.7         │\n",
       "└─────────────────────┴──────────┴─────────────┘"
      ]
     },
     "execution_count": 25,
     "metadata": {},
     "output_type": "execute_result"
    }
   ],
   "source": [
    "df2.select('time','getTempA','getTempAged')"
   ]
  },
  {
   "cell_type": "code",
   "execution_count": 44,
   "metadata": {},
   "outputs": [
    {
     "data": {
      "text/html": [
       "<div><style>\n",
       ".dataframe > thead > tr,\n",
       ".dataframe > tbody > tr {\n",
       "  text-align: right;\n",
       "  white-space: pre-wrap;\n",
       "}\n",
       "</style>\n",
       "<small>shape: (2_594, 26)</small><table border=\"1\" class=\"dataframe\"><thead><tr><th>time</th><th>getTempA</th><th>getTempAged</th><th>getTempAtp</th><th>getTempWWist</th><th>getTempAbgas</th><th>getTempWWsoll</th><th>getTempKist</th><th>getTempKsoll</th><th>getTempKOffset</th><th>getTempKtp</th><th>getTempVListM1</th><th>getTempRL17A</th><th>getStatusFrostM1</th><th>getTempRaumNorSollM1</th><th>getTempRaumRedSollM1</th><th>getBrennerStarts</th><th>getBrennerStunden1</th><th>getLeistungIst</th><th>getVolStrom</th><th>getPumpeDrehzahlIntern</th><th>getPumpeStatusIntern</th><th>getStatusStoerung</th><th>getNeigungM1</th><th>getNiveauM1</th><th>getTempVLsollM1</th></tr><tr><td>datetime[ms]</td><td>f64</td><td>f64</td><td>f64</td><td>f64</td><td>f64</td><td>f64</td><td>f64</td><td>f64</td><td>f64</td><td>f64</td><td>f64</td><td>f64</td><td>f64</td><td>f64</td><td>f64</td><td>f64</td><td>f64</td><td>f64</td><td>f64</td><td>f64</td><td>f64</td><td>f64</td><td>f64</td><td>f64</td><td>f64</td></tr></thead><tbody><tr><td>2023-12-27 04:50:00</td><td>4.5</td><td>6.3</td><td>4.4</td><td>40.200001</td><td>58.0</td><td>50.0</td><td>60.0</td><td>70.0</td><td>20.0</td><td>60.0</td><td>60.0</td><td>58.0</td><td>2.0</td><td>19.0</td><td>3.0</td><td>10232.0</td><td>21505.019531</td><td>36.5</td><td>1167.0</td><td>100.0</td><td>1.0</td><td>0.0</td><td>0.6</td><td>0.0</td><td>0.0</td></tr><tr><td>2023-12-27 04:51:00</td><td>4.5</td><td>6.3</td><td>4.4</td><td>40.900002</td><td>58.5</td><td>50.0</td><td>61.0</td><td>70.0</td><td>20.0</td><td>61.0</td><td>61.0</td><td>58.5</td><td>2.0</td><td>19.0</td><td>3.0</td><td>10232.0</td><td>21505.035156</td><td>40.0</td><td>1173.0</td><td>100.0</td><td>1.0</td><td>0.0</td><td>0.6</td><td>0.0</td><td>0.0</td></tr><tr><td>2023-12-27 04:52:00</td><td>4.5</td><td>6.3</td><td>4.4</td><td>41.5</td><td>59.299999</td><td>50.0</td><td>62.0</td><td>70.0</td><td>20.0</td><td>62.0</td><td>62.0</td><td>59.299999</td><td>2.0</td><td>19.0</td><td>3.0</td><td>10232.0</td><td>21505.052734</td><td>43.0</td><td>1167.0</td><td>100.0</td><td>1.0</td><td>0.0</td><td>0.6</td><td>0.0</td><td>0.0</td></tr><tr><td>2023-12-27 04:53:00</td><td>4.6</td><td>6.3</td><td>4.5</td><td>42.0</td><td>60.0</td><td>50.0</td><td>63.5</td><td>70.0</td><td>20.0</td><td>63.5</td><td>63.5</td><td>60.0</td><td>2.0</td><td>19.0</td><td>3.0</td><td>10232.0</td><td>21505.070312</td><td>46.5</td><td>1169.0</td><td>100.0</td><td>1.0</td><td>0.0</td><td>0.6</td><td>0.0</td><td>0.0</td></tr><tr><td>2023-12-27 04:54:00</td><td>4.6</td><td>6.3</td><td>4.5</td><td>42.700001</td><td>61.0</td><td>50.0</td><td>64.5</td><td>70.0</td><td>20.0</td><td>64.5</td><td>64.5</td><td>61.0</td><td>2.0</td><td>19.0</td><td>3.0</td><td>10232.0</td><td>21505.085938</td><td>50.0</td><td>1167.0</td><td>100.0</td><td>1.0</td><td>0.0</td><td>0.6</td><td>0.0</td><td>0.0</td></tr><tr><td>&hellip;</td><td>&hellip;</td><td>&hellip;</td><td>&hellip;</td><td>&hellip;</td><td>&hellip;</td><td>&hellip;</td><td>&hellip;</td><td>&hellip;</td><td>&hellip;</td><td>&hellip;</td><td>&hellip;</td><td>&hellip;</td><td>&hellip;</td><td>&hellip;</td><td>&hellip;</td><td>&hellip;</td><td>&hellip;</td><td>&hellip;</td><td>&hellip;</td><td>&hellip;</td><td>&hellip;</td><td>&hellip;</td><td>&hellip;</td><td>&hellip;</td><td>&hellip;</td></tr><tr><td>2023-12-31 09:34:00</td><td>10.3</td><td>8.7</td><td>10.3</td><td>44.0</td><td>22.5</td><td>50.0</td><td>24.0</td><td>25.0</td><td>20.0</td><td>24.0</td><td>24.0</td><td>22.5</td><td>2.0</td><td>18.0</td><td>3.0</td><td>10256.0</td><td>21542.59375</td><td>10.0</td><td>766.0</td><td>30.0</td><td>1.0</td><td>0.0</td><td>0.6</td><td>0.0</td><td>25.0</td></tr><tr><td>2023-12-31 09:35:00</td><td>10.4</td><td>8.7</td><td>10.3</td><td>42.900002</td><td>22.5</td><td>50.0</td><td>24.0</td><td>25.0</td><td>20.0</td><td>24.0</td><td>24.0</td><td>22.5</td><td>2.0</td><td>18.0</td><td>3.0</td><td>10256.0</td><td>21542.609375</td><td>10.0</td><td>772.0</td><td>30.0</td><td>1.0</td><td>0.0</td><td>0.6</td><td>0.0</td><td>25.0</td></tr><tr><td>2023-12-31 09:36:00</td><td>10.5</td><td>8.7</td><td>10.3</td><td>41.299999</td><td>22.5</td><td>50.0</td><td>24.0</td><td>25.0</td><td>20.0</td><td>24.0</td><td>24.0</td><td>22.5</td><td>2.0</td><td>18.0</td><td>3.0</td><td>10256.0</td><td>21542.626953</td><td>10.0</td><td>767.0</td><td>30.0</td><td>1.0</td><td>0.0</td><td>0.6</td><td>0.0</td><td>25.0</td></tr><tr><td>2023-12-31 09:37:00</td><td>10.8</td><td>8.7</td><td>10.4</td><td>41.0</td><td>23.0</td><td>50.0</td><td>24.0</td><td>25.0</td><td>20.0</td><td>24.0</td><td>24.0</td><td>23.0</td><td>2.0</td><td>18.0</td><td>3.0</td><td>10256.0</td><td>21542.642578</td><td>10.0</td><td>766.0</td><td>30.0</td><td>1.0</td><td>0.0</td><td>0.6</td><td>0.0</td><td>25.0</td></tr><tr><td>2023-12-31 09:38:00</td><td>11.2</td><td>8.8</td><td>10.6</td><td>40.200001</td><td>23.0</td><td>50.0</td><td>24.0</td><td>24.9</td><td>20.0</td><td>24.0</td><td>24.0</td><td>23.0</td><td>2.0</td><td>18.0</td><td>3.0</td><td>10256.0</td><td>21542.660156</td><td>10.0</td><td>760.0</td><td>29.0</td><td>1.0</td><td>0.0</td><td>0.6</td><td>0.0</td><td>24.9</td></tr></tbody></table></div>"
      ],
      "text/plain": [
       "shape: (2_594, 26)\n",
       "┌───────────┬──────────┬───────────┬───────────┬───┬───────────┬───────────┬───────────┬───────────┐\n",
       "│ time      ┆ getTempA ┆ getTempAg ┆ getTempAt ┆ … ┆ getStatus ┆ getNeigun ┆ getNiveau ┆ getTempVL │\n",
       "│ ---       ┆ ---      ┆ ed        ┆ p         ┆   ┆ Stoerung  ┆ gM1       ┆ M1        ┆ sollM1    │\n",
       "│ datetime[ ┆ f64      ┆ ---       ┆ ---       ┆   ┆ ---       ┆ ---       ┆ ---       ┆ ---       │\n",
       "│ ms]       ┆          ┆ f64       ┆ f64       ┆   ┆ f64       ┆ f64       ┆ f64       ┆ f64       │\n",
       "╞═══════════╪══════════╪═══════════╪═══════════╪═══╪═══════════╪═══════════╪═══════════╪═══════════╡\n",
       "│ 2023-12-2 ┆ 4.5      ┆ 6.3       ┆ 4.4       ┆ … ┆ 0.0       ┆ 0.6       ┆ 0.0       ┆ 0.0       │\n",
       "│ 7         ┆          ┆           ┆           ┆   ┆           ┆           ┆           ┆           │\n",
       "│ 04:50:00  ┆          ┆           ┆           ┆   ┆           ┆           ┆           ┆           │\n",
       "│ 2023-12-2 ┆ 4.5      ┆ 6.3       ┆ 4.4       ┆ … ┆ 0.0       ┆ 0.6       ┆ 0.0       ┆ 0.0       │\n",
       "│ 7         ┆          ┆           ┆           ┆   ┆           ┆           ┆           ┆           │\n",
       "│ 04:51:00  ┆          ┆           ┆           ┆   ┆           ┆           ┆           ┆           │\n",
       "│ 2023-12-2 ┆ 4.5      ┆ 6.3       ┆ 4.4       ┆ … ┆ 0.0       ┆ 0.6       ┆ 0.0       ┆ 0.0       │\n",
       "│ 7         ┆          ┆           ┆           ┆   ┆           ┆           ┆           ┆           │\n",
       "│ 04:52:00  ┆          ┆           ┆           ┆   ┆           ┆           ┆           ┆           │\n",
       "│ 2023-12-2 ┆ 4.6      ┆ 6.3       ┆ 4.5       ┆ … ┆ 0.0       ┆ 0.6       ┆ 0.0       ┆ 0.0       │\n",
       "│ 7         ┆          ┆           ┆           ┆   ┆           ┆           ┆           ┆           │\n",
       "│ 04:53:00  ┆          ┆           ┆           ┆   ┆           ┆           ┆           ┆           │\n",
       "│ 2023-12-2 ┆ 4.6      ┆ 6.3       ┆ 4.5       ┆ … ┆ 0.0       ┆ 0.6       ┆ 0.0       ┆ 0.0       │\n",
       "│ 7         ┆          ┆           ┆           ┆   ┆           ┆           ┆           ┆           │\n",
       "│ 04:54:00  ┆          ┆           ┆           ┆   ┆           ┆           ┆           ┆           │\n",
       "│ …         ┆ …        ┆ …         ┆ …         ┆ … ┆ …         ┆ …         ┆ …         ┆ …         │\n",
       "│ 2023-12-3 ┆ 10.3     ┆ 8.7       ┆ 10.3      ┆ … ┆ 0.0       ┆ 0.6       ┆ 0.0       ┆ 25.0      │\n",
       "│ 1         ┆          ┆           ┆           ┆   ┆           ┆           ┆           ┆           │\n",
       "│ 09:34:00  ┆          ┆           ┆           ┆   ┆           ┆           ┆           ┆           │\n",
       "│ 2023-12-3 ┆ 10.4     ┆ 8.7       ┆ 10.3      ┆ … ┆ 0.0       ┆ 0.6       ┆ 0.0       ┆ 25.0      │\n",
       "│ 1         ┆          ┆           ┆           ┆   ┆           ┆           ┆           ┆           │\n",
       "│ 09:35:00  ┆          ┆           ┆           ┆   ┆           ┆           ┆           ┆           │\n",
       "│ 2023-12-3 ┆ 10.5     ┆ 8.7       ┆ 10.3      ┆ … ┆ 0.0       ┆ 0.6       ┆ 0.0       ┆ 25.0      │\n",
       "│ 1         ┆          ┆           ┆           ┆   ┆           ┆           ┆           ┆           │\n",
       "│ 09:36:00  ┆          ┆           ┆           ┆   ┆           ┆           ┆           ┆           │\n",
       "│ 2023-12-3 ┆ 10.8     ┆ 8.7       ┆ 10.4      ┆ … ┆ 0.0       ┆ 0.6       ┆ 0.0       ┆ 25.0      │\n",
       "│ 1         ┆          ┆           ┆           ┆   ┆           ┆           ┆           ┆           │\n",
       "│ 09:37:00  ┆          ┆           ┆           ┆   ┆           ┆           ┆           ┆           │\n",
       "│ 2023-12-3 ┆ 11.2     ┆ 8.8       ┆ 10.6      ┆ … ┆ 0.0       ┆ 0.6       ┆ 0.0       ┆ 24.9      │\n",
       "│ 1         ┆          ┆           ┆           ┆   ┆           ┆           ┆           ┆           │\n",
       "│ 09:38:00  ┆          ┆           ┆           ┆   ┆           ┆           ┆           ┆           │\n",
       "└───────────┴──────────┴───────────┴───────────┴───┴───────────┴───────────┴───────────┴───────────┘"
      ]
     },
     "execution_count": 44,
     "metadata": {},
     "output_type": "execute_result"
    }
   ],
   "source": [
    "df2.filter(pl.col('getBrennerStunden1')>21_500, pl.col('getTempWWist')>40)"
   ]
  },
  {
   "cell_type": "code",
   "execution_count": 51,
   "metadata": {},
   "outputs": [
    {
     "data": {
      "text/html": [
       "<div><style>\n",
       ".dataframe > thead > tr,\n",
       ".dataframe > tbody > tr {\n",
       "  text-align: right;\n",
       "  white-space: pre-wrap;\n",
       "}\n",
       "</style>\n",
       "<small>shape: (525_599, 4)</small><table border=\"1\" class=\"dataframe\"><thead><tr><th>time</th><th>getTempA</th><th>getTempAged</th><th>new</th></tr><tr><td>datetime[ms]</td><td>f64</td><td>f64</td><td>f64</td></tr></thead><tbody><tr><td>2023-01-01 00:01:00</td><td>12.5</td><td>12.8</td><td>4.17</td></tr><tr><td>2023-01-01 00:02:00</td><td>12.5</td><td>12.8</td><td>4.17</td></tr><tr><td>2023-01-01 00:03:00</td><td>12.6</td><td>12.8</td><td>4.2</td></tr><tr><td>2023-01-01 00:04:00</td><td>12.6</td><td>12.8</td><td>4.2</td></tr><tr><td>2023-01-01 00:05:00</td><td>12.6</td><td>12.8</td><td>4.2</td></tr><tr><td>&hellip;</td><td>&hellip;</td><td>&hellip;</td><td>&hellip;</td></tr><tr><td>2023-12-31 23:55:00</td><td>6.7</td><td>7.7</td><td>2.23</td></tr><tr><td>2023-12-31 23:56:00</td><td>6.7</td><td>7.7</td><td>2.23</td></tr><tr><td>2023-12-31 23:57:00</td><td>6.7</td><td>7.7</td><td>2.23</td></tr><tr><td>2023-12-31 23:58:00</td><td>6.7</td><td>7.7</td><td>2.23</td></tr><tr><td>2023-12-31 23:59:00</td><td>6.7</td><td>7.7</td><td>2.23</td></tr></tbody></table></div>"
      ],
      "text/plain": [
       "shape: (525_599, 4)\n",
       "┌─────────────────────┬──────────┬─────────────┬──────┐\n",
       "│ time                ┆ getTempA ┆ getTempAged ┆ new  │\n",
       "│ ---                 ┆ ---      ┆ ---         ┆ ---  │\n",
       "│ datetime[ms]        ┆ f64      ┆ f64         ┆ f64  │\n",
       "╞═════════════════════╪══════════╪═════════════╪══════╡\n",
       "│ 2023-01-01 00:01:00 ┆ 12.5     ┆ 12.8        ┆ 4.17 │\n",
       "│ 2023-01-01 00:02:00 ┆ 12.5     ┆ 12.8        ┆ 4.17 │\n",
       "│ 2023-01-01 00:03:00 ┆ 12.6     ┆ 12.8        ┆ 4.2  │\n",
       "│ 2023-01-01 00:04:00 ┆ 12.6     ┆ 12.8        ┆ 4.2  │\n",
       "│ 2023-01-01 00:05:00 ┆ 12.6     ┆ 12.8        ┆ 4.2  │\n",
       "│ …                   ┆ …        ┆ …           ┆ …    │\n",
       "│ 2023-12-31 23:55:00 ┆ 6.7      ┆ 7.7         ┆ 2.23 │\n",
       "│ 2023-12-31 23:56:00 ┆ 6.7      ┆ 7.7         ┆ 2.23 │\n",
       "│ 2023-12-31 23:57:00 ┆ 6.7      ┆ 7.7         ┆ 2.23 │\n",
       "│ 2023-12-31 23:58:00 ┆ 6.7      ┆ 7.7         ┆ 2.23 │\n",
       "│ 2023-12-31 23:59:00 ┆ 6.7      ┆ 7.7         ┆ 2.23 │\n",
       "└─────────────────────┴──────────┴─────────────┴──────┘"
      ]
     },
     "execution_count": 51,
     "metadata": {},
     "output_type": "execute_result"
    }
   ],
   "source": [
    "df2.select('time','getTempA','getTempAged').with_columns((pl.col('getTempA')/3).round(2).alias('new'))"
   ]
  },
  {
   "cell_type": "code",
   "execution_count": 57,
   "metadata": {},
   "outputs": [
    {
     "data": {
      "text/html": [
       "<div><style>\n",
       ".dataframe > thead > tr,\n",
       ".dataframe > tbody > tr {\n",
       "  text-align: right;\n",
       "  white-space: pre-wrap;\n",
       "}\n",
       "</style>\n",
       "<small>shape: (25, 2)</small><table border=\"1\" class=\"dataframe\"><thead><tr><th>Channel</th><th>Count</th></tr><tr><td>str</td><td>u32</td></tr></thead><tbody><tr><td>&quot;getTempRL17A&quot;</td><td>519963</td></tr><tr><td>&quot;getTempAtp&quot;</td><td>519963</td></tr><tr><td>&quot;getTempAged&quot;</td><td>519963</td></tr><tr><td>&quot;getStatusStoerung&quot;</td><td>519963</td></tr><tr><td>&quot;getTempAbgas&quot;</td><td>519963</td></tr><tr><td>&hellip;</td><td>&hellip;</td></tr><tr><td>&quot;getNiveauM1&quot;</td><td>482006</td></tr><tr><td>&quot;getBrennerStarts&quot;</td><td>519963</td></tr><tr><td>&quot;getTempA&quot;</td><td>519963</td></tr><tr><td>&quot;getTempRaumRedSollM1&quot;</td><td>519963</td></tr><tr><td>&quot;getTempKist&quot;</td><td>519963</td></tr></tbody></table></div>"
      ],
      "text/plain": [
       "shape: (25, 2)\n",
       "┌──────────────────────┬────────┐\n",
       "│ Channel              ┆ Count  │\n",
       "│ ---                  ┆ ---    │\n",
       "│ str                  ┆ u32    │\n",
       "╞══════════════════════╪════════╡\n",
       "│ getTempRL17A         ┆ 519963 │\n",
       "│ getTempAtp           ┆ 519963 │\n",
       "│ getTempAged          ┆ 519963 │\n",
       "│ getStatusStoerung    ┆ 519963 │\n",
       "│ getTempAbgas         ┆ 519963 │\n",
       "│ …                    ┆ …      │\n",
       "│ getNiveauM1          ┆ 482006 │\n",
       "│ getBrennerStarts     ┆ 519963 │\n",
       "│ getTempA             ┆ 519963 │\n",
       "│ getTempRaumRedSollM1 ┆ 519963 │\n",
       "│ getTempKist          ┆ 519963 │\n",
       "└──────────────────────┴────────┘"
      ]
     },
     "execution_count": 57,
     "metadata": {},
     "output_type": "execute_result"
    }
   ],
   "source": [
    "df0.group_by('Channel').agg([\n",
    "    pl.col('Wert').count().alias('Count')\n",
    "    ])"
   ]
  },
  {
   "cell_type": "code",
   "execution_count": 58,
   "metadata": {},
   "outputs": [
    {
     "data": {
      "text/html": [
       "<div><style>\n",
       ".dataframe > thead > tr,\n",
       ".dataframe > tbody > tr {\n",
       "  text-align: right;\n",
       "  white-space: pre-wrap;\n",
       "}\n",
       "</style>\n",
       "<small>shape: (1, 26)</small><table border=\"1\" class=\"dataframe\"><thead><tr><th>time</th><th>getTempA</th><th>getTempAged</th><th>getTempAtp</th><th>getTempWWist</th><th>getTempAbgas</th><th>getTempWWsoll</th><th>getTempKist</th><th>getTempKsoll</th><th>getTempKOffset</th><th>getTempKtp</th><th>getTempVListM1</th><th>getTempRL17A</th><th>getStatusFrostM1</th><th>getTempRaumNorSollM1</th><th>getTempRaumRedSollM1</th><th>getBrennerStarts</th><th>getBrennerStunden1</th><th>getLeistungIst</th><th>getVolStrom</th><th>getPumpeDrehzahlIntern</th><th>getPumpeStatusIntern</th><th>getStatusStoerung</th><th>getNeigungM1</th><th>getNiveauM1</th><th>getTempVLsollM1</th></tr><tr><td>u32</td><td>u32</td><td>u32</td><td>u32</td><td>u32</td><td>u32</td><td>u32</td><td>u32</td><td>u32</td><td>u32</td><td>u32</td><td>u32</td><td>u32</td><td>u32</td><td>u32</td><td>u32</td><td>u32</td><td>u32</td><td>u32</td><td>u32</td><td>u32</td><td>u32</td><td>u32</td><td>u32</td><td>u32</td><td>u32</td></tr></thead><tbody><tr><td>0</td><td>8012</td><td>8013</td><td>8013</td><td>8013</td><td>8017</td><td>8014</td><td>8019</td><td>8019</td><td>8019</td><td>8018</td><td>8018</td><td>8016</td><td>8017</td><td>8016</td><td>8016</td><td>8017</td><td>8018</td><td>8019</td><td>8019</td><td>8021</td><td>8019</td><td>8022</td><td>45842</td><td>45842</td><td>45842</td></tr></tbody></table></div>"
      ],
      "text/plain": [
       "shape: (1, 26)\n",
       "┌──────┬──────────┬────────────┬────────────┬───┬────────────┬────────────┬────────────┬───────────┐\n",
       "│ time ┆ getTempA ┆ getTempAge ┆ getTempAtp ┆ … ┆ getStatusS ┆ getNeigung ┆ getNiveauM ┆ getTempVL │\n",
       "│ ---  ┆ ---      ┆ d          ┆ ---        ┆   ┆ toerung    ┆ M1         ┆ 1          ┆ sollM1    │\n",
       "│ u32  ┆ u32      ┆ ---        ┆ u32        ┆   ┆ ---        ┆ ---        ┆ ---        ┆ ---       │\n",
       "│      ┆          ┆ u32        ┆            ┆   ┆ u32        ┆ u32        ┆ u32        ┆ u32       │\n",
       "╞══════╪══════════╪════════════╪════════════╪═══╪════════════╪════════════╪════════════╪═══════════╡\n",
       "│ 0    ┆ 8012     ┆ 8013       ┆ 8013       ┆ … ┆ 8022       ┆ 45842      ┆ 45842      ┆ 45842     │\n",
       "└──────┴──────────┴────────────┴────────────┴───┴────────────┴────────────┴────────────┴───────────┘"
      ]
     },
     "execution_count": 58,
     "metadata": {},
     "output_type": "execute_result"
    }
   ],
   "source": [
    "df2.null_count()"
   ]
  },
  {
   "cell_type": "code",
   "execution_count": 62,
   "metadata": {},
   "outputs": [
    {
     "data": {
      "text/html": [
       "<div><style>\n",
       ".dataframe > thead > tr,\n",
       ".dataframe > tbody > tr {\n",
       "  text-align: right;\n",
       "  white-space: pre-wrap;\n",
       "}\n",
       "</style>\n",
       "<small>shape: (1, 26)</small><table border=\"1\" class=\"dataframe\"><thead><tr><th>time</th><th>getTempA</th><th>getTempAged</th><th>getTempAtp</th><th>getTempWWist</th><th>getTempAbgas</th><th>getTempWWsoll</th><th>getTempKist</th><th>getTempKsoll</th><th>getTempKOffset</th><th>getTempKtp</th><th>getTempVListM1</th><th>getTempRL17A</th><th>getStatusFrostM1</th><th>getTempRaumNorSollM1</th><th>getTempRaumRedSollM1</th><th>getBrennerStarts</th><th>getBrennerStunden1</th><th>getLeistungIst</th><th>getVolStrom</th><th>getPumpeDrehzahlIntern</th><th>getPumpeStatusIntern</th><th>getStatusStoerung</th><th>getNeigungM1</th><th>getNiveauM1</th><th>getTempVLsollM1</th></tr><tr><td>u32</td><td>u32</td><td>u32</td><td>u32</td><td>u32</td><td>u32</td><td>u32</td><td>u32</td><td>u32</td><td>u32</td><td>u32</td><td>u32</td><td>u32</td><td>u32</td><td>u32</td><td>u32</td><td>u32</td><td>u32</td><td>u32</td><td>u32</td><td>u32</td><td>u32</td><td>u32</td><td>u32</td><td>u32</td><td>u32</td></tr></thead><tbody><tr><td>0</td><td>0</td><td>0</td><td>0</td><td>0</td><td>0</td><td>0</td><td>0</td><td>0</td><td>0</td><td>0</td><td>0</td><td>0</td><td>0</td><td>0</td><td>0</td><td>0</td><td>0</td><td>0</td><td>0</td><td>0</td><td>0</td><td>0</td><td>36930</td><td>36930</td><td>36930</td></tr></tbody></table></div>"
      ],
      "text/plain": [
       "shape: (1, 26)\n",
       "┌──────┬──────────┬────────────┬────────────┬───┬────────────┬────────────┬────────────┬───────────┐\n",
       "│ time ┆ getTempA ┆ getTempAge ┆ getTempAtp ┆ … ┆ getStatusS ┆ getNeigung ┆ getNiveauM ┆ getTempVL │\n",
       "│ ---  ┆ ---      ┆ d          ┆ ---        ┆   ┆ toerung    ┆ M1         ┆ 1          ┆ sollM1    │\n",
       "│ u32  ┆ u32      ┆ ---        ┆ u32        ┆   ┆ ---        ┆ ---        ┆ ---        ┆ ---       │\n",
       "│      ┆          ┆ u32        ┆            ┆   ┆ u32        ┆ u32        ┆ u32        ┆ u32       │\n",
       "╞══════╪══════════╪════════════╪════════════╪═══╪════════════╪════════════╪════════════╪═══════════╡\n",
       "│ 0    ┆ 0        ┆ 0          ┆ 0          ┆ … ┆ 0          ┆ 36930      ┆ 36930      ┆ 36930     │\n",
       "└──────┴──────────┴────────────┴────────────┴───┴────────────┴────────────┴────────────┴───────────┘"
      ]
     },
     "execution_count": 62,
     "metadata": {},
     "output_type": "execute_result"
    }
   ],
   "source": [
    "df2.interpolate().null_count()"
   ]
  },
  {
   "cell_type": "code",
   "execution_count": 63,
   "metadata": {},
   "outputs": [
    {
     "data": {
      "text/html": [
       "<div><style>\n",
       ".dataframe > thead > tr,\n",
       ".dataframe > tbody > tr {\n",
       "  text-align: right;\n",
       "  white-space: pre-wrap;\n",
       "}\n",
       "</style>\n",
       "<small>shape: (525_599, 26)</small><table border=\"1\" class=\"dataframe\"><thead><tr><th>time</th><th>getTempA</th><th>getTempAged</th><th>getTempAtp</th><th>getTempWWist</th><th>getTempAbgas</th><th>getTempWWsoll</th><th>getTempKist</th><th>getTempKsoll</th><th>getTempKOffset</th><th>getTempKtp</th><th>getTempVListM1</th><th>getTempRL17A</th><th>getStatusFrostM1</th><th>getTempRaumNorSollM1</th><th>getTempRaumRedSollM1</th><th>getBrennerStarts</th><th>getBrennerStunden1</th><th>getLeistungIst</th><th>getVolStrom</th><th>getPumpeDrehzahlIntern</th><th>getPumpeStatusIntern</th><th>getStatusStoerung</th><th>getNeigungM1</th><th>getNiveauM1</th><th>getTempVLsollM1</th></tr><tr><td>datetime[ms]</td><td>f64</td><td>f64</td><td>f64</td><td>f64</td><td>f64</td><td>f64</td><td>f64</td><td>f64</td><td>f64</td><td>f64</td><td>f64</td><td>f64</td><td>f64</td><td>f64</td><td>f64</td><td>f64</td><td>f64</td><td>f64</td><td>f64</td><td>f64</td><td>f64</td><td>f64</td><td>f64</td><td>f64</td><td>f64</td></tr></thead><tbody><tr><td>2023-01-01 00:01:00</td><td>12.5</td><td>12.8</td><td>12.5</td><td>22.700001</td><td>19.0</td><td>50.0</td><td>19.0</td><td>5.0</td><td>20.0</td><td>19.0</td><td>19.0</td><td>19.0</td><td>2.0</td><td>17.0</td><td>3.0</td><td>9318.0</td><td>20008.796875</td><td>0.0</td><td>0.0</td><td>0.0</td><td>0.0</td><td>0.0</td><td>null</td><td>null</td><td>null</td></tr><tr><td>2023-01-01 00:02:00</td><td>12.5</td><td>12.8</td><td>12.5</td><td>22.700001</td><td>19.0</td><td>50.0</td><td>19.0</td><td>5.0</td><td>20.0</td><td>19.0</td><td>19.0</td><td>19.0</td><td>2.0</td><td>17.0</td><td>3.0</td><td>9318.0</td><td>20008.796875</td><td>0.0</td><td>1.0</td><td>0.0</td><td>0.0</td><td>0.0</td><td>null</td><td>null</td><td>null</td></tr><tr><td>2023-01-01 00:03:00</td><td>12.6</td><td>12.8</td><td>12.5</td><td>22.799999</td><td>19.0</td><td>50.0</td><td>19.0</td><td>5.0</td><td>20.0</td><td>19.0</td><td>19.0</td><td>19.0</td><td>2.0</td><td>17.0</td><td>3.0</td><td>9318.0</td><td>20008.796875</td><td>0.0</td><td>0.0</td><td>0.0</td><td>0.0</td><td>0.0</td><td>null</td><td>null</td><td>null</td></tr><tr><td>2023-01-01 00:04:00</td><td>12.6</td><td>12.8</td><td>12.5</td><td>22.700001</td><td>19.0</td><td>50.0</td><td>19.0</td><td>5.0</td><td>20.0</td><td>19.0</td><td>19.0</td><td>19.0</td><td>2.0</td><td>17.0</td><td>3.0</td><td>9318.0</td><td>20008.796875</td><td>0.0</td><td>0.0</td><td>0.0</td><td>0.0</td><td>0.0</td><td>null</td><td>null</td><td>null</td></tr><tr><td>2023-01-01 00:05:00</td><td>12.6</td><td>12.8</td><td>12.5</td><td>22.700001</td><td>19.0</td><td>50.0</td><td>19.0</td><td>5.0</td><td>20.0</td><td>19.0</td><td>19.0</td><td>19.0</td><td>2.0</td><td>17.0</td><td>3.0</td><td>9318.0</td><td>20008.796875</td><td>0.0</td><td>0.0</td><td>0.0</td><td>0.0</td><td>0.0</td><td>null</td><td>null</td><td>null</td></tr><tr><td>&hellip;</td><td>&hellip;</td><td>&hellip;</td><td>&hellip;</td><td>&hellip;</td><td>&hellip;</td><td>&hellip;</td><td>&hellip;</td><td>&hellip;</td><td>&hellip;</td><td>&hellip;</td><td>&hellip;</td><td>&hellip;</td><td>&hellip;</td><td>&hellip;</td><td>&hellip;</td><td>&hellip;</td><td>&hellip;</td><td>&hellip;</td><td>&hellip;</td><td>&hellip;</td><td>&hellip;</td><td>&hellip;</td><td>&hellip;</td><td>&hellip;</td><td>&hellip;</td></tr><tr><td>2023-12-31 23:55:00</td><td>6.7</td><td>7.7</td><td>6.7</td><td>24.200001</td><td>21.5</td><td>50.0</td><td>21.0</td><td>5.0</td><td>20.0</td><td>21.0</td><td>21.0</td><td>21.5</td><td>2.0</td><td>18.0</td><td>3.0</td><td>10259.0</td><td>21548.449219</td><td>0.0</td><td>0.0</td><td>0.0</td><td>0.0</td><td>0.0</td><td>0.6</td><td>0.0</td><td>0.0</td></tr><tr><td>2023-12-31 23:56:00</td><td>6.7</td><td>7.7</td><td>6.7</td><td>24.200001</td><td>21.5</td><td>50.0</td><td>21.0</td><td>5.0</td><td>20.0</td><td>21.0</td><td>21.0</td><td>21.5</td><td>2.0</td><td>18.0</td><td>3.0</td><td>10259.0</td><td>21548.449219</td><td>0.0</td><td>0.0</td><td>0.0</td><td>0.0</td><td>0.0</td><td>0.6</td><td>0.0</td><td>0.0</td></tr><tr><td>2023-12-31 23:57:00</td><td>6.7</td><td>7.7</td><td>6.7</td><td>24.200001</td><td>21.5</td><td>50.0</td><td>21.0</td><td>5.0</td><td>20.0</td><td>21.0</td><td>21.0</td><td>21.5</td><td>2.0</td><td>18.0</td><td>3.0</td><td>10259.0</td><td>21548.449219</td><td>0.0</td><td>0.0</td><td>0.0</td><td>0.0</td><td>0.0</td><td>0.6</td><td>0.0</td><td>0.0</td></tr><tr><td>2023-12-31 23:58:00</td><td>6.7</td><td>7.7</td><td>6.7</td><td>24.200001</td><td>21.5</td><td>50.0</td><td>21.0</td><td>5.0</td><td>20.0</td><td>21.0</td><td>21.0</td><td>21.5</td><td>2.0</td><td>18.0</td><td>3.0</td><td>10259.0</td><td>21548.449219</td><td>0.0</td><td>0.0</td><td>0.0</td><td>0.0</td><td>0.0</td><td>0.6</td><td>0.0</td><td>0.0</td></tr><tr><td>2023-12-31 23:59:00</td><td>6.7</td><td>7.7</td><td>6.7</td><td>24.200001</td><td>21.5</td><td>50.0</td><td>21.0</td><td>5.0</td><td>20.0</td><td>21.0</td><td>21.0</td><td>21.5</td><td>2.0</td><td>18.0</td><td>3.0</td><td>10259.0</td><td>21548.449219</td><td>0.0</td><td>0.0</td><td>0.0</td><td>0.0</td><td>0.0</td><td>0.6</td><td>0.0</td><td>0.0</td></tr></tbody></table></div>"
      ],
      "text/plain": [
       "shape: (525_599, 26)\n",
       "┌───────────┬──────────┬───────────┬───────────┬───┬───────────┬───────────┬───────────┬───────────┐\n",
       "│ time      ┆ getTempA ┆ getTempAg ┆ getTempAt ┆ … ┆ getStatus ┆ getNeigun ┆ getNiveau ┆ getTempVL │\n",
       "│ ---       ┆ ---      ┆ ed        ┆ p         ┆   ┆ Stoerung  ┆ gM1       ┆ M1        ┆ sollM1    │\n",
       "│ datetime[ ┆ f64      ┆ ---       ┆ ---       ┆   ┆ ---       ┆ ---       ┆ ---       ┆ ---       │\n",
       "│ ms]       ┆          ┆ f64       ┆ f64       ┆   ┆ f64       ┆ f64       ┆ f64       ┆ f64       │\n",
       "╞═══════════╪══════════╪═══════════╪═══════════╪═══╪═══════════╪═══════════╪═══════════╪═══════════╡\n",
       "│ 2023-01-0 ┆ 12.5     ┆ 12.8      ┆ 12.5      ┆ … ┆ 0.0       ┆ null      ┆ null      ┆ null      │\n",
       "│ 1         ┆          ┆           ┆           ┆   ┆           ┆           ┆           ┆           │\n",
       "│ 00:01:00  ┆          ┆           ┆           ┆   ┆           ┆           ┆           ┆           │\n",
       "│ 2023-01-0 ┆ 12.5     ┆ 12.8      ┆ 12.5      ┆ … ┆ 0.0       ┆ null      ┆ null      ┆ null      │\n",
       "│ 1         ┆          ┆           ┆           ┆   ┆           ┆           ┆           ┆           │\n",
       "│ 00:02:00  ┆          ┆           ┆           ┆   ┆           ┆           ┆           ┆           │\n",
       "│ 2023-01-0 ┆ 12.6     ┆ 12.8      ┆ 12.5      ┆ … ┆ 0.0       ┆ null      ┆ null      ┆ null      │\n",
       "│ 1         ┆          ┆           ┆           ┆   ┆           ┆           ┆           ┆           │\n",
       "│ 00:03:00  ┆          ┆           ┆           ┆   ┆           ┆           ┆           ┆           │\n",
       "│ 2023-01-0 ┆ 12.6     ┆ 12.8      ┆ 12.5      ┆ … ┆ 0.0       ┆ null      ┆ null      ┆ null      │\n",
       "│ 1         ┆          ┆           ┆           ┆   ┆           ┆           ┆           ┆           │\n",
       "│ 00:04:00  ┆          ┆           ┆           ┆   ┆           ┆           ┆           ┆           │\n",
       "│ 2023-01-0 ┆ 12.6     ┆ 12.8      ┆ 12.5      ┆ … ┆ 0.0       ┆ null      ┆ null      ┆ null      │\n",
       "│ 1         ┆          ┆           ┆           ┆   ┆           ┆           ┆           ┆           │\n",
       "│ 00:05:00  ┆          ┆           ┆           ┆   ┆           ┆           ┆           ┆           │\n",
       "│ …         ┆ …        ┆ …         ┆ …         ┆ … ┆ …         ┆ …         ┆ …         ┆ …         │\n",
       "│ 2023-12-3 ┆ 6.7      ┆ 7.7       ┆ 6.7       ┆ … ┆ 0.0       ┆ 0.6       ┆ 0.0       ┆ 0.0       │\n",
       "│ 1         ┆          ┆           ┆           ┆   ┆           ┆           ┆           ┆           │\n",
       "│ 23:55:00  ┆          ┆           ┆           ┆   ┆           ┆           ┆           ┆           │\n",
       "│ 2023-12-3 ┆ 6.7      ┆ 7.7       ┆ 6.7       ┆ … ┆ 0.0       ┆ 0.6       ┆ 0.0       ┆ 0.0       │\n",
       "│ 1         ┆          ┆           ┆           ┆   ┆           ┆           ┆           ┆           │\n",
       "│ 23:56:00  ┆          ┆           ┆           ┆   ┆           ┆           ┆           ┆           │\n",
       "│ 2023-12-3 ┆ 6.7      ┆ 7.7       ┆ 6.7       ┆ … ┆ 0.0       ┆ 0.6       ┆ 0.0       ┆ 0.0       │\n",
       "│ 1         ┆          ┆           ┆           ┆   ┆           ┆           ┆           ┆           │\n",
       "│ 23:57:00  ┆          ┆           ┆           ┆   ┆           ┆           ┆           ┆           │\n",
       "│ 2023-12-3 ┆ 6.7      ┆ 7.7       ┆ 6.7       ┆ … ┆ 0.0       ┆ 0.6       ┆ 0.0       ┆ 0.0       │\n",
       "│ 1         ┆          ┆           ┆           ┆   ┆           ┆           ┆           ┆           │\n",
       "│ 23:58:00  ┆          ┆           ┆           ┆   ┆           ┆           ┆           ┆           │\n",
       "│ 2023-12-3 ┆ 6.7      ┆ 7.7       ┆ 6.7       ┆ … ┆ 0.0       ┆ 0.6       ┆ 0.0       ┆ 0.0       │\n",
       "│ 1         ┆          ┆           ┆           ┆   ┆           ┆           ┆           ┆           │\n",
       "│ 23:59:00  ┆          ┆           ┆           ┆   ┆           ┆           ┆           ┆           │\n",
       "└───────────┴──────────┴───────────┴───────────┴───┴───────────┴───────────┴───────────┴───────────┘"
      ]
     },
     "execution_count": 63,
     "metadata": {},
     "output_type": "execute_result"
    }
   ],
   "source": [
    "df2.with_columns(pl.col('getTempA').fill_null(strategy='forward'))"
   ]
  },
  {
   "cell_type": "code",
   "execution_count": null,
   "metadata": {},
   "outputs": [],
   "source": []
  }
 ],
 "metadata": {
  "kernelspec": {
   "display_name": "venv",
   "language": "python",
   "name": "python3"
  },
  "language_info": {
   "codemirror_mode": {
    "name": "ipython",
    "version": 3
   },
   "file_extension": ".py",
   "mimetype": "text/x-python",
   "name": "python",
   "nbconvert_exporter": "python",
   "pygments_lexer": "ipython3",
   "version": "3.9.13"
  }
 },
 "nbformat": 4,
 "nbformat_minor": 2
}
