{
 "cells": [
  {
   "cell_type": "code",
   "execution_count": 1,
   "metadata": {},
   "outputs": [],
   "source": [
    "import polars as pl\n",
    "import numpy as np\n",
    "from datetime import datetime\n",
    "import matplotlib.pyplot as plt"
   ]
  },
  {
   "cell_type": "code",
   "execution_count": 29,
   "metadata": {},
   "outputs": [
    {
     "name": "stdout",
     "output_type": "stream",
     "text": [
      "shape: (3, 4)\n",
      "┌─────────┬─────────────────────┬───────┬────────┐\n",
      "│ integer ┆ date                ┆ float ┆ string │\n",
      "│ ---     ┆ ---                 ┆ ---   ┆ ---    │\n",
      "│ i64     ┆ datetime[μs]        ┆ f64   ┆ str    │\n",
      "╞═════════╪═════════════════════╪═══════╪════════╡\n",
      "│ 1       ┆ 2025-01-01 00:00:00 ┆ 5.0   ┆ c      │\n",
      "│ 2       ┆ 2025-01-02 00:00:00 ┆ 4.0   ┆ b      │\n",
      "│ 3       ┆ 2025-01-03 00:00:00 ┆ 6.0   ┆ a      │\n",
      "└─────────┴─────────────────────┴───────┴────────┘\n"
     ]
    }
   ],
   "source": [
    "# create dataframe 01\n",
    "\n",
    "df = pl.DataFrame(\n",
    "    {\n",
    "        \"integer\": [1, 2, 3],\n",
    "        \"date\": [\n",
    "            datetime(2025, 1, 1),\n",
    "            datetime(2025, 1, 2),\n",
    "            datetime(2025, 1, 3),\n",
    "        ],\n",
    "        \"float\": [5.0, 4.0, 6.0],\n",
    "        \"string\": [\"c\", \"b\", \"a\"],\n",
    "    }\n",
    ")\n",
    "\n",
    "print(df)"
   ]
  },
  {
   "cell_type": "code",
   "execution_count": 30,
   "metadata": {},
   "outputs": [
    {
     "data": {
      "text/html": [
       "<div><style>\n",
       ".dataframe > thead > tr,\n",
       ".dataframe > tbody > tr {\n",
       "  text-align: right;\n",
       "  white-space: pre-wrap;\n",
       "}\n",
       "</style>\n",
       "<small>shape: (3, 4)</small><table border=\"1\" class=\"dataframe\"><thead><tr><th>integer</th><th>date</th><th>float</th><th>string</th></tr><tr><td>i64</td><td>datetime[μs]</td><td>f64</td><td>str</td></tr></thead><tbody><tr><td>1</td><td>2025-01-01 00:00:00</td><td>5.0</td><td>&quot;c&quot;</td></tr><tr><td>2</td><td>2025-01-02 00:00:00</td><td>4.0</td><td>&quot;b&quot;</td></tr><tr><td>3</td><td>2025-01-03 00:00:00</td><td>6.0</td><td>&quot;a&quot;</td></tr></tbody></table></div>"
      ],
      "text/plain": [
       "shape: (3, 4)\n",
       "┌─────────┬─────────────────────┬───────┬────────┐\n",
       "│ integer ┆ date                ┆ float ┆ string │\n",
       "│ ---     ┆ ---                 ┆ ---   ┆ ---    │\n",
       "│ i64     ┆ datetime[μs]        ┆ f64   ┆ str    │\n",
       "╞═════════╪═════════════════════╪═══════╪════════╡\n",
       "│ 1       ┆ 2025-01-01 00:00:00 ┆ 5.0   ┆ c      │\n",
       "│ 2       ┆ 2025-01-02 00:00:00 ┆ 4.0   ┆ b      │\n",
       "│ 3       ┆ 2025-01-03 00:00:00 ┆ 6.0   ┆ a      │\n",
       "└─────────┴─────────────────────┴───────┴────────┘"
      ]
     },
     "execution_count": 30,
     "metadata": {},
     "output_type": "execute_result"
    }
   ],
   "source": [
    "df"
   ]
  },
  {
   "cell_type": "code",
   "execution_count": 31,
   "metadata": {},
   "outputs": [
    {
     "data": {
      "text/html": [
       "<div><style>\n",
       ".dataframe > thead > tr,\n",
       ".dataframe > tbody > tr {\n",
       "  text-align: right;\n",
       "  white-space: pre-wrap;\n",
       "}\n",
       "</style>\n",
       "<small>shape: (1, 4)</small><table border=\"1\" class=\"dataframe\"><thead><tr><th>integer</th><th>date</th><th>float</th><th>string</th></tr><tr><td>i64</td><td>datetime[μs]</td><td>f64</td><td>str</td></tr></thead><tbody><tr><td>1</td><td>2025-01-01 00:00:00</td><td>5.0</td><td>&quot;c&quot;</td></tr></tbody></table></div>"
      ],
      "text/plain": [
       "shape: (1, 4)\n",
       "┌─────────┬─────────────────────┬───────┬────────┐\n",
       "│ integer ┆ date                ┆ float ┆ string │\n",
       "│ ---     ┆ ---                 ┆ ---   ┆ ---    │\n",
       "│ i64     ┆ datetime[μs]        ┆ f64   ┆ str    │\n",
       "╞═════════╪═════════════════════╪═══════╪════════╡\n",
       "│ 1       ┆ 2025-01-01 00:00:00 ┆ 5.0   ┆ c      │\n",
       "└─────────┴─────────────────────┴───────┴────────┘"
      ]
     },
     "execution_count": 31,
     "metadata": {},
     "output_type": "execute_result"
    }
   ],
   "source": [
    "df[0]"
   ]
  },
  {
   "cell_type": "code",
   "execution_count": 32,
   "metadata": {},
   "outputs": [
    {
     "data": {
      "text/plain": [
       "3"
      ]
     },
     "execution_count": 32,
     "metadata": {},
     "output_type": "execute_result"
    }
   ],
   "source": [
    "df.__len__()"
   ]
  },
  {
   "cell_type": "code",
   "execution_count": 33,
   "metadata": {},
   "outputs": [
    {
     "data": {
      "text/html": [
       "<div><style>\n",
       ".dataframe > thead > tr,\n",
       ".dataframe > tbody > tr {\n",
       "  text-align: right;\n",
       "  white-space: pre-wrap;\n",
       "}\n",
       "</style>\n",
       "<small>shape: (1, 4)</small><table border=\"1\" class=\"dataframe\"><thead><tr><th>integer</th><th>date</th><th>float</th><th>string</th></tr><tr><td>i64</td><td>datetime[μs]</td><td>f64</td><td>str</td></tr></thead><tbody><tr><td>3</td><td>2025-01-03 00:00:00</td><td>6.0</td><td>&quot;a&quot;</td></tr></tbody></table></div>"
      ],
      "text/plain": [
       "shape: (1, 4)\n",
       "┌─────────┬─────────────────────┬───────┬────────┐\n",
       "│ integer ┆ date                ┆ float ┆ string │\n",
       "│ ---     ┆ ---                 ┆ ---   ┆ ---    │\n",
       "│ i64     ┆ datetime[μs]        ┆ f64   ┆ str    │\n",
       "╞═════════╪═════════════════════╪═══════╪════════╡\n",
       "│ 3       ┆ 2025-01-03 00:00:00 ┆ 6.0   ┆ a      │\n",
       "└─────────┴─────────────────────┴───────┴────────┘"
      ]
     },
     "execution_count": 33,
     "metadata": {},
     "output_type": "execute_result"
    }
   ],
   "source": [
    "df[-1]"
   ]
  },
  {
   "cell_type": "code",
   "execution_count": 34,
   "metadata": {},
   "outputs": [
    {
     "data": {
      "text/html": [
       "<div><style>\n",
       ".dataframe > thead > tr,\n",
       ".dataframe > tbody > tr {\n",
       "  text-align: right;\n",
       "  white-space: pre-wrap;\n",
       "}\n",
       "</style>\n",
       "<small>shape: (1, 4)</small><table border=\"1\" class=\"dataframe\"><thead><tr><th>integer</th><th>date</th><th>float</th><th>string</th></tr><tr><td>i64</td><td>datetime[μs]</td><td>f64</td><td>str</td></tr></thead><tbody><tr><td>3</td><td>2025-01-03 00:00:00</td><td>6.0</td><td>&quot;a&quot;</td></tr></tbody></table></div>"
      ],
      "text/plain": [
       "shape: (1, 4)\n",
       "┌─────────┬─────────────────────┬───────┬────────┐\n",
       "│ integer ┆ date                ┆ float ┆ string │\n",
       "│ ---     ┆ ---                 ┆ ---   ┆ ---    │\n",
       "│ i64     ┆ datetime[μs]        ┆ f64   ┆ str    │\n",
       "╞═════════╪═════════════════════╪═══════╪════════╡\n",
       "│ 3       ┆ 2025-01-03 00:00:00 ┆ 6.0   ┆ a      │\n",
       "└─────────┴─────────────────────┴───────┴────────┘"
      ]
     },
     "execution_count": 34,
     "metadata": {},
     "output_type": "execute_result"
    }
   ],
   "source": [
    "df.bottom_k(1,by=\"string\")"
   ]
  },
  {
   "cell_type": "code",
   "execution_count": 35,
   "metadata": {},
   "outputs": [
    {
     "data": {
      "text/html": [
       "<div><style>\n",
       ".dataframe > thead > tr,\n",
       ".dataframe > tbody > tr {\n",
       "  text-align: right;\n",
       "  white-space: pre-wrap;\n",
       "}\n",
       "</style>\n",
       "<small>shape: (1, 4)</small><table border=\"1\" class=\"dataframe\"><thead><tr><th>integer</th><th>date</th><th>float</th><th>string</th></tr><tr><td>i64</td><td>datetime[μs]</td><td>f64</td><td>str</td></tr></thead><tbody><tr><td>2</td><td>2025-01-02 00:00:00</td><td>4.0</td><td>&quot;b&quot;</td></tr></tbody></table></div>"
      ],
      "text/plain": [
       "shape: (1, 4)\n",
       "┌─────────┬─────────────────────┬───────┬────────┐\n",
       "│ integer ┆ date                ┆ float ┆ string │\n",
       "│ ---     ┆ ---                 ┆ ---   ┆ ---    │\n",
       "│ i64     ┆ datetime[μs]        ┆ f64   ┆ str    │\n",
       "╞═════════╪═════════════════════╪═══════╪════════╡\n",
       "│ 2       ┆ 2025-01-02 00:00:00 ┆ 4.0   ┆ b      │\n",
       "└─────────┴─────────────────────┴───────┴────────┘"
      ]
     },
     "execution_count": 35,
     "metadata": {},
     "output_type": "execute_result"
    }
   ],
   "source": [
    "df.bottom_k(1,by=\"float\")"
   ]
  },
  {
   "cell_type": "code",
   "execution_count": 44,
   "metadata": {},
   "outputs": [
    {
     "data": {
      "text/html": [
       "<div><style>\n",
       ".dataframe > thead > tr,\n",
       ".dataframe > tbody > tr {\n",
       "  text-align: right;\n",
       "  white-space: pre-wrap;\n",
       "}\n",
       "</style>\n",
       "<small>shape: (1, 4)</small><table border=\"1\" class=\"dataframe\"><thead><tr><th>integer</th><th>date</th><th>float</th><th>string</th></tr><tr><td>i64</td><td>datetime[μs]</td><td>f64</td><td>str</td></tr></thead><tbody><tr><td>1</td><td>2025-01-01 00:00:00</td><td>5.0</td><td>&quot;c&quot;</td></tr></tbody></table></div>"
      ],
      "text/plain": [
       "shape: (1, 4)\n",
       "┌─────────┬─────────────────────┬───────┬────────┐\n",
       "│ integer ┆ date                ┆ float ┆ string │\n",
       "│ ---     ┆ ---                 ┆ ---   ┆ ---    │\n",
       "│ i64     ┆ datetime[μs]        ┆ f64   ┆ str    │\n",
       "╞═════════╪═════════════════════╪═══════╪════════╡\n",
       "│ 1       ┆ 2025-01-01 00:00:00 ┆ 5.0   ┆ c      │\n",
       "└─────────┴─────────────────────┴───────┴────────┘"
      ]
     },
     "execution_count": 44,
     "metadata": {},
     "output_type": "execute_result"
    }
   ],
   "source": [
    "df.top_k(1,by=\"string\")"
   ]
  },
  {
   "cell_type": "code",
   "execution_count": 43,
   "metadata": {},
   "outputs": [
    {
     "data": {
      "text/html": [
       "<div><style>\n",
       ".dataframe > thead > tr,\n",
       ".dataframe > tbody > tr {\n",
       "  text-align: right;\n",
       "  white-space: pre-wrap;\n",
       "}\n",
       "</style>\n",
       "<small>shape: (1, 4)</small><table border=\"1\" class=\"dataframe\"><thead><tr><th>integer</th><th>date</th><th>float</th><th>string</th></tr><tr><td>i64</td><td>datetime[μs]</td><td>f64</td><td>str</td></tr></thead><tbody><tr><td>3</td><td>2025-01-03 00:00:00</td><td>6.0</td><td>&quot;a&quot;</td></tr></tbody></table></div>"
      ],
      "text/plain": [
       "shape: (1, 4)\n",
       "┌─────────┬─────────────────────┬───────┬────────┐\n",
       "│ integer ┆ date                ┆ float ┆ string │\n",
       "│ ---     ┆ ---                 ┆ ---   ┆ ---    │\n",
       "│ i64     ┆ datetime[μs]        ┆ f64   ┆ str    │\n",
       "╞═════════╪═════════════════════╪═══════╪════════╡\n",
       "│ 3       ┆ 2025-01-03 00:00:00 ┆ 6.0   ┆ a      │\n",
       "└─────────┴─────────────────────┴───────┴────────┘"
      ]
     },
     "execution_count": 43,
     "metadata": {},
     "output_type": "execute_result"
    }
   ],
   "source": [
    "df.top_k(1,by=\"string\",reverse=True)"
   ]
  },
  {
   "cell_type": "code",
   "execution_count": 66,
   "metadata": {},
   "outputs": [
    {
     "data": {
      "text/html": [
       "<div><style>\n",
       ".dataframe > thead > tr,\n",
       ".dataframe > tbody > tr {\n",
       "  text-align: right;\n",
       "  white-space: pre-wrap;\n",
       "}\n",
       "</style>\n",
       "<small>shape: (1, 4)</small><table border=\"1\" class=\"dataframe\"><thead><tr><th>integer</th><th>date</th><th>float</th><th>string</th></tr><tr><td>u32</td><td>u32</td><td>u32</td><td>u32</td></tr></thead><tbody><tr><td>3</td><td>3</td><td>3</td><td>3</td></tr></tbody></table></div>"
      ],
      "text/plain": [
       "shape: (1, 4)\n",
       "┌─────────┬──────┬───────┬────────┐\n",
       "│ integer ┆ date ┆ float ┆ string │\n",
       "│ ---     ┆ ---  ┆ ---   ┆ ---    │\n",
       "│ u32     ┆ u32  ┆ u32   ┆ u32    │\n",
       "╞═════════╪══════╪═══════╪════════╡\n",
       "│ 3       ┆ 3    ┆ 3     ┆ 3      │\n",
       "└─────────┴──────┴───────┴────────┘"
      ]
     },
     "execution_count": 66,
     "metadata": {},
     "output_type": "execute_result"
    }
   ],
   "source": [
    "# return number of non null values from each column\n",
    "df.count()"
   ]
  },
  {
   "cell_type": "code",
   "execution_count": 73,
   "metadata": {},
   "outputs": [
    {
     "data": {
      "text/plain": [
       "3"
      ]
     },
     "execution_count": 73,
     "metadata": {},
     "output_type": "execute_result"
    }
   ],
   "source": [
    "# return number of non null values from a specific column\n",
    "df['string'].count()"
   ]
  },
  {
   "cell_type": "code",
   "execution_count": 58,
   "metadata": {},
   "outputs": [
    {
     "name": "stdout",
     "output_type": "stream",
     "text": [
      "Column names -> df.columns :  ['integer', 'date', 'float', 'string']\n"
     ]
    }
   ],
   "source": [
    "print(\"Column names -> df.columns : \",df.columns)"
   ]
  },
  {
   "cell_type": "code",
   "execution_count": 65,
   "metadata": {},
   "outputs": [
    {
     "data": {
      "text/html": [
       "<div><style>\n",
       ".dataframe > thead > tr,\n",
       ".dataframe > tbody > tr {\n",
       "  text-align: right;\n",
       "  white-space: pre-wrap;\n",
       "}\n",
       "</style>\n",
       "<small>shape: (9, 5)</small><table border=\"1\" class=\"dataframe\"><thead><tr><th>statistic</th><th>integer</th><th>date</th><th>float</th><th>string</th></tr><tr><td>str</td><td>f64</td><td>str</td><td>f64</td><td>str</td></tr></thead><tbody><tr><td>&quot;count&quot;</td><td>3.0</td><td>&quot;3&quot;</td><td>3.0</td><td>&quot;3&quot;</td></tr><tr><td>&quot;null_count&quot;</td><td>0.0</td><td>&quot;0&quot;</td><td>0.0</td><td>&quot;0&quot;</td></tr><tr><td>&quot;mean&quot;</td><td>2.0</td><td>&quot;2025-01-02 00:00:00&quot;</td><td>5.0</td><td>null</td></tr><tr><td>&quot;std&quot;</td><td>1.0</td><td>null</td><td>1.0</td><td>null</td></tr><tr><td>&quot;min&quot;</td><td>1.0</td><td>&quot;2025-01-01 00:00:00&quot;</td><td>4.0</td><td>&quot;a&quot;</td></tr><tr><td>&quot;25%&quot;</td><td>2.0</td><td>&quot;2025-01-02 00:00:00&quot;</td><td>5.0</td><td>null</td></tr><tr><td>&quot;50%&quot;</td><td>2.0</td><td>&quot;2025-01-02 00:00:00&quot;</td><td>5.0</td><td>null</td></tr><tr><td>&quot;75%&quot;</td><td>3.0</td><td>&quot;2025-01-03 00:00:00&quot;</td><td>6.0</td><td>null</td></tr><tr><td>&quot;max&quot;</td><td>3.0</td><td>&quot;2025-01-03 00:00:00&quot;</td><td>6.0</td><td>&quot;c&quot;</td></tr></tbody></table></div>"
      ],
      "text/plain": [
       "shape: (9, 5)\n",
       "┌────────────┬─────────┬─────────────────────┬───────┬────────┐\n",
       "│ statistic  ┆ integer ┆ date                ┆ float ┆ string │\n",
       "│ ---        ┆ ---     ┆ ---                 ┆ ---   ┆ ---    │\n",
       "│ str        ┆ f64     ┆ str                 ┆ f64   ┆ str    │\n",
       "╞════════════╪═════════╪═════════════════════╪═══════╪════════╡\n",
       "│ count      ┆ 3.0     ┆ 3                   ┆ 3.0   ┆ 3      │\n",
       "│ null_count ┆ 0.0     ┆ 0                   ┆ 0.0   ┆ 0      │\n",
       "│ mean       ┆ 2.0     ┆ 2025-01-02 00:00:00 ┆ 5.0   ┆ null   │\n",
       "│ std        ┆ 1.0     ┆ null                ┆ 1.0   ┆ null   │\n",
       "│ min        ┆ 1.0     ┆ 2025-01-01 00:00:00 ┆ 4.0   ┆ a      │\n",
       "│ 25%        ┆ 2.0     ┆ 2025-01-02 00:00:00 ┆ 5.0   ┆ null   │\n",
       "│ 50%        ┆ 2.0     ┆ 2025-01-02 00:00:00 ┆ 5.0   ┆ null   │\n",
       "│ 75%        ┆ 3.0     ┆ 2025-01-03 00:00:00 ┆ 6.0   ┆ null   │\n",
       "│ max        ┆ 3.0     ┆ 2025-01-03 00:00:00 ┆ 6.0   ┆ c      │\n",
       "└────────────┴─────────┴─────────────────────┴───────┴────────┘"
      ]
     },
     "execution_count": 65,
     "metadata": {},
     "output_type": "execute_result"
    }
   ],
   "source": [
    "# describe the df\n",
    "df.describe()"
   ]
  },
  {
   "cell_type": "code",
   "execution_count": 51,
   "metadata": {},
   "outputs": [
    {
     "name": "stdout",
     "output_type": "stream",
     "text": [
      "Number of rows -> df.height :  3\n",
      "Number of columns -> df.width :  4\n"
     ]
    }
   ],
   "source": [
    "print(\"Number of rows -> df.height : \", df.height)\n",
    "print(\"Number of columns -> df.width : \", df.width)"
   ]
  },
  {
   "cell_type": "code",
   "execution_count": 56,
   "metadata": {},
   "outputs": [
    {
     "name": "stdout",
     "output_type": "stream",
     "text": [
      "Shape of dataframe -> df.shape :  (3, 4)\n"
     ]
    }
   ],
   "source": [
    "print(\"Shape of dataframe -> df.shape : \" ,df.shape)"
   ]
  },
  {
   "cell_type": "code",
   "execution_count": 60,
   "metadata": {},
   "outputs": [
    {
     "data": {
      "text/html": [
       "<div><style>\n",
       ".dataframe > thead > tr,\n",
       ".dataframe > tbody > tr {\n",
       "  text-align: right;\n",
       "  white-space: pre-wrap;\n",
       "}\n",
       "</style>\n",
       "<small>shape: (2, 4)</small><table border=\"1\" class=\"dataframe\"><thead><tr><th>integer</th><th>date</th><th>float</th><th>string</th></tr><tr><td>i64</td><td>datetime[μs]</td><td>f64</td><td>str</td></tr></thead><tbody><tr><td>1</td><td>2025-01-01 00:00:00</td><td>5.0</td><td>&quot;c&quot;</td></tr><tr><td>2</td><td>2025-01-02 00:00:00</td><td>4.0</td><td>&quot;b&quot;</td></tr></tbody></table></div>"
      ],
      "text/plain": [
       "shape: (2, 4)\n",
       "┌─────────┬─────────────────────┬───────┬────────┐\n",
       "│ integer ┆ date                ┆ float ┆ string │\n",
       "│ ---     ┆ ---                 ┆ ---   ┆ ---    │\n",
       "│ i64     ┆ datetime[μs]        ┆ f64   ┆ str    │\n",
       "╞═════════╪═════════════════════╪═══════╪════════╡\n",
       "│ 1       ┆ 2025-01-01 00:00:00 ┆ 5.0   ┆ c      │\n",
       "│ 2       ┆ 2025-01-02 00:00:00 ┆ 4.0   ┆ b      │\n",
       "└─────────┴─────────────────────┴───────┴────────┘"
      ]
     },
     "execution_count": 60,
     "metadata": {},
     "output_type": "execute_result"
    }
   ],
   "source": [
    "# display first n rows\n",
    "df.head(2)"
   ]
  },
  {
   "cell_type": "code",
   "execution_count": 61,
   "metadata": {},
   "outputs": [
    {
     "data": {
      "text/html": [
       "<div><style>\n",
       ".dataframe > thead > tr,\n",
       ".dataframe > tbody > tr {\n",
       "  text-align: right;\n",
       "  white-space: pre-wrap;\n",
       "}\n",
       "</style>\n",
       "<small>shape: (1, 4)</small><table border=\"1\" class=\"dataframe\"><thead><tr><th>integer</th><th>date</th><th>float</th><th>string</th></tr><tr><td>i64</td><td>datetime[μs]</td><td>f64</td><td>str</td></tr></thead><tbody><tr><td>1</td><td>2025-01-01 00:00:00</td><td>5.0</td><td>&quot;c&quot;</td></tr></tbody></table></div>"
      ],
      "text/plain": [
       "shape: (1, 4)\n",
       "┌─────────┬─────────────────────┬───────┬────────┐\n",
       "│ integer ┆ date                ┆ float ┆ string │\n",
       "│ ---     ┆ ---                 ┆ ---   ┆ ---    │\n",
       "│ i64     ┆ datetime[μs]        ┆ f64   ┆ str    │\n",
       "╞═════════╪═════════════════════╪═══════╪════════╡\n",
       "│ 1       ┆ 2025-01-01 00:00:00 ┆ 5.0   ┆ c      │\n",
       "└─────────┴─────────────────────┴───────┴────────┘"
      ]
     },
     "execution_count": 61,
     "metadata": {},
     "output_type": "execute_result"
    }
   ],
   "source": [
    "# skip last n rows\n",
    "df.head(-2)"
   ]
  },
  {
   "cell_type": "code",
   "execution_count": 62,
   "metadata": {},
   "outputs": [
    {
     "data": {
      "text/html": [
       "<div><style>\n",
       ".dataframe > thead > tr,\n",
       ".dataframe > tbody > tr {\n",
       "  text-align: right;\n",
       "  white-space: pre-wrap;\n",
       "}\n",
       "</style>\n",
       "<small>shape: (2, 4)</small><table border=\"1\" class=\"dataframe\"><thead><tr><th>integer</th><th>date</th><th>float</th><th>string</th></tr><tr><td>i64</td><td>datetime[μs]</td><td>f64</td><td>str</td></tr></thead><tbody><tr><td>2</td><td>2025-01-02 00:00:00</td><td>4.0</td><td>&quot;b&quot;</td></tr><tr><td>3</td><td>2025-01-03 00:00:00</td><td>6.0</td><td>&quot;a&quot;</td></tr></tbody></table></div>"
      ],
      "text/plain": [
       "shape: (2, 4)\n",
       "┌─────────┬─────────────────────┬───────┬────────┐\n",
       "│ integer ┆ date                ┆ float ┆ string │\n",
       "│ ---     ┆ ---                 ┆ ---   ┆ ---    │\n",
       "│ i64     ┆ datetime[μs]        ┆ f64   ┆ str    │\n",
       "╞═════════╪═════════════════════╪═══════╪════════╡\n",
       "│ 2       ┆ 2025-01-02 00:00:00 ┆ 4.0   ┆ b      │\n",
       "│ 3       ┆ 2025-01-03 00:00:00 ┆ 6.0   ┆ a      │\n",
       "└─────────┴─────────────────────┴───────┴────────┘"
      ]
     },
     "execution_count": 62,
     "metadata": {},
     "output_type": "execute_result"
    }
   ],
   "source": [
    "# display last n rows\n",
    "df.tail(2)"
   ]
  },
  {
   "cell_type": "code",
   "execution_count": 63,
   "metadata": {},
   "outputs": [
    {
     "data": {
      "text/html": [
       "<div><style>\n",
       ".dataframe > thead > tr,\n",
       ".dataframe > tbody > tr {\n",
       "  text-align: right;\n",
       "  white-space: pre-wrap;\n",
       "}\n",
       "</style>\n",
       "<small>shape: (1, 4)</small><table border=\"1\" class=\"dataframe\"><thead><tr><th>integer</th><th>date</th><th>float</th><th>string</th></tr><tr><td>i64</td><td>datetime[μs]</td><td>f64</td><td>str</td></tr></thead><tbody><tr><td>3</td><td>2025-01-03 00:00:00</td><td>6.0</td><td>&quot;a&quot;</td></tr></tbody></table></div>"
      ],
      "text/plain": [
       "shape: (1, 4)\n",
       "┌─────────┬─────────────────────┬───────┬────────┐\n",
       "│ integer ┆ date                ┆ float ┆ string │\n",
       "│ ---     ┆ ---                 ┆ ---   ┆ ---    │\n",
       "│ i64     ┆ datetime[μs]        ┆ f64   ┆ str    │\n",
       "╞═════════╪═════════════════════╪═══════╪════════╡\n",
       "│ 3       ┆ 2025-01-03 00:00:00 ┆ 6.0   ┆ a      │\n",
       "└─────────┴─────────────────────┴───────┴────────┘"
      ]
     },
     "execution_count": 63,
     "metadata": {},
     "output_type": "execute_result"
    }
   ],
   "source": [
    "# skip first n rows\n",
    "df.tail(-2)"
   ]
  },
  {
   "cell_type": "code",
   "execution_count": 81,
   "metadata": {},
   "outputs": [
    {
     "data": {
      "text/html": [
       "<div><style>\n",
       ".dataframe > thead > tr,\n",
       ".dataframe > tbody > tr {\n",
       "  text-align: right;\n",
       "  white-space: pre-wrap;\n",
       "}\n",
       "</style>\n",
       "<small>shape: (3, 5)</small><table border=\"1\" class=\"dataframe\"><thead><tr><th>integer</th><th>date</th><th>float</th><th>string</th><th>test</th></tr><tr><td>i64</td><td>datetime[μs]</td><td>f64</td><td>str</td><td>i64</td></tr></thead><tbody><tr><td>1</td><td>2025-01-01 00:00:00</td><td>5.0</td><td>&quot;c&quot;</td><td>4</td></tr><tr><td>2</td><td>2025-01-02 00:00:00</td><td>4.0</td><td>&quot;b&quot;</td><td>7</td></tr><tr><td>3</td><td>2025-01-03 00:00:00</td><td>6.0</td><td>&quot;a&quot;</td><td>8</td></tr></tbody></table></div>"
      ],
      "text/plain": [
       "shape: (3, 5)\n",
       "┌─────────┬─────────────────────┬───────┬────────┬──────┐\n",
       "│ integer ┆ date                ┆ float ┆ string ┆ test │\n",
       "│ ---     ┆ ---                 ┆ ---   ┆ ---    ┆ ---  │\n",
       "│ i64     ┆ datetime[μs]        ┆ f64   ┆ str    ┆ i64  │\n",
       "╞═════════╪═════════════════════╪═══════╪════════╪══════╡\n",
       "│ 1       ┆ 2025-01-01 00:00:00 ┆ 5.0   ┆ c      ┆ 4    │\n",
       "│ 2       ┆ 2025-01-02 00:00:00 ┆ 4.0   ┆ b      ┆ 7    │\n",
       "│ 3       ┆ 2025-01-03 00:00:00 ┆ 6.0   ┆ a      ┆ 8    │\n",
       "└─────────┴─────────────────────┴───────┴────────┴──────┘"
      ]
     },
     "execution_count": 81,
     "metadata": {},
     "output_type": "execute_result"
    }
   ],
   "source": [
    "df.with_columns(pl.Series([4,7,8]).alias('test'))"
   ]
  },
  {
   "cell_type": "code",
   "execution_count": null,
   "metadata": {},
   "outputs": [],
   "source": [
    "df"
   ]
  }
 ],
 "metadata": {
  "kernelspec": {
   "display_name": "venv",
   "language": "python",
   "name": "python3"
  },
  "language_info": {
   "codemirror_mode": {
    "name": "ipython",
    "version": 3
   },
   "file_extension": ".py",
   "mimetype": "text/x-python",
   "name": "python",
   "nbconvert_exporter": "python",
   "pygments_lexer": "ipython3",
   "version": "3.9.13"
  }
 },
 "nbformat": 4,
 "nbformat_minor": 2
}
