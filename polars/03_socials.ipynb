{
 "cells": [
  {
   "cell_type": "code",
   "execution_count": 1,
   "metadata": {},
   "outputs": [],
   "source": [
    "import time\n",
    "start = time.time()"
   ]
  },
  {
   "cell_type": "code",
   "execution_count": 2,
   "metadata": {},
   "outputs": [],
   "source": [
    "import polars as pl\n",
    "import plotly.express as px\n",
    "import numpy as np"
   ]
  },
  {
   "cell_type": "markdown",
   "metadata": {},
   "source": [
    "![img](https://inforiver.com/wp-content/uploads/paired-column-charts-vs-marimekko-charts.png \"https://inforiver.com/wp-content/uploads/paired-column-charts-vs-marimekko-charts.png\")"
   ]
  },
  {
   "cell_type": "code",
   "execution_count": 180,
   "metadata": {},
   "outputs": [
    {
     "data": {
      "text/html": [
       "<div><style>\n",
       ".dataframe > thead > tr,\n",
       ".dataframe > tbody > tr {\n",
       "  text-align: right;\n",
       "  white-space: pre-wrap;\n",
       "}\n",
       "</style>\n",
       "<small>shape: (5, 6)</small><table border=\"1\" class=\"dataframe\"><thead><tr><th>Age Group</th><th>YouTube</th><th>Facebook</th><th>Instagram</th><th>Snapchat</th><th>Twitter</th></tr><tr><td>str</td><td>i64</td><td>i64</td><td>i64</td><td>i64</td><td>i64</td></tr></thead><tbody><tr><td>&quot;18-24 years&quot;</td><td>90</td><td>76</td><td>75</td><td>73</td><td>44</td></tr><tr><td>&quot;25-29 years&quot;</td><td>93</td><td>84</td><td>73</td><td>47</td><td>31</td></tr><tr><td>&quot;30-49 years&quot;</td><td>87</td><td>79</td><td>57</td><td>25</td><td>26</td></tr><tr><td>&quot;50-64 years&quot;</td><td>70</td><td>68</td><td>23</td><td>9</td><td>17</td></tr><tr><td>&quot;65+ years&quot;</td><td>38</td><td>46</td><td>8</td><td>3</td><td>7</td></tr></tbody></table></div>"
      ],
      "text/plain": [
       "shape: (5, 6)\n",
       "┌─────────────┬─────────┬──────────┬───────────┬──────────┬─────────┐\n",
       "│ Age Group   ┆ YouTube ┆ Facebook ┆ Instagram ┆ Snapchat ┆ Twitter │\n",
       "│ ---         ┆ ---     ┆ ---      ┆ ---       ┆ ---      ┆ ---     │\n",
       "│ str         ┆ i64     ┆ i64      ┆ i64       ┆ i64      ┆ i64     │\n",
       "╞═════════════╪═════════╪══════════╪═══════════╪══════════╪═════════╡\n",
       "│ 18-24 years ┆ 90      ┆ 76       ┆ 75        ┆ 73       ┆ 44      │\n",
       "│ 25-29 years ┆ 93      ┆ 84       ┆ 73        ┆ 47       ┆ 31      │\n",
       "│ 30-49 years ┆ 87      ┆ 79       ┆ 57        ┆ 25       ┆ 26      │\n",
       "│ 50-64 years ┆ 70      ┆ 68       ┆ 23        ┆ 9        ┆ 17      │\n",
       "│ 65+ years   ┆ 38      ┆ 46       ┆ 8         ┆ 3        ┆ 7       │\n",
       "└─────────────┴─────────┴──────────┴───────────┴──────────┴─────────┘"
      ]
     },
     "execution_count": 180,
     "metadata": {},
     "output_type": "execute_result"
    }
   ],
   "source": [
    "# source data based on the above image\n",
    "df0 = pl.DataFrame({\n",
    "                    \"Age Group\": [\"18-24 years\", \"25-29 years\", \"30-49 years\", \"50-64 years\", \"65+ years\"],\n",
    "                    \"YouTube\": [90, 93, 87, 70, 38],\n",
    "                    \"Facebook\": [76, 84, 79, 68, 46],\n",
    "                    \"Instagram\": [75, 73, 57, 23, 8],\n",
    "                    \"Snapchat\": [73, 47, 25, 9, 3],\n",
    "                    \"Twitter\": [44, 31, 26, 17, 7]\n",
    "                })\n",
    "df0"
   ]
  },
  {
   "cell_type": "code",
   "execution_count": 181,
   "metadata": {},
   "outputs": [
    {
     "data": {
      "text/plain": [
       "[{'Age Group': '18-24 years', 'Platform': 'YouTube', 'Percentage': 90},\n",
       " {'Age Group': '18-24 years', 'Platform': 'Facebook', 'Percentage': 76},\n",
       " {'Age Group': '18-24 years', 'Platform': 'Instagram', 'Percentage': 75},\n",
       " {'Age Group': '18-24 years', 'Platform': 'Snapchat', 'Percentage': 73},\n",
       " {'Age Group': '18-24 years', 'Platform': 'Twitter', 'Percentage': 44},\n",
       " {'Age Group': '25-29 years', 'Platform': 'YouTube', 'Percentage': 93},\n",
       " {'Age Group': '25-29 years', 'Platform': 'Facebook', 'Percentage': 84},\n",
       " {'Age Group': '25-29 years', 'Platform': 'Instagram', 'Percentage': 73},\n",
       " {'Age Group': '25-29 years', 'Platform': 'Snapchat', 'Percentage': 47},\n",
       " {'Age Group': '25-29 years', 'Platform': 'Twitter', 'Percentage': 31},\n",
       " {'Age Group': '30-49 years', 'Platform': 'YouTube', 'Percentage': 87},\n",
       " {'Age Group': '30-49 years', 'Platform': 'Facebook', 'Percentage': 79},\n",
       " {'Age Group': '30-49 years', 'Platform': 'Instagram', 'Percentage': 57},\n",
       " {'Age Group': '30-49 years', 'Platform': 'Snapchat', 'Percentage': 25},\n",
       " {'Age Group': '30-49 years', 'Platform': 'Twitter', 'Percentage': 26},\n",
       " {'Age Group': '50-64 years', 'Platform': 'YouTube', 'Percentage': 70},\n",
       " {'Age Group': '50-64 years', 'Platform': 'Facebook', 'Percentage': 68},\n",
       " {'Age Group': '50-64 years', 'Platform': 'Instagram', 'Percentage': 23},\n",
       " {'Age Group': '50-64 years', 'Platform': 'Snapchat', 'Percentage': 9},\n",
       " {'Age Group': '50-64 years', 'Platform': 'Twitter', 'Percentage': 17},\n",
       " {'Age Group': '65+ years', 'Platform': 'YouTube', 'Percentage': 38},\n",
       " {'Age Group': '65+ years', 'Platform': 'Facebook', 'Percentage': 46},\n",
       " {'Age Group': '65+ years', 'Platform': 'Instagram', 'Percentage': 8},\n",
       " {'Age Group': '65+ years', 'Platform': 'Snapchat', 'Percentage': 3},\n",
       " {'Age Group': '65+ years', 'Platform': 'Twitter', 'Percentage': 7}]"
      ]
     },
     "execution_count": 181,
     "metadata": {},
     "output_type": "execute_result"
    }
   ],
   "source": [
    "# format data as a list of numbers\n",
    "data = []\n",
    "for i in list(df0['Age Group']):\n",
    "    for j in df0.columns[1:]:\n",
    "        # append dict to a list\n",
    "        data.append({\"Age Group\" : i,\n",
    "                     \"Platform\" : j,\n",
    "                     \"Percentage\" : df0.filter(pl.col('Age Group')==i)[j].item()})\n",
    "data"
   ]
  },
  {
   "cell_type": "code",
   "execution_count": 183,
   "metadata": {},
   "outputs": [
    {
     "data": {
      "text/html": [
       "<div><style>\n",
       ".dataframe > thead > tr,\n",
       ".dataframe > tbody > tr {\n",
       "  text-align: right;\n",
       "  white-space: pre-wrap;\n",
       "}\n",
       "</style>\n",
       "<small>shape: (25, 3)</small><table border=\"1\" class=\"dataframe\"><thead><tr><th>Age Group</th><th>Platform</th><th>Percentage</th></tr><tr><td>str</td><td>str</td><td>i64</td></tr></thead><tbody><tr><td>&quot;18-24 years&quot;</td><td>&quot;YouTube&quot;</td><td>90</td></tr><tr><td>&quot;18-24 years&quot;</td><td>&quot;Facebook&quot;</td><td>76</td></tr><tr><td>&quot;18-24 years&quot;</td><td>&quot;Instagram&quot;</td><td>75</td></tr><tr><td>&quot;18-24 years&quot;</td><td>&quot;Snapchat&quot;</td><td>73</td></tr><tr><td>&quot;18-24 years&quot;</td><td>&quot;Twitter&quot;</td><td>44</td></tr><tr><td>&hellip;</td><td>&hellip;</td><td>&hellip;</td></tr><tr><td>&quot;65+ years&quot;</td><td>&quot;YouTube&quot;</td><td>38</td></tr><tr><td>&quot;65+ years&quot;</td><td>&quot;Facebook&quot;</td><td>46</td></tr><tr><td>&quot;65+ years&quot;</td><td>&quot;Instagram&quot;</td><td>8</td></tr><tr><td>&quot;65+ years&quot;</td><td>&quot;Snapchat&quot;</td><td>3</td></tr><tr><td>&quot;65+ years&quot;</td><td>&quot;Twitter&quot;</td><td>7</td></tr></tbody></table></div>"
      ],
      "text/plain": [
       "shape: (25, 3)\n",
       "┌─────────────┬───────────┬────────────┐\n",
       "│ Age Group   ┆ Platform  ┆ Percentage │\n",
       "│ ---         ┆ ---       ┆ ---        │\n",
       "│ str         ┆ str       ┆ i64        │\n",
       "╞═════════════╪═══════════╪════════════╡\n",
       "│ 18-24 years ┆ YouTube   ┆ 90         │\n",
       "│ 18-24 years ┆ Facebook  ┆ 76         │\n",
       "│ 18-24 years ┆ Instagram ┆ 75         │\n",
       "│ 18-24 years ┆ Snapchat  ┆ 73         │\n",
       "│ 18-24 years ┆ Twitter   ┆ 44         │\n",
       "│ …           ┆ …         ┆ …          │\n",
       "│ 65+ years   ┆ YouTube   ┆ 38         │\n",
       "│ 65+ years   ┆ Facebook  ┆ 46         │\n",
       "│ 65+ years   ┆ Instagram ┆ 8          │\n",
       "│ 65+ years   ┆ Snapchat  ┆ 3          │\n",
       "│ 65+ years   ┆ Twitter   ┆ 7          │\n",
       "└─────────────┴───────────┴────────────┘"
      ]
     },
     "execution_count": 183,
     "metadata": {},
     "output_type": "execute_result"
    }
   ],
   "source": [
    "df0 = pl.DataFrame(data)\n",
    "df0"
   ]
  },
  {
   "cell_type": "code",
   "execution_count": 290,
   "metadata": {},
   "outputs": [
    {
     "data": {
      "text/html": [
       "<div><style>\n",
       ".dataframe > thead > tr,\n",
       ".dataframe > tbody > tr {\n",
       "  text-align: right;\n",
       "  white-space: pre-wrap;\n",
       "}\n",
       "</style>\n",
       "<small>shape: (25, 5)</small><table border=\"1\" class=\"dataframe\"><thead><tr><th>Age Group</th><th>Platform</th><th>Percentage</th><th>Avg</th><th>Avg_right</th></tr><tr><td>str</td><td>str</td><td>i64</td><td>f64</td><td>f64</td></tr></thead><tbody><tr><td>&quot;18-24 years&quot;</td><td>&quot;YouTube&quot;</td><td>90</td><td>75.6</td><td>75.6</td></tr><tr><td>&quot;18-24 years&quot;</td><td>&quot;Facebook&quot;</td><td>76</td><td>70.6</td><td>70.6</td></tr><tr><td>&quot;18-24 years&quot;</td><td>&quot;Instagram&quot;</td><td>75</td><td>47.2</td><td>47.2</td></tr><tr><td>&quot;18-24 years&quot;</td><td>&quot;Snapchat&quot;</td><td>73</td><td>31.4</td><td>31.4</td></tr><tr><td>&quot;18-24 years&quot;</td><td>&quot;Twitter&quot;</td><td>44</td><td>25.0</td><td>25.0</td></tr><tr><td>&hellip;</td><td>&hellip;</td><td>&hellip;</td><td>&hellip;</td><td>&hellip;</td></tr><tr><td>&quot;65+ years&quot;</td><td>&quot;YouTube&quot;</td><td>38</td><td>75.6</td><td>75.6</td></tr><tr><td>&quot;65+ years&quot;</td><td>&quot;Facebook&quot;</td><td>46</td><td>70.6</td><td>70.6</td></tr><tr><td>&quot;65+ years&quot;</td><td>&quot;Instagram&quot;</td><td>8</td><td>47.2</td><td>47.2</td></tr><tr><td>&quot;65+ years&quot;</td><td>&quot;Snapchat&quot;</td><td>3</td><td>31.4</td><td>31.4</td></tr><tr><td>&quot;65+ years&quot;</td><td>&quot;Twitter&quot;</td><td>7</td><td>25.0</td><td>25.0</td></tr></tbody></table></div>"
      ],
      "text/plain": [
       "shape: (25, 5)\n",
       "┌─────────────┬───────────┬────────────┬──────┬───────────┐\n",
       "│ Age Group   ┆ Platform  ┆ Percentage ┆ Avg  ┆ Avg_right │\n",
       "│ ---         ┆ ---       ┆ ---        ┆ ---  ┆ ---       │\n",
       "│ str         ┆ str       ┆ i64        ┆ f64  ┆ f64       │\n",
       "╞═════════════╪═══════════╪════════════╪══════╪═══════════╡\n",
       "│ 18-24 years ┆ YouTube   ┆ 90         ┆ 75.6 ┆ 75.6      │\n",
       "│ 18-24 years ┆ Facebook  ┆ 76         ┆ 70.6 ┆ 70.6      │\n",
       "│ 18-24 years ┆ Instagram ┆ 75         ┆ 47.2 ┆ 47.2      │\n",
       "│ 18-24 years ┆ Snapchat  ┆ 73         ┆ 31.4 ┆ 31.4      │\n",
       "│ 18-24 years ┆ Twitter   ┆ 44         ┆ 25.0 ┆ 25.0      │\n",
       "│ …           ┆ …         ┆ …          ┆ …    ┆ …         │\n",
       "│ 65+ years   ┆ YouTube   ┆ 38         ┆ 75.6 ┆ 75.6      │\n",
       "│ 65+ years   ┆ Facebook  ┆ 46         ┆ 70.6 ┆ 70.6      │\n",
       "│ 65+ years   ┆ Instagram ┆ 8          ┆ 47.2 ┆ 47.2      │\n",
       "│ 65+ years   ┆ Snapchat  ┆ 3          ┆ 31.4 ┆ 31.4      │\n",
       "│ 65+ years   ┆ Twitter   ┆ 7          ┆ 25.0 ┆ 25.0      │\n",
       "└─────────────┴───────────┴────────────┴──────┴───────────┘"
      ]
     },
     "execution_count": 290,
     "metadata": {},
     "output_type": "execute_result"
    }
   ],
   "source": [
    "# get average across all ages for each Platform and add a new column\n",
    "df0 = df0.join(df0.group_by('Platform').agg(pl.col('Percentage').mean().alias('Avg')),on=['Platform'],how='left')\n",
    "df0"
   ]
  },
  {
   "cell_type": "code",
   "execution_count": 345,
   "metadata": {},
   "outputs": [
    {
     "data": {
      "application/vnd.plotly.v1+json": {
       "config": {
        "plotlyServerURL": "https://plot.ly"
       },
       "data": [
        {
         "alignmentgroup": "True",
         "cliponaxis": false,
         "hovertemplate": "Age Group=18-24 years<br>Platform=%{x}<br>Percentage=%{y}<extra></extra>",
         "legendgroup": "18-24 years",
         "marker": {
          "color": "#636efa",
          "pattern": {
           "shape": ""
          }
         },
         "name": "18-24 years",
         "offsetgroup": "18-24 years",
         "orientation": "v",
         "showlegend": true,
         "textangle": 0,
         "textfont": {
          "size": 10
         },
         "textposition": "outside",
         "texttemplate": "%{y}%",
         "type": "bar",
         "x": [
          "YouTube",
          "Facebook",
          "Instagram",
          "Snapchat",
          "Twitter"
         ],
         "xaxis": "x",
         "y": [
          90,
          76,
          75,
          73,
          44
         ],
         "yaxis": "y"
        },
        {
         "alignmentgroup": "True",
         "cliponaxis": false,
         "hovertemplate": "Age Group=25-29 years<br>Platform=%{x}<br>Percentage=%{y}<extra></extra>",
         "legendgroup": "25-29 years",
         "marker": {
          "color": "#EF553B",
          "pattern": {
           "shape": ""
          }
         },
         "name": "25-29 years",
         "offsetgroup": "25-29 years",
         "orientation": "v",
         "showlegend": true,
         "textangle": 0,
         "textfont": {
          "size": 10
         },
         "textposition": "outside",
         "texttemplate": "%{y}%",
         "type": "bar",
         "x": [
          "YouTube",
          "Facebook",
          "Instagram",
          "Snapchat",
          "Twitter"
         ],
         "xaxis": "x",
         "y": [
          93,
          84,
          73,
          47,
          31
         ],
         "yaxis": "y"
        },
        {
         "alignmentgroup": "True",
         "cliponaxis": false,
         "hovertemplate": "Age Group=30-49 years<br>Platform=%{x}<br>Percentage=%{y}<extra></extra>",
         "legendgroup": "30-49 years",
         "marker": {
          "color": "#00cc96",
          "pattern": {
           "shape": ""
          }
         },
         "name": "30-49 years",
         "offsetgroup": "30-49 years",
         "orientation": "v",
         "showlegend": true,
         "textangle": 0,
         "textfont": {
          "size": 10
         },
         "textposition": "outside",
         "texttemplate": "%{y}%",
         "type": "bar",
         "x": [
          "YouTube",
          "Facebook",
          "Instagram",
          "Snapchat",
          "Twitter"
         ],
         "xaxis": "x",
         "y": [
          87,
          79,
          57,
          25,
          26
         ],
         "yaxis": "y"
        },
        {
         "alignmentgroup": "True",
         "cliponaxis": false,
         "hovertemplate": "Age Group=50-64 years<br>Platform=%{x}<br>Percentage=%{y}<extra></extra>",
         "legendgroup": "50-64 years",
         "marker": {
          "color": "#ab63fa",
          "pattern": {
           "shape": ""
          }
         },
         "name": "50-64 years",
         "offsetgroup": "50-64 years",
         "orientation": "v",
         "showlegend": true,
         "textangle": 0,
         "textfont": {
          "size": 10
         },
         "textposition": "outside",
         "texttemplate": "%{y}%",
         "type": "bar",
         "x": [
          "YouTube",
          "Facebook",
          "Instagram",
          "Snapchat",
          "Twitter"
         ],
         "xaxis": "x",
         "y": [
          70,
          68,
          23,
          9,
          17
         ],
         "yaxis": "y"
        },
        {
         "alignmentgroup": "True",
         "cliponaxis": false,
         "hovertemplate": "Age Group=65+ years<br>Platform=%{x}<br>Percentage=%{y}<extra></extra>",
         "legendgroup": "65+ years",
         "marker": {
          "color": "#FFA15A",
          "pattern": {
           "shape": ""
          }
         },
         "name": "65+ years",
         "offsetgroup": "65+ years",
         "orientation": "v",
         "showlegend": true,
         "textangle": 0,
         "textfont": {
          "size": 10
         },
         "textposition": "outside",
         "texttemplate": "%{y}%",
         "type": "bar",
         "x": [
          "YouTube",
          "Facebook",
          "Instagram",
          "Snapchat",
          "Twitter"
         ],
         "xaxis": "x",
         "y": [
          38,
          46,
          8,
          3,
          7
         ],
         "yaxis": "y"
        }
       ],
       "layout": {
        "bargap": 0.2,
        "barmode": "group",
        "legend": {
         "title": {
          "text": "Age Group"
         },
         "tracegroupgap": 0
        },
        "margin": {
         "t": 60
        },
        "paper_bgcolor": "rgba(255, 255, 255, 255)",
        "plot_bgcolor": "rgba(255, 255, 255, 255)",
        "template": {
         "data": {
          "bar": [
           {
            "error_x": {
             "color": "#2a3f5f"
            },
            "error_y": {
             "color": "#2a3f5f"
            },
            "marker": {
             "line": {
              "color": "#E5ECF6",
              "width": 0.5
             },
             "pattern": {
              "fillmode": "overlay",
              "size": 10,
              "solidity": 0.2
             }
            },
            "type": "bar"
           }
          ],
          "barpolar": [
           {
            "marker": {
             "line": {
              "color": "#E5ECF6",
              "width": 0.5
             },
             "pattern": {
              "fillmode": "overlay",
              "size": 10,
              "solidity": 0.2
             }
            },
            "type": "barpolar"
           }
          ],
          "carpet": [
           {
            "aaxis": {
             "endlinecolor": "#2a3f5f",
             "gridcolor": "white",
             "linecolor": "white",
             "minorgridcolor": "white",
             "startlinecolor": "#2a3f5f"
            },
            "baxis": {
             "endlinecolor": "#2a3f5f",
             "gridcolor": "white",
             "linecolor": "white",
             "minorgridcolor": "white",
             "startlinecolor": "#2a3f5f"
            },
            "type": "carpet"
           }
          ],
          "choropleth": [
           {
            "colorbar": {
             "outlinewidth": 0,
             "ticks": ""
            },
            "type": "choropleth"
           }
          ],
          "contour": [
           {
            "colorbar": {
             "outlinewidth": 0,
             "ticks": ""
            },
            "colorscale": [
             [
              0,
              "#0d0887"
             ],
             [
              0.1111111111111111,
              "#46039f"
             ],
             [
              0.2222222222222222,
              "#7201a8"
             ],
             [
              0.3333333333333333,
              "#9c179e"
             ],
             [
              0.4444444444444444,
              "#bd3786"
             ],
             [
              0.5555555555555556,
              "#d8576b"
             ],
             [
              0.6666666666666666,
              "#ed7953"
             ],
             [
              0.7777777777777778,
              "#fb9f3a"
             ],
             [
              0.8888888888888888,
              "#fdca26"
             ],
             [
              1,
              "#f0f921"
             ]
            ],
            "type": "contour"
           }
          ],
          "contourcarpet": [
           {
            "colorbar": {
             "outlinewidth": 0,
             "ticks": ""
            },
            "type": "contourcarpet"
           }
          ],
          "heatmap": [
           {
            "colorbar": {
             "outlinewidth": 0,
             "ticks": ""
            },
            "colorscale": [
             [
              0,
              "#0d0887"
             ],
             [
              0.1111111111111111,
              "#46039f"
             ],
             [
              0.2222222222222222,
              "#7201a8"
             ],
             [
              0.3333333333333333,
              "#9c179e"
             ],
             [
              0.4444444444444444,
              "#bd3786"
             ],
             [
              0.5555555555555556,
              "#d8576b"
             ],
             [
              0.6666666666666666,
              "#ed7953"
             ],
             [
              0.7777777777777778,
              "#fb9f3a"
             ],
             [
              0.8888888888888888,
              "#fdca26"
             ],
             [
              1,
              "#f0f921"
             ]
            ],
            "type": "heatmap"
           }
          ],
          "heatmapgl": [
           {
            "colorbar": {
             "outlinewidth": 0,
             "ticks": ""
            },
            "colorscale": [
             [
              0,
              "#0d0887"
             ],
             [
              0.1111111111111111,
              "#46039f"
             ],
             [
              0.2222222222222222,
              "#7201a8"
             ],
             [
              0.3333333333333333,
              "#9c179e"
             ],
             [
              0.4444444444444444,
              "#bd3786"
             ],
             [
              0.5555555555555556,
              "#d8576b"
             ],
             [
              0.6666666666666666,
              "#ed7953"
             ],
             [
              0.7777777777777778,
              "#fb9f3a"
             ],
             [
              0.8888888888888888,
              "#fdca26"
             ],
             [
              1,
              "#f0f921"
             ]
            ],
            "type": "heatmapgl"
           }
          ],
          "histogram": [
           {
            "marker": {
             "pattern": {
              "fillmode": "overlay",
              "size": 10,
              "solidity": 0.2
             }
            },
            "type": "histogram"
           }
          ],
          "histogram2d": [
           {
            "colorbar": {
             "outlinewidth": 0,
             "ticks": ""
            },
            "colorscale": [
             [
              0,
              "#0d0887"
             ],
             [
              0.1111111111111111,
              "#46039f"
             ],
             [
              0.2222222222222222,
              "#7201a8"
             ],
             [
              0.3333333333333333,
              "#9c179e"
             ],
             [
              0.4444444444444444,
              "#bd3786"
             ],
             [
              0.5555555555555556,
              "#d8576b"
             ],
             [
              0.6666666666666666,
              "#ed7953"
             ],
             [
              0.7777777777777778,
              "#fb9f3a"
             ],
             [
              0.8888888888888888,
              "#fdca26"
             ],
             [
              1,
              "#f0f921"
             ]
            ],
            "type": "histogram2d"
           }
          ],
          "histogram2dcontour": [
           {
            "colorbar": {
             "outlinewidth": 0,
             "ticks": ""
            },
            "colorscale": [
             [
              0,
              "#0d0887"
             ],
             [
              0.1111111111111111,
              "#46039f"
             ],
             [
              0.2222222222222222,
              "#7201a8"
             ],
             [
              0.3333333333333333,
              "#9c179e"
             ],
             [
              0.4444444444444444,
              "#bd3786"
             ],
             [
              0.5555555555555556,
              "#d8576b"
             ],
             [
              0.6666666666666666,
              "#ed7953"
             ],
             [
              0.7777777777777778,
              "#fb9f3a"
             ],
             [
              0.8888888888888888,
              "#fdca26"
             ],
             [
              1,
              "#f0f921"
             ]
            ],
            "type": "histogram2dcontour"
           }
          ],
          "mesh3d": [
           {
            "colorbar": {
             "outlinewidth": 0,
             "ticks": ""
            },
            "type": "mesh3d"
           }
          ],
          "parcoords": [
           {
            "line": {
             "colorbar": {
              "outlinewidth": 0,
              "ticks": ""
             }
            },
            "type": "parcoords"
           }
          ],
          "pie": [
           {
            "automargin": true,
            "type": "pie"
           }
          ],
          "scatter": [
           {
            "fillpattern": {
             "fillmode": "overlay",
             "size": 10,
             "solidity": 0.2
            },
            "type": "scatter"
           }
          ],
          "scatter3d": [
           {
            "line": {
             "colorbar": {
              "outlinewidth": 0,
              "ticks": ""
             }
            },
            "marker": {
             "colorbar": {
              "outlinewidth": 0,
              "ticks": ""
             }
            },
            "type": "scatter3d"
           }
          ],
          "scattercarpet": [
           {
            "marker": {
             "colorbar": {
              "outlinewidth": 0,
              "ticks": ""
             }
            },
            "type": "scattercarpet"
           }
          ],
          "scattergeo": [
           {
            "marker": {
             "colorbar": {
              "outlinewidth": 0,
              "ticks": ""
             }
            },
            "type": "scattergeo"
           }
          ],
          "scattergl": [
           {
            "marker": {
             "colorbar": {
              "outlinewidth": 0,
              "ticks": ""
             }
            },
            "type": "scattergl"
           }
          ],
          "scattermapbox": [
           {
            "marker": {
             "colorbar": {
              "outlinewidth": 0,
              "ticks": ""
             }
            },
            "type": "scattermapbox"
           }
          ],
          "scatterpolar": [
           {
            "marker": {
             "colorbar": {
              "outlinewidth": 0,
              "ticks": ""
             }
            },
            "type": "scatterpolar"
           }
          ],
          "scatterpolargl": [
           {
            "marker": {
             "colorbar": {
              "outlinewidth": 0,
              "ticks": ""
             }
            },
            "type": "scatterpolargl"
           }
          ],
          "scatterternary": [
           {
            "marker": {
             "colorbar": {
              "outlinewidth": 0,
              "ticks": ""
             }
            },
            "type": "scatterternary"
           }
          ],
          "surface": [
           {
            "colorbar": {
             "outlinewidth": 0,
             "ticks": ""
            },
            "colorscale": [
             [
              0,
              "#0d0887"
             ],
             [
              0.1111111111111111,
              "#46039f"
             ],
             [
              0.2222222222222222,
              "#7201a8"
             ],
             [
              0.3333333333333333,
              "#9c179e"
             ],
             [
              0.4444444444444444,
              "#bd3786"
             ],
             [
              0.5555555555555556,
              "#d8576b"
             ],
             [
              0.6666666666666666,
              "#ed7953"
             ],
             [
              0.7777777777777778,
              "#fb9f3a"
             ],
             [
              0.8888888888888888,
              "#fdca26"
             ],
             [
              1,
              "#f0f921"
             ]
            ],
            "type": "surface"
           }
          ],
          "table": [
           {
            "cells": {
             "fill": {
              "color": "#EBF0F8"
             },
             "line": {
              "color": "white"
             }
            },
            "header": {
             "fill": {
              "color": "#C8D4E3"
             },
             "line": {
              "color": "white"
             }
            },
            "type": "table"
           }
          ]
         },
         "layout": {
          "annotationdefaults": {
           "arrowcolor": "#2a3f5f",
           "arrowhead": 0,
           "arrowwidth": 1
          },
          "autotypenumbers": "strict",
          "coloraxis": {
           "colorbar": {
            "outlinewidth": 0,
            "ticks": ""
           }
          },
          "colorscale": {
           "diverging": [
            [
             0,
             "#8e0152"
            ],
            [
             0.1,
             "#c51b7d"
            ],
            [
             0.2,
             "#de77ae"
            ],
            [
             0.3,
             "#f1b6da"
            ],
            [
             0.4,
             "#fde0ef"
            ],
            [
             0.5,
             "#f7f7f7"
            ],
            [
             0.6,
             "#e6f5d0"
            ],
            [
             0.7,
             "#b8e186"
            ],
            [
             0.8,
             "#7fbc41"
            ],
            [
             0.9,
             "#4d9221"
            ],
            [
             1,
             "#276419"
            ]
           ],
           "sequential": [
            [
             0,
             "#0d0887"
            ],
            [
             0.1111111111111111,
             "#46039f"
            ],
            [
             0.2222222222222222,
             "#7201a8"
            ],
            [
             0.3333333333333333,
             "#9c179e"
            ],
            [
             0.4444444444444444,
             "#bd3786"
            ],
            [
             0.5555555555555556,
             "#d8576b"
            ],
            [
             0.6666666666666666,
             "#ed7953"
            ],
            [
             0.7777777777777778,
             "#fb9f3a"
            ],
            [
             0.8888888888888888,
             "#fdca26"
            ],
            [
             1,
             "#f0f921"
            ]
           ],
           "sequentialminus": [
            [
             0,
             "#0d0887"
            ],
            [
             0.1111111111111111,
             "#46039f"
            ],
            [
             0.2222222222222222,
             "#7201a8"
            ],
            [
             0.3333333333333333,
             "#9c179e"
            ],
            [
             0.4444444444444444,
             "#bd3786"
            ],
            [
             0.5555555555555556,
             "#d8576b"
            ],
            [
             0.6666666666666666,
             "#ed7953"
            ],
            [
             0.7777777777777778,
             "#fb9f3a"
            ],
            [
             0.8888888888888888,
             "#fdca26"
            ],
            [
             1,
             "#f0f921"
            ]
           ]
          },
          "colorway": [
           "#636efa",
           "#EF553B",
           "#00cc96",
           "#ab63fa",
           "#FFA15A",
           "#19d3f3",
           "#FF6692",
           "#B6E880",
           "#FF97FF",
           "#FECB52"
          ],
          "font": {
           "color": "#2a3f5f"
          },
          "geo": {
           "bgcolor": "white",
           "lakecolor": "white",
           "landcolor": "#E5ECF6",
           "showlakes": true,
           "showland": true,
           "subunitcolor": "white"
          },
          "hoverlabel": {
           "align": "left"
          },
          "hovermode": "closest",
          "mapbox": {
           "style": "light"
          },
          "paper_bgcolor": "white",
          "plot_bgcolor": "#E5ECF6",
          "polar": {
           "angularaxis": {
            "gridcolor": "white",
            "linecolor": "white",
            "ticks": ""
           },
           "bgcolor": "#E5ECF6",
           "radialaxis": {
            "gridcolor": "white",
            "linecolor": "white",
            "ticks": ""
           }
          },
          "scene": {
           "xaxis": {
            "backgroundcolor": "#E5ECF6",
            "gridcolor": "white",
            "gridwidth": 2,
            "linecolor": "white",
            "showbackground": true,
            "ticks": "",
            "zerolinecolor": "white"
           },
           "yaxis": {
            "backgroundcolor": "#E5ECF6",
            "gridcolor": "white",
            "gridwidth": 2,
            "linecolor": "white",
            "showbackground": true,
            "ticks": "",
            "zerolinecolor": "white"
           },
           "zaxis": {
            "backgroundcolor": "#E5ECF6",
            "gridcolor": "white",
            "gridwidth": 2,
            "linecolor": "white",
            "showbackground": true,
            "ticks": "",
            "zerolinecolor": "white"
           }
          },
          "shapedefaults": {
           "line": {
            "color": "#2a3f5f"
           }
          },
          "ternary": {
           "aaxis": {
            "gridcolor": "white",
            "linecolor": "white",
            "ticks": ""
           },
           "baxis": {
            "gridcolor": "white",
            "linecolor": "white",
            "ticks": ""
           },
           "bgcolor": "#E5ECF6",
           "caxis": {
            "gridcolor": "white",
            "linecolor": "white",
            "ticks": ""
           }
          },
          "title": {
           "x": 0.05
          },
          "xaxis": {
           "automargin": true,
           "gridcolor": "white",
           "linecolor": "white",
           "ticks": "",
           "title": {
            "standoff": 15
           },
           "zerolinecolor": "white",
           "zerolinewidth": 2
          },
          "yaxis": {
           "automargin": true,
           "gridcolor": "white",
           "linecolor": "white",
           "ticks": "",
           "title": {
            "standoff": 15
           },
           "zerolinecolor": "white",
           "zerolinewidth": 2
          }
         }
        },
        "xaxis": {
         "anchor": "y",
         "domain": [
          0,
          1
         ],
         "showticklabels": true,
         "tickfont": {
          "size": 16
         },
         "title": {
          "text": ""
         }
        },
        "yaxis": {
         "anchor": "x",
         "domain": [
          0,
          1
         ],
         "title": {
          "text": "Percentage"
         },
         "visible": false
        }
       }
      }
     },
     "metadata": {},
     "output_type": "display_data"
    }
   ],
   "source": [
    "bar_gap = 0.2\n",
    "fig = px.bar(df0,x='Platform',y='Percentage',color='Age Group',barmode='group', text_auto=True)\n",
    "fig.update_traces(textfont_size=10, textangle=0, textposition=\"outside\", texttemplate='%{y}%' ,cliponaxis=False)\n",
    "fig.update_layout({'plot_bgcolor': 'rgba(255, 255, 255, 255)','paper_bgcolor': 'rgba(255, 255, 255, 255)'},\n",
    "                  yaxis_visible=False,xaxis_showticklabels=True,xaxis_title='',xaxis=dict(tickfont=dict(size=16)),bargap=bar_gap)\n",
    "fig.show()"
   ]
  },
  {
   "cell_type": "code",
   "execution_count": 346,
   "metadata": {},
   "outputs": [],
   "source": [
    "x_count = df0['Platform'].n_unique()\n",
    "total_width = 1/x_count\n",
    "# The relative starting position of each bar (i.e., considering the width of the chart as 1)\n",
    "bar_starts = np.cumsum([total_width] * x_count) - 1 / x_count - 0.01\n"
   ]
  },
  {
   "cell_type": "code",
   "execution_count": 347,
   "metadata": {},
   "outputs": [
    {
     "data": {
      "text/plain": [
       "{'YouTube': 75.6,\n",
       " 'Facebook': 70.6,\n",
       " 'Instagram': 47.2,\n",
       " 'Snapchat': 31.4,\n",
       " 'Twitter': 25.0}"
      ]
     },
     "execution_count": 347,
     "metadata": {},
     "output_type": "execute_result"
    }
   ],
   "source": [
    "dict_avg = dict(df0.group_by('Platform').agg(pl.col('Percentage').mean().alias('Avg')).sort(by='Avg',descending=True).iter_rows())\n",
    "dict_avg"
   ]
  },
  {
   "cell_type": "code",
   "execution_count": 348,
   "metadata": {},
   "outputs": [
    {
     "data": {
      "application/vnd.plotly.v1+json": {
       "config": {
        "plotlyServerURL": "https://plot.ly"
       },
       "data": [
        {
         "alignmentgroup": "True",
         "cliponaxis": false,
         "hovertemplate": "Age Group=18-24 years<br>Platform=%{x}<br>Percentage=%{y}<extra></extra>",
         "legendgroup": "18-24 years",
         "marker": {
          "color": "#636efa",
          "pattern": {
           "shape": ""
          }
         },
         "name": "18-24 years",
         "offsetgroup": "18-24 years",
         "orientation": "v",
         "showlegend": true,
         "textangle": 0,
         "textfont": {
          "size": 10
         },
         "textposition": "outside",
         "texttemplate": "%{y}%",
         "type": "bar",
         "x": [
          "YouTube",
          "Facebook",
          "Instagram",
          "Snapchat",
          "Twitter"
         ],
         "xaxis": "x",
         "y": [
          90,
          76,
          75,
          73,
          44
         ],
         "yaxis": "y"
        },
        {
         "alignmentgroup": "True",
         "cliponaxis": false,
         "hovertemplate": "Age Group=25-29 years<br>Platform=%{x}<br>Percentage=%{y}<extra></extra>",
         "legendgroup": "25-29 years",
         "marker": {
          "color": "#EF553B",
          "pattern": {
           "shape": ""
          }
         },
         "name": "25-29 years",
         "offsetgroup": "25-29 years",
         "orientation": "v",
         "showlegend": true,
         "textangle": 0,
         "textfont": {
          "size": 10
         },
         "textposition": "outside",
         "texttemplate": "%{y}%",
         "type": "bar",
         "x": [
          "YouTube",
          "Facebook",
          "Instagram",
          "Snapchat",
          "Twitter"
         ],
         "xaxis": "x",
         "y": [
          93,
          84,
          73,
          47,
          31
         ],
         "yaxis": "y"
        },
        {
         "alignmentgroup": "True",
         "cliponaxis": false,
         "hovertemplate": "Age Group=30-49 years<br>Platform=%{x}<br>Percentage=%{y}<extra></extra>",
         "legendgroup": "30-49 years",
         "marker": {
          "color": "#00cc96",
          "pattern": {
           "shape": ""
          }
         },
         "name": "30-49 years",
         "offsetgroup": "30-49 years",
         "orientation": "v",
         "showlegend": true,
         "textangle": 0,
         "textfont": {
          "size": 10
         },
         "textposition": "outside",
         "texttemplate": "%{y}%",
         "type": "bar",
         "x": [
          "YouTube",
          "Facebook",
          "Instagram",
          "Snapchat",
          "Twitter"
         ],
         "xaxis": "x",
         "y": [
          87,
          79,
          57,
          25,
          26
         ],
         "yaxis": "y"
        },
        {
         "alignmentgroup": "True",
         "cliponaxis": false,
         "hovertemplate": "Age Group=50-64 years<br>Platform=%{x}<br>Percentage=%{y}<extra></extra>",
         "legendgroup": "50-64 years",
         "marker": {
          "color": "#ab63fa",
          "pattern": {
           "shape": ""
          }
         },
         "name": "50-64 years",
         "offsetgroup": "50-64 years",
         "orientation": "v",
         "showlegend": true,
         "textangle": 0,
         "textfont": {
          "size": 10
         },
         "textposition": "outside",
         "texttemplate": "%{y}%",
         "type": "bar",
         "x": [
          "YouTube",
          "Facebook",
          "Instagram",
          "Snapchat",
          "Twitter"
         ],
         "xaxis": "x",
         "y": [
          70,
          68,
          23,
          9,
          17
         ],
         "yaxis": "y"
        },
        {
         "alignmentgroup": "True",
         "cliponaxis": false,
         "hovertemplate": "Age Group=65+ years<br>Platform=%{x}<br>Percentage=%{y}<extra></extra>",
         "legendgroup": "65+ years",
         "marker": {
          "color": "#FFA15A",
          "pattern": {
           "shape": ""
          }
         },
         "name": "65+ years",
         "offsetgroup": "65+ years",
         "orientation": "v",
         "showlegend": true,
         "textangle": 0,
         "textfont": {
          "size": 10
         },
         "textposition": "outside",
         "texttemplate": "%{y}%",
         "type": "bar",
         "x": [
          "YouTube",
          "Facebook",
          "Instagram",
          "Snapchat",
          "Twitter"
         ],
         "xaxis": "x",
         "y": [
          38,
          46,
          8,
          3,
          7
         ],
         "yaxis": "y"
        },
        {
         "dx": 1,
         "mode": "text",
         "showlegend": false,
         "text": [
          "75.6",
          "70.6",
          "47.2",
          "31.4",
          "25.0"
         ],
         "textposition": "top right",
         "type": "scatter",
         "x0": "YouTube",
         "y": [
          77.6,
          72.6,
          49.2,
          33.4,
          27
         ]
        }
       ],
       "layout": {
        "bargap": 0.2,
        "barmode": "group",
        "legend": {
         "title": {
          "text": "Age Group"
         },
         "tracegroupgap": 0
        },
        "margin": {
         "t": 60
        },
        "paper_bgcolor": "rgba(255, 255, 255, 255)",
        "plot_bgcolor": "rgba(255, 255, 255, 255)",
        "shapes": [
         {
          "line": {
           "color": "grey",
           "width": 2
          },
          "type": "line",
          "x0": 0.010000000000000004,
          "x1": 0.19000000000000003,
          "xref": "paper",
          "y0": 75.6,
          "y1": 75.6,
          "yref": "y"
         },
         {
          "line": {
           "color": "grey",
           "width": 2
          },
          "type": "line",
          "x0": 0.21000000000000002,
          "x1": 0.39000000000000007,
          "xref": "paper",
          "y0": 70.6,
          "y1": 70.6,
          "yref": "y"
         },
         {
          "line": {
           "color": "grey",
           "width": 2
          },
          "type": "line",
          "x0": 0.4100000000000001,
          "x1": 0.5900000000000001,
          "xref": "paper",
          "y0": 47.2,
          "y1": 47.2,
          "yref": "y"
         },
         {
          "line": {
           "color": "grey",
           "width": 2
          },
          "type": "line",
          "x0": 0.6100000000000001,
          "x1": 0.7900000000000001,
          "xref": "paper",
          "y0": 31.4,
          "y1": 31.4,
          "yref": "y"
         },
         {
          "line": {
           "color": "grey",
           "width": 2
          },
          "type": "line",
          "x0": 0.81,
          "x1": 0.9900000000000001,
          "xref": "paper",
          "y0": 25,
          "y1": 25,
          "yref": "y"
         }
        ],
        "template": {
         "data": {
          "bar": [
           {
            "error_x": {
             "color": "#2a3f5f"
            },
            "error_y": {
             "color": "#2a3f5f"
            },
            "marker": {
             "line": {
              "color": "#E5ECF6",
              "width": 0.5
             },
             "pattern": {
              "fillmode": "overlay",
              "size": 10,
              "solidity": 0.2
             }
            },
            "type": "bar"
           }
          ],
          "barpolar": [
           {
            "marker": {
             "line": {
              "color": "#E5ECF6",
              "width": 0.5
             },
             "pattern": {
              "fillmode": "overlay",
              "size": 10,
              "solidity": 0.2
             }
            },
            "type": "barpolar"
           }
          ],
          "carpet": [
           {
            "aaxis": {
             "endlinecolor": "#2a3f5f",
             "gridcolor": "white",
             "linecolor": "white",
             "minorgridcolor": "white",
             "startlinecolor": "#2a3f5f"
            },
            "baxis": {
             "endlinecolor": "#2a3f5f",
             "gridcolor": "white",
             "linecolor": "white",
             "minorgridcolor": "white",
             "startlinecolor": "#2a3f5f"
            },
            "type": "carpet"
           }
          ],
          "choropleth": [
           {
            "colorbar": {
             "outlinewidth": 0,
             "ticks": ""
            },
            "type": "choropleth"
           }
          ],
          "contour": [
           {
            "colorbar": {
             "outlinewidth": 0,
             "ticks": ""
            },
            "colorscale": [
             [
              0,
              "#0d0887"
             ],
             [
              0.1111111111111111,
              "#46039f"
             ],
             [
              0.2222222222222222,
              "#7201a8"
             ],
             [
              0.3333333333333333,
              "#9c179e"
             ],
             [
              0.4444444444444444,
              "#bd3786"
             ],
             [
              0.5555555555555556,
              "#d8576b"
             ],
             [
              0.6666666666666666,
              "#ed7953"
             ],
             [
              0.7777777777777778,
              "#fb9f3a"
             ],
             [
              0.8888888888888888,
              "#fdca26"
             ],
             [
              1,
              "#f0f921"
             ]
            ],
            "type": "contour"
           }
          ],
          "contourcarpet": [
           {
            "colorbar": {
             "outlinewidth": 0,
             "ticks": ""
            },
            "type": "contourcarpet"
           }
          ],
          "heatmap": [
           {
            "colorbar": {
             "outlinewidth": 0,
             "ticks": ""
            },
            "colorscale": [
             [
              0,
              "#0d0887"
             ],
             [
              0.1111111111111111,
              "#46039f"
             ],
             [
              0.2222222222222222,
              "#7201a8"
             ],
             [
              0.3333333333333333,
              "#9c179e"
             ],
             [
              0.4444444444444444,
              "#bd3786"
             ],
             [
              0.5555555555555556,
              "#d8576b"
             ],
             [
              0.6666666666666666,
              "#ed7953"
             ],
             [
              0.7777777777777778,
              "#fb9f3a"
             ],
             [
              0.8888888888888888,
              "#fdca26"
             ],
             [
              1,
              "#f0f921"
             ]
            ],
            "type": "heatmap"
           }
          ],
          "heatmapgl": [
           {
            "colorbar": {
             "outlinewidth": 0,
             "ticks": ""
            },
            "colorscale": [
             [
              0,
              "#0d0887"
             ],
             [
              0.1111111111111111,
              "#46039f"
             ],
             [
              0.2222222222222222,
              "#7201a8"
             ],
             [
              0.3333333333333333,
              "#9c179e"
             ],
             [
              0.4444444444444444,
              "#bd3786"
             ],
             [
              0.5555555555555556,
              "#d8576b"
             ],
             [
              0.6666666666666666,
              "#ed7953"
             ],
             [
              0.7777777777777778,
              "#fb9f3a"
             ],
             [
              0.8888888888888888,
              "#fdca26"
             ],
             [
              1,
              "#f0f921"
             ]
            ],
            "type": "heatmapgl"
           }
          ],
          "histogram": [
           {
            "marker": {
             "pattern": {
              "fillmode": "overlay",
              "size": 10,
              "solidity": 0.2
             }
            },
            "type": "histogram"
           }
          ],
          "histogram2d": [
           {
            "colorbar": {
             "outlinewidth": 0,
             "ticks": ""
            },
            "colorscale": [
             [
              0,
              "#0d0887"
             ],
             [
              0.1111111111111111,
              "#46039f"
             ],
             [
              0.2222222222222222,
              "#7201a8"
             ],
             [
              0.3333333333333333,
              "#9c179e"
             ],
             [
              0.4444444444444444,
              "#bd3786"
             ],
             [
              0.5555555555555556,
              "#d8576b"
             ],
             [
              0.6666666666666666,
              "#ed7953"
             ],
             [
              0.7777777777777778,
              "#fb9f3a"
             ],
             [
              0.8888888888888888,
              "#fdca26"
             ],
             [
              1,
              "#f0f921"
             ]
            ],
            "type": "histogram2d"
           }
          ],
          "histogram2dcontour": [
           {
            "colorbar": {
             "outlinewidth": 0,
             "ticks": ""
            },
            "colorscale": [
             [
              0,
              "#0d0887"
             ],
             [
              0.1111111111111111,
              "#46039f"
             ],
             [
              0.2222222222222222,
              "#7201a8"
             ],
             [
              0.3333333333333333,
              "#9c179e"
             ],
             [
              0.4444444444444444,
              "#bd3786"
             ],
             [
              0.5555555555555556,
              "#d8576b"
             ],
             [
              0.6666666666666666,
              "#ed7953"
             ],
             [
              0.7777777777777778,
              "#fb9f3a"
             ],
             [
              0.8888888888888888,
              "#fdca26"
             ],
             [
              1,
              "#f0f921"
             ]
            ],
            "type": "histogram2dcontour"
           }
          ],
          "mesh3d": [
           {
            "colorbar": {
             "outlinewidth": 0,
             "ticks": ""
            },
            "type": "mesh3d"
           }
          ],
          "parcoords": [
           {
            "line": {
             "colorbar": {
              "outlinewidth": 0,
              "ticks": ""
             }
            },
            "type": "parcoords"
           }
          ],
          "pie": [
           {
            "automargin": true,
            "type": "pie"
           }
          ],
          "scatter": [
           {
            "fillpattern": {
             "fillmode": "overlay",
             "size": 10,
             "solidity": 0.2
            },
            "type": "scatter"
           }
          ],
          "scatter3d": [
           {
            "line": {
             "colorbar": {
              "outlinewidth": 0,
              "ticks": ""
             }
            },
            "marker": {
             "colorbar": {
              "outlinewidth": 0,
              "ticks": ""
             }
            },
            "type": "scatter3d"
           }
          ],
          "scattercarpet": [
           {
            "marker": {
             "colorbar": {
              "outlinewidth": 0,
              "ticks": ""
             }
            },
            "type": "scattercarpet"
           }
          ],
          "scattergeo": [
           {
            "marker": {
             "colorbar": {
              "outlinewidth": 0,
              "ticks": ""
             }
            },
            "type": "scattergeo"
           }
          ],
          "scattergl": [
           {
            "marker": {
             "colorbar": {
              "outlinewidth": 0,
              "ticks": ""
             }
            },
            "type": "scattergl"
           }
          ],
          "scattermapbox": [
           {
            "marker": {
             "colorbar": {
              "outlinewidth": 0,
              "ticks": ""
             }
            },
            "type": "scattermapbox"
           }
          ],
          "scatterpolar": [
           {
            "marker": {
             "colorbar": {
              "outlinewidth": 0,
              "ticks": ""
             }
            },
            "type": "scatterpolar"
           }
          ],
          "scatterpolargl": [
           {
            "marker": {
             "colorbar": {
              "outlinewidth": 0,
              "ticks": ""
             }
            },
            "type": "scatterpolargl"
           }
          ],
          "scatterternary": [
           {
            "marker": {
             "colorbar": {
              "outlinewidth": 0,
              "ticks": ""
             }
            },
            "type": "scatterternary"
           }
          ],
          "surface": [
           {
            "colorbar": {
             "outlinewidth": 0,
             "ticks": ""
            },
            "colorscale": [
             [
              0,
              "#0d0887"
             ],
             [
              0.1111111111111111,
              "#46039f"
             ],
             [
              0.2222222222222222,
              "#7201a8"
             ],
             [
              0.3333333333333333,
              "#9c179e"
             ],
             [
              0.4444444444444444,
              "#bd3786"
             ],
             [
              0.5555555555555556,
              "#d8576b"
             ],
             [
              0.6666666666666666,
              "#ed7953"
             ],
             [
              0.7777777777777778,
              "#fb9f3a"
             ],
             [
              0.8888888888888888,
              "#fdca26"
             ],
             [
              1,
              "#f0f921"
             ]
            ],
            "type": "surface"
           }
          ],
          "table": [
           {
            "cells": {
             "fill": {
              "color": "#EBF0F8"
             },
             "line": {
              "color": "white"
             }
            },
            "header": {
             "fill": {
              "color": "#C8D4E3"
             },
             "line": {
              "color": "white"
             }
            },
            "type": "table"
           }
          ]
         },
         "layout": {
          "annotationdefaults": {
           "arrowcolor": "#2a3f5f",
           "arrowhead": 0,
           "arrowwidth": 1
          },
          "autotypenumbers": "strict",
          "coloraxis": {
           "colorbar": {
            "outlinewidth": 0,
            "ticks": ""
           }
          },
          "colorscale": {
           "diverging": [
            [
             0,
             "#8e0152"
            ],
            [
             0.1,
             "#c51b7d"
            ],
            [
             0.2,
             "#de77ae"
            ],
            [
             0.3,
             "#f1b6da"
            ],
            [
             0.4,
             "#fde0ef"
            ],
            [
             0.5,
             "#f7f7f7"
            ],
            [
             0.6,
             "#e6f5d0"
            ],
            [
             0.7,
             "#b8e186"
            ],
            [
             0.8,
             "#7fbc41"
            ],
            [
             0.9,
             "#4d9221"
            ],
            [
             1,
             "#276419"
            ]
           ],
           "sequential": [
            [
             0,
             "#0d0887"
            ],
            [
             0.1111111111111111,
             "#46039f"
            ],
            [
             0.2222222222222222,
             "#7201a8"
            ],
            [
             0.3333333333333333,
             "#9c179e"
            ],
            [
             0.4444444444444444,
             "#bd3786"
            ],
            [
             0.5555555555555556,
             "#d8576b"
            ],
            [
             0.6666666666666666,
             "#ed7953"
            ],
            [
             0.7777777777777778,
             "#fb9f3a"
            ],
            [
             0.8888888888888888,
             "#fdca26"
            ],
            [
             1,
             "#f0f921"
            ]
           ],
           "sequentialminus": [
            [
             0,
             "#0d0887"
            ],
            [
             0.1111111111111111,
             "#46039f"
            ],
            [
             0.2222222222222222,
             "#7201a8"
            ],
            [
             0.3333333333333333,
             "#9c179e"
            ],
            [
             0.4444444444444444,
             "#bd3786"
            ],
            [
             0.5555555555555556,
             "#d8576b"
            ],
            [
             0.6666666666666666,
             "#ed7953"
            ],
            [
             0.7777777777777778,
             "#fb9f3a"
            ],
            [
             0.8888888888888888,
             "#fdca26"
            ],
            [
             1,
             "#f0f921"
            ]
           ]
          },
          "colorway": [
           "#636efa",
           "#EF553B",
           "#00cc96",
           "#ab63fa",
           "#FFA15A",
           "#19d3f3",
           "#FF6692",
           "#B6E880",
           "#FF97FF",
           "#FECB52"
          ],
          "font": {
           "color": "#2a3f5f"
          },
          "geo": {
           "bgcolor": "white",
           "lakecolor": "white",
           "landcolor": "#E5ECF6",
           "showlakes": true,
           "showland": true,
           "subunitcolor": "white"
          },
          "hoverlabel": {
           "align": "left"
          },
          "hovermode": "closest",
          "mapbox": {
           "style": "light"
          },
          "paper_bgcolor": "white",
          "plot_bgcolor": "#E5ECF6",
          "polar": {
           "angularaxis": {
            "gridcolor": "white",
            "linecolor": "white",
            "ticks": ""
           },
           "bgcolor": "#E5ECF6",
           "radialaxis": {
            "gridcolor": "white",
            "linecolor": "white",
            "ticks": ""
           }
          },
          "scene": {
           "xaxis": {
            "backgroundcolor": "#E5ECF6",
            "gridcolor": "white",
            "gridwidth": 2,
            "linecolor": "white",
            "showbackground": true,
            "ticks": "",
            "zerolinecolor": "white"
           },
           "yaxis": {
            "backgroundcolor": "#E5ECF6",
            "gridcolor": "white",
            "gridwidth": 2,
            "linecolor": "white",
            "showbackground": true,
            "ticks": "",
            "zerolinecolor": "white"
           },
           "zaxis": {
            "backgroundcolor": "#E5ECF6",
            "gridcolor": "white",
            "gridwidth": 2,
            "linecolor": "white",
            "showbackground": true,
            "ticks": "",
            "zerolinecolor": "white"
           }
          },
          "shapedefaults": {
           "line": {
            "color": "#2a3f5f"
           }
          },
          "ternary": {
           "aaxis": {
            "gridcolor": "white",
            "linecolor": "white",
            "ticks": ""
           },
           "baxis": {
            "gridcolor": "white",
            "linecolor": "white",
            "ticks": ""
           },
           "bgcolor": "#E5ECF6",
           "caxis": {
            "gridcolor": "white",
            "linecolor": "white",
            "ticks": ""
           }
          },
          "title": {
           "x": 0.05
          },
          "xaxis": {
           "automargin": true,
           "gridcolor": "white",
           "linecolor": "white",
           "ticks": "",
           "title": {
            "standoff": 15
           },
           "zerolinecolor": "white",
           "zerolinewidth": 2
          },
          "yaxis": {
           "automargin": true,
           "gridcolor": "white",
           "linecolor": "white",
           "ticks": "",
           "title": {
            "standoff": 15
           },
           "zerolinecolor": "white",
           "zerolinewidth": 2
          }
         }
        },
        "xaxis": {
         "anchor": "y",
         "domain": [
          0,
          1
         ],
         "showticklabels": true,
         "tickfont": {
          "size": 16
         },
         "title": {
          "text": ""
         }
        },
        "yaxis": {
         "anchor": "x",
         "domain": [
          0,
          1
         ],
         "title": {
          "text": "Percentage"
         },
         "visible": false
        }
       }
      }
     },
     "metadata": {},
     "output_type": "display_data"
    }
   ],
   "source": [
    "list_x1 = []\n",
    "for bs, ave in zip(bar_starts, list(dict_avg.values())):\n",
    "    line_st = bs + total_width * bar_gap / 2\n",
    "    fig.add_shape(\n",
    "        type='line',\n",
    "        x0=line_st,\n",
    "        y0=ave,\n",
    "        x1=line_st + total_width * (1 - bar_gap) + 0.02,\n",
    "        y1=ave,\n",
    "        line=dict(color=\"grey\", width=2),\n",
    "        xref='paper',  # relative x position\n",
    "        yref='y',  # exact y position as shown on the y-axis\n",
    "    )\n",
    "    list_x1.append(line_st + total_width * (1 - bar_gap))\n",
    "\n",
    "fig.add_trace(go.Scatter(\n",
    "    #x=list(dict_avg.keys()),\n",
    "    x0='YouTube', dx=1,\n",
    "    y=[i+2 for i in dict_avg.values()],\n",
    "    text=list(dict_avg.values()),\n",
    "    mode=\"text\",showlegend=False,textposition=\"top right\"\n",
    "))\n",
    "fig.show()\n",
    "fig.data = []"
   ]
  },
  {
   "cell_type": "code",
   "execution_count": null,
   "metadata": {},
   "outputs": [],
   "source": []
  }
 ],
 "metadata": {
  "kernelspec": {
   "display_name": "venv",
   "language": "python",
   "name": "python3"
  },
  "language_info": {
   "codemirror_mode": {
    "name": "ipython",
    "version": 3
   },
   "file_extension": ".py",
   "mimetype": "text/x-python",
   "name": "python",
   "nbconvert_exporter": "python",
   "pygments_lexer": "ipython3",
   "version": "3.9.13"
  }
 },
 "nbformat": 4,
 "nbformat_minor": 2
}
