{
 "cells": [
  {
   "cell_type": "code",
   "execution_count": 1,
   "metadata": {},
   "outputs": [],
   "source": [
    "import calculator\n",
    "import gc\n",
    "op = calculator.Math()"
   ]
  },
  {
   "cell_type": "code",
   "execution_count": 2,
   "metadata": {},
   "outputs": [
    {
     "name": "stdout",
     "output_type": "stream",
     "text": [
      "Succesful Addition without error\n",
      "8\n",
      "\n",
      "\n",
      "Unsuccessfull Subtraction without previous error\n",
      "[{'subtraction': 'error template #1'}]\n",
      "Successfull Multiplication with previous error and without ignoring error\n",
      "[{'subtraction': 'error template #1'}]\n",
      "\n",
      "\n",
      "Successfull Multiplication ater reset and without ignoring error\n",
      "28\n",
      "\n",
      "\n",
      "Subtraction with error\n",
      "[{'subtraction': 'error template #1'}]\n",
      "Unsuccessfull multiplication after ignoring error\n",
      "[{'subtraction': 'error template #1'}, {'multiplication': TypeError(\"can't multiply sequence by non-int of type 'str'\")}]\n",
      "\n",
      "\n"
     ]
    }
   ],
   "source": [
    "print(\"Succesful Addition without error\")\n",
    "op.addition(1,7)\n",
    "print(\"\\n\")\n",
    "\n",
    "print(\"Unsuccessfull Subtraction without previous error\")\n",
    "op.subtraction(\"a\",7)\n",
    "print(\"Successfull Multiplication with previous error and without ignoring error\")\n",
    "op.multiplication(4,7)\n",
    "print(\"\\n\")\n",
    "\n",
    "# reset the error state\n",
    "op.err.reset_state()\n",
    "print(\"Successfull Multiplication ater reset and without ignoring error\")\n",
    "op.multiplication(4,7)\n",
    "print(\"\\n\")\n",
    "\n",
    "print(\"Subtraction with error\")\n",
    "op.subtraction(\"a\",7)\n",
    "print(\"Unsuccessfull multiplication after ignoring error\")\n",
    "op.multiplication(\"4\",\"7\", ignore_error=True)\n",
    "op.err.reset_state()\n",
    "print(\"\\n\")\n"
   ]
  },
  {
   "cell_type": "code",
   "execution_count": 3,
   "metadata": {},
   "outputs": [
    {
     "data": {
      "text/plain": [
       "231"
      ]
     },
     "execution_count": 3,
     "metadata": {},
     "output_type": "execute_result"
    }
   ],
   "source": [
    "del op\n",
    "gc.collect()"
   ]
  }
 ],
 "metadata": {
  "kernelspec": {
   "display_name": "venv",
   "language": "python",
   "name": "python3"
  },
  "language_info": {
   "codemirror_mode": {
    "name": "ipython",
    "version": 3
   },
   "file_extension": ".py",
   "mimetype": "text/x-python",
   "name": "python",
   "nbconvert_exporter": "python",
   "pygments_lexer": "ipython3",
   "version": "3.9.13"
  },
  "orig_nbformat": 4,
  "vscode": {
   "interpreter": {
    "hash": "5bc9cc845a9aa0439b8b8617fb4127e1fb8baaa1d510dd38630984a7e966978e"
   }
  }
 },
 "nbformat": 4,
 "nbformat_minor": 2
}
